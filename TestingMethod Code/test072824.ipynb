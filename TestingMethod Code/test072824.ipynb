{
 "cells": [
  {
   "cell_type": "code",
   "execution_count": null,
   "metadata": {},
   "outputs": [],
   "source": [
    "import requests\n",
    "import os\n",
    "from dotenv import load_dotenv\n",
    "import pandas as pd\n",
    "import duckdb as ddb\n",
    "import time\n",
    "import datetime\n",
    "\n",
    "load_dotenv()\n",
    "api_key = os.getenv(\"Alpha_API\")\n",
    "con = ddb.connect('datadump.duckdb')"
   ]
  }
 ],
 "metadata": {
  "language_info": {
   "name": "python"
  }
 },
 "nbformat": 4,
 "nbformat_minor": 2
}
