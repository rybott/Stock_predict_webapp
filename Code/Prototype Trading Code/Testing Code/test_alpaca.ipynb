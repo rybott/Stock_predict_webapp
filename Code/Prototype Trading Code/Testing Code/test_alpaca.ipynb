{
 "cells": [
  {
   "cell_type": "markdown",
   "metadata": {},
   "source": [
    "# Testing Alpca API"
   ]
  },
  {
   "cell_type": "code",
   "execution_count": 2,
   "metadata": {},
   "outputs": [],
   "source": [
    "from alpaca.trading.requests import TrailingStopOrderRequest, MarketOrderRequest\n",
    "from alpaca.trading.enums import OrderSide, TimeInForce, OrderType\n",
    "from alpaca.trading.client import TradingClient"
   ]
  },
  {
   "cell_type": "code",
   "execution_count": 3,
   "metadata": {},
   "outputs": [],
   "source": [
    "# Please change the following to your own PAPER api key and secret\n",
    "# You can get them from https://alpaca.markets/\n",
    "\n",
    "api_key = \"PK4R84RBX16TQAMUDRCX\"\n",
    "secret_key = \"HYnb6zdd05sCFNtkeRDhHxzT4m9TKxxsqBYibWVX\"\n",
    "\n",
    "#### We use paper environment for this example ####\n",
    "paper = True # Please do not modify this. This example is for paper trading only.\n",
    "####\n",
    "\n",
    "# Below are the variables for development this documents\n",
    "# Please do not change these variables\n",
    "trade_api_url = None\n",
    "trade_api_wss = None\n",
    "data_api_url = None\n",
    "stream_data_wss = None\n",
    "\n",
    "# we will place orders for symbol: BTC/USD in this example\n",
    "symbol = \"BTC/USD\""
   ]
  },
  {
   "cell_type": "code",
   "execution_count": 12,
   "metadata": {},
   "outputs": [],
   "source": [
    "# setup clients\n",
    "trade_client = TradingClient(api_key=api_key, secret_key=secret_key, paper=True, url_override=trade_api_url)"
   ]
  },
  {
   "cell_type": "code",
   "execution_count": 19,
   "metadata": {},
   "outputs": [
    {
     "data": {
      "text/plain": [
       "{   'asset_class': <AssetClass.CRYPTO: 'crypto'>,\n",
       "    'asset_id': UUID('276e2673-764b-4ab6-a611-caf665ca6340'),\n",
       "    'canceled_at': None,\n",
       "    'client_order_id': '529c37b0-9fc6-4ecd-98bb-78d4a1b1536c',\n",
       "    'created_at': datetime.datetime(2024, 6, 13, 5, 34, 13, 828665, tzinfo=TzInfo(UTC)),\n",
       "    'expired_at': None,\n",
       "    'extended_hours': False,\n",
       "    'failed_at': None,\n",
       "    'filled_at': None,\n",
       "    'filled_avg_price': None,\n",
       "    'filled_qty': '0',\n",
       "    'hwm': None,\n",
       "    'id': UUID('97600dd8-3c82-4b26-a975-bd16e0120354'),\n",
       "    'legs': None,\n",
       "    'limit_price': None,\n",
       "    'notional': '1000',\n",
       "    'order_class': <OrderClass.SIMPLE: 'simple'>,\n",
       "    'order_type': <OrderType.MARKET: 'market'>,\n",
       "    'qty': None,\n",
       "    'replaced_at': None,\n",
       "    'replaced_by': None,\n",
       "    'replaces': None,\n",
       "    'side': <OrderSide.BUY: 'buy'>,\n",
       "    'status': <OrderStatus.PENDING_NEW: 'pending_new'>,\n",
       "    'stop_price': None,\n",
       "    'submitted_at': datetime.datetime(2024, 6, 13, 5, 34, 13, 828665, tzinfo=TzInfo(UTC)),\n",
       "    'symbol': 'BTC/USD',\n",
       "    'time_in_force': <TimeInForce.GTC: 'gtc'>,\n",
       "    'trail_percent': None,\n",
       "    'trail_price': None,\n",
       "    'type': <OrderType.MARKET: 'market'>,\n",
       "    'updated_at': datetime.datetime(2024, 6, 13, 5, 34, 13, 829941, tzinfo=TzInfo(UTC))}"
      ]
     },
     "execution_count": 19,
     "metadata": {},
     "output_type": "execute_result"
    }
   ],
   "source": [
    "# simple, market order, notional\n",
    "\n",
    "req = MarketOrderRequest(\n",
    "    symbol = symbol,\n",
    "    notional = 1000,  # notional is specified in USD, here we specify $1.11\n",
    "    side = OrderSide.BUY,\n",
    "    type = OrderType.MARKET,\n",
    "    time_in_force = TimeInForce.GTC,\n",
    ")\n",
    "res = trade_client.submit_order(req)\n",
    "res"
   ]
  },
  {
   "cell_type": "code",
   "execution_count": null,
   "metadata": {},
   "outputs": [],
   "source": [
    "import pandas as pd\n",
    "import ast\n",
    "\n",
    "with open('C:\\Design Folder\\RBGithub\\Stock_predict_webapp\\Code\\Prototype Trading Code\\data.txt', 'r') as file:\n",
    "    content = file.read()\n",
    "    Dict_list = ast.literal_eval(content)\n",
    "    for key in Dict_list[0].keys():\n",
    "        print(key)  "
   ]
  },
  {
   "cell_type": "code",
   "execution_count": null,
   "metadata": {},
   "outputs": [],
   "source": [
    "\n",
    "\n",
    "api_key = \"PKYBOP7WCHJG8U2UWBVB\"\n",
    "secret_key = \"WyL7X8v4OBkuFFT4urOPMLZ9EG88HBAFxWRsuRE5\"\n",
    "paper = True \n",
    "\n",
    "client = TradingClient(api_key=api_key, secret_key=secret_key, paper=paper, url_override=None)\n",
    "\n",
    "positions = client.get_all_positions()\n",
    "print(len(positions))\n",
    "\n",
    "Quantity = float(positions[0].qty)\n",
    "PL_percent = float(positions[0].unrealized_intraday_plpc)\n",
    "\n",
    "\n",
    "# If Loosing Money Close all Positions (Which is just BTC)\n",
    "req = MarketOrderRequest(\n",
    "symbol = symbol,\n",
    "qty = Quantity,\n",
    "side = OrderSide.SELL,\n",
    "type = OrderType.MARKET,\n",
    "time_in_force = TimeInForce.GTC)\n",
    "res = client.submit_order(req)\n",
    "\n",
    "print(res)"
   ]
  },
  {
   "cell_type": "code",
   "execution_count": 10,
   "metadata": {},
   "outputs": [
    {
     "name": "stdout",
     "output_type": "stream",
     "text": [
      "id=UUID('edf2b9f1-2601-4b72-a513-66c85f672770') client_order_id='f0822547-5085-4579-b5c8-6d6e5a758117' created_at=datetime.datetime(2024, 6, 20, 0, 55, 31, 177130, tzinfo=TzInfo(UTC)) updated_at=datetime.datetime(2024, 6, 20, 0, 55, 31, 177966, tzinfo=TzInfo(UTC)) submitted_at=datetime.datetime(2024, 6, 20, 0, 55, 31, 177130, tzinfo=TzInfo(UTC)) filled_at=None expired_at=None canceled_at=None failed_at=None replaced_at=None replaced_by=None replaces=None asset_id=UUID('276e2673-764b-4ab6-a611-caf665ca6340') symbol='BTC/USD' asset_class=<AssetClass.CRYPTO: 'crypto'> notional='10' qty=None filled_qty='0' filled_avg_price=None order_class=<OrderClass.SIMPLE: 'simple'> order_type=<OrderType.MARKET: 'market'> type=<OrderType.MARKET: 'market'> side=<OrderSide.BUY: 'buy'> time_in_force=<TimeInForce.GTC: 'gtc'> limit_price=None stop_price=None status=<OrderStatus.PENDING_NEW: 'pending_new'> extended_hours=False legs=None trail_percent=None trail_price=None hwm=None\n"
     ]
    }
   ],
   "source": [
    "from alpaca.trading.requests import TrailingStopOrderRequest, MarketOrderRequest, GetOrdersRequest, QueryOrderStatus\n",
    "from alpaca.trading.enums import OrderSide, TimeInForce, OrderType\n",
    "from alpaca.trading.client import TradingClient\n",
    "\n",
    "\n",
    "api_key = \"PKMGPKNX3NDBXYL7XKWG\"\n",
    "secret_key = \"nIatOFFhpZ5vtgFliQbWrKPTKNk6cZ4mNKNfKbBm\"\n",
    "paper = True \n",
    "\n",
    "client = TradingClient(api_key=api_key, secret_key=secret_key, paper=paper, url_override=None)\n",
    "\n",
    "'''\n",
    "positions = client.get_all_positions()\n",
    "print(len(positions))\n",
    "\n",
    "Quantity = float(positions[0].qty)\n",
    "PL_percent = float(positions[0].unrealized_intraday_plpc)\n",
    "'''\n",
    "\n",
    "# If Loosing Money Close all Positions (Which is just BTC)\n",
    "req = MarketOrderRequest(\n",
    "symbol = symbol,\n",
    "notional = 10,\n",
    "side = OrderSide.BUY,\n",
    "type = OrderType.MARKET,\n",
    "time_in_force = TimeInForce.GTC)\n",
    "res = client.submit_order(req)\n",
    "\n",
    "print(res)\n",
    "\n",
    ".0196"
   ]
  },
  {
   "cell_type": "code",
   "execution_count": null,
   "metadata": {},
   "outputs": [],
   "source": [
    "from alpaca.trading.requests import TrailingStopOrderRequest, MarketOrderRequest, GetOrdersRequest, QueryOrderStatus\n",
    "from alpaca.trading.enums import OrderSide, TimeInForce, OrderType\n",
    "from alpaca.trading.client import TradingClient\n",
    "\n",
    "api_key = \"PKMGPKNX3NDBXYL7XKWG\"\n",
    "secret_key = \"nIatOFFhpZ5vtgFliQbWrKPTKNk6cZ4mNKNfKbBm\"\n",
    "paper = True \n",
    "\n",
    "client = TradingClient(api_key=api_key, secret_key=secret_key, paper=paper, url_override=None)\n",
    "\n",
    "req = GetOrdersRequest(\n",
    "    status = QueryOrderStatus.ALL,\n",
    "    symbols = [symbol],\n",
    "    side = \"buy\")\n",
    "orders = client.get_orders(req)[0]\n",
    "orders"
   ]
  },
  {
   "cell_type": "code",
   "execution_count": null,
   "metadata": {},
   "outputs": [],
   "source": [
    "import pandas as pd\n",
    "\n",
    "CurrentOrders = pd.DataFrame(columns=[\"EntryTime\", \"Ticker\", \"PurchaseStockBasis\", \"PurchaseStockBasisActual\", \n",
    "                                      \"Quantity\", \"PurchasePrice\", \"Adj_StockBasis\", \"CurrentPrice\", \"Sell\"])\n",
    "        \n",
    "ticker = \"BTC/USD\"\n",
    "price = 10\n",
    "\n",
    "req = GetOrdersRequest(\n",
    "        status = QueryOrderStatus.ALL,\n",
    "        symbols = [ticker],\n",
    "        side = \"buy\")\n",
    "last_order = client.get_orders(req)[0]\n",
    "\n",
    "EntryTime = pd.Timestamp.now()\n",
    "symbol = ticker\n",
    "PurchaseStockBasis = price\n",
    "PurchaseStockBasisActual = float(last_order.filled_avg_price)\n",
    "quantity = float(last_order.filled_qty)\n",
    "PurchasePrice = float(last_order.notional)\n",
    "Adj_StockBasis = PurchaseStockBasisActual / quantity\n",
    "CurrentPrice = Adj_StockBasis\n",
    "Sell = False\n",
    "\n",
    "next_index = len(CurrentOrders)\n",
    "\n",
    "CurrentOrders.loc[next_index] = [EntryTime, symbol, PurchaseStockBasis, \n",
    "                                        PurchaseStockBasisActual, quantity,\n",
    "                                        PurchasePrice, Adj_StockBasis,\n",
    "                                        CurrentPrice,Sell]\n",
    "\n",
    "print(CurrentOrders.info())\n"
   ]
  },
  {
   "cell_type": "code",
   "execution_count": null,
   "metadata": {},
   "outputs": [],
   "source": [
    "import os\n",
    "from dotenv import load_dotenv\n",
    "\n",
    "load_dotenv()\n",
    "\n",
    "api_key = os.getenv(\"Alpaca_API\")\n",
    "secret_key = os.getenv(\"Alpaca_Secret\")\n",
    "paper = True \n",
    "\n",
    "client = TradingClient(api_key=api_key, secret_key=secret_key, paper=paper, url_override=None)\n",
    "\n",
    "\n",
    "ticker = \"BTC/USD\"\n",
    "price = 10\n",
    "\n",
    "req = GetOrdersRequest(\n",
    "        status = QueryOrderStatus.ALL,\n",
    "        symbols = [ticker],\n",
    "        side = \"buy\")\n",
    "last_order = client.get_orders(req)[0]\n",
    "\n",
    "req = GetOrdersRequest(\n",
    "    status = QueryOrderStatus.ALL,\n",
    "    symbols = [symbol],\n",
    "    side = \"buy\")\n",
    "orders = client.get_orders(req)[0]\n",
    "orders\n",
    "EntryTime = pd.Timestamp.now()\n",
    "symbol = ticker\n",
    "PurchaseStockBasis = price\n",
    "PurchaseStockBasisActual = float(last_order.filled_avg_price)\n",
    "quantity = float(last_order.filled_qty)\n",
    "PurchasePrice = float(last_order.notional)\n",
    "Adj_StockBasis = PurchaseStockBasisActual / quantity\n",
    "CurrentPrice = Adj_StockBasis\n",
    "Sell = False\n",
    "\n",
    "next_index = len(CurrentOrders)\n",
    "\n",
    "CurrentOrders.loc[next_index] = [EntryTime, symbol, PurchaseStockBasis, \n",
    "                                        PurchaseStockBasisActual, quantity,\n",
    "                                        PurchasePrice, Adj_StockBasis,\n",
    "                                        CurrentPrice,Sell]\n",
    "\n",
    "print(CurrentOrders.info())"
   ]
  },
  {
   "cell_type": "markdown",
   "metadata": {},
   "source": [
    "# Options"
   ]
  },
  {
   "cell_type": "code",
   "execution_count": 4,
   "metadata": {},
   "outputs": [
    {
     "ename": "NameError",
     "evalue": "name 'option_stream_data_wss' is not defined",
     "output_type": "error",
     "traceback": [
      "\u001b[1;31m---------------------------------------------------------------------------\u001b[0m",
      "\u001b[1;31mNameError\u001b[0m                                 Traceback (most recent call last)",
      "Cell \u001b[1;32mIn[4], line 24\u001b[0m\n\u001b[0;32m     20\u001b[0m api_key \u001b[38;5;241m=\u001b[39m os\u001b[38;5;241m.\u001b[39mgetenv(\u001b[38;5;124m\"\u001b[39m\u001b[38;5;124mAlpaca_API\u001b[39m\u001b[38;5;124m\"\u001b[39m)\n\u001b[0;32m     21\u001b[0m secret_key \u001b[38;5;241m=\u001b[39m os\u001b[38;5;241m.\u001b[39mgetenv(\u001b[38;5;124m\"\u001b[39m\u001b[38;5;124mAlpaca_Secret\u001b[39m\u001b[38;5;124m\"\u001b[39m)\n\u001b[1;32m---> 24\u001b[0m option_data_stream_client \u001b[38;5;241m=\u001b[39m OptionDataStream(api_key, secret_key, url_override \u001b[38;5;241m=\u001b[39m \u001b[43moption_stream_data_wss\u001b[49m)\n\u001b[0;32m     26\u001b[0m \u001b[38;5;28;01masync\u001b[39;00m \u001b[38;5;28;01mdef\u001b[39;00m \u001b[38;5;21moption_data_stream_handler\u001b[39m(data):\n\u001b[0;32m     27\u001b[0m     \u001b[38;5;28mprint\u001b[39m(data)\n",
      "\u001b[1;31mNameError\u001b[0m: name 'option_stream_data_wss' is not defined"
     ]
    }
   ],
   "source": [
    "import json\n",
    "from datetime import datetime, timedelta\n",
    "from zoneinfo import ZoneInfo\n",
    "\n",
    "import alpaca\n",
    "from alpaca.data.live.option import *\n",
    "from alpaca.data.historical.option import *\n",
    "from alpaca.data.requests import *\n",
    "from alpaca.data.timeframe import *\n",
    "from alpaca.trading.client import *\n",
    "from alpaca.trading.stream import *\n",
    "from alpaca.trading.requests import *\n",
    "from alpaca.trading.enums import *\n",
    "from alpaca.common.exceptions import APIError\n",
    "import os\n",
    "from dotenv import load_dotenv\n",
    "\n",
    "load_dotenv()\n",
    "\n",
    "api_key = os.getenv(\"Alpaca_API\")\n",
    "secret_key = os.getenv(\"Alpaca_Secret\")\n",
    "\n",
    "\n",
    "option_data_stream_client = OptionDataStream(api_key, secret_key, url_override = option_stream_data_wss)\n",
    "\n",
    "async def option_data_stream_handler(data):\n",
    "    print(data)\n",
    "\n",
    "symbols = [\n",
    "    high_open_interest_contract.symbol,\n",
    "]\n",
    "\n",
    "option_data_stream_client.subscribe_quotes(option_data_stream_handler, *symbols) \n",
    "option_data_stream_client.subscribe_trades(option_data_stream_handler, *symbols)\n",
    "\n",
    "option_data_stream_client.run()"
   ]
  }
 ],
 "metadata": {
  "kernelspec": {
   "display_name": "Python 3",
   "language": "python",
   "name": "python3"
  },
  "language_info": {
   "codemirror_mode": {
    "name": "ipython",
    "version": 3
   },
   "file_extension": ".py",
   "mimetype": "text/x-python",
   "name": "python",
   "nbconvert_exporter": "python",
   "pygments_lexer": "ipython3",
   "version": "3.11.9"
  }
 },
 "nbformat": 4,
 "nbformat_minor": 2
}
