{
  "cells": [
    {
      "cell_type": "markdown",
      "metadata": {
        "id": "AWZBBtU5fcZP"
      },
      "source": [
        "# Alpaca-py options trading basic"
      ]
    },
    {
      "cell_type": "markdown",
      "metadata": {
        "id": "PjLSkIOxfcZQ"
      },
      "source": [
        "[![Open In Colab](https://colab.research.google.com/assets/colab-badge.svg)](https://colab.research.google.com/github/alpacahq/alpaca-py/blob/master/examples/options-trading-basic.ipynb)"
      ]
    },
    {
      "cell_type": "markdown",
      "metadata": {
        "id": "RfSsNCzdfcZQ"
      },
      "source": [
        "- This notebook shows how to use alpaca-py with options trading API endpoints\n",
        "- Please use ``paper account``. Please ``DO NOT`` use this notebook with live account. In this notebook, we place orders for options as an example."
      ]
    },
    {
      "cell_type": "code",
      "execution_count": 2,
      "metadata": {
        "id": "IkJxNfGgfcZR"
      },
      "outputs": [],
      "source": [
        "# Please change the following to your own PAPER api key and secret\n",
        "# You can get them from https://alpaca.markets/\n",
        "import os\n",
        "from dotenv import load_dotenv\n",
        "\n",
        "\n",
        "\n",
        "api_key = os.getenv(\"Alpaca_API\")\n",
        "secret_key = os.getenv(\"Alpaca_Secret\")\n",
        "\n",
        "\n",
        "#### We use paper environment for this example ####\n",
        "paper = True # Please do not modify this. This example is for paper trading only.\n",
        "####\n",
        "\n",
        "# Below are the variables for development this documents\n",
        "# Please do not change these variables\n",
        "\n",
        "trade_api_url = None\n",
        "trade_api_wss = None\n",
        "data_api_url = None\n",
        "option_stream_data_wss = None"
      ]
    },
    {
      "cell_type": "code",
      "execution_count": null,
      "metadata": {
        "id": "n2RxcsgifcZR"
      },
      "outputs": [],
      "source": [
        "# install alpaca-py\n",
        "! python3 -m pip install alpaca-py"
      ]
    },
    {
      "cell_type": "code",
      "execution_count": 3,
      "metadata": {
        "id": "XyZdUPIvfcZS"
      },
      "outputs": [],
      "source": [
        "import json\n",
        "from datetime import datetime, timedelta\n",
        "from zoneinfo import ZoneInfo\n",
        "\n",
        "import alpaca\n",
        "from alpaca.data.live.option import *\n",
        "from alpaca.data.historical.option import *\n",
        "from alpaca.data.requests import *\n",
        "from alpaca.data.timeframe import *\n",
        "from alpaca.trading.client import *\n",
        "from alpaca.trading.stream import *\n",
        "from alpaca.trading.requests import *\n",
        "from alpaca.trading.enums import *\n",
        "from alpaca.common.exceptions import APIError"
      ]
    },
    {
      "cell_type": "code",
      "execution_count": 4,
      "metadata": {
        "id": "qLR6BQETtKBZ"
      },
      "outputs": [
        {
          "ename": "NameError",
          "evalue": "name 'high_open_interest_contract' is not defined",
          "output_type": "error",
          "traceback": [
            "\u001b[1;31m---------------------------------------------------------------------------\u001b[0m",
            "\u001b[1;31mNameError\u001b[0m                                 Traceback (most recent call last)",
            "Cell \u001b[1;32mIn[4], line 7\u001b[0m\n\u001b[0;32m      3\u001b[0m \u001b[38;5;28;01masync\u001b[39;00m \u001b[38;5;28;01mdef\u001b[39;00m \u001b[38;5;21moption_data_stream_handler\u001b[39m(data):\n\u001b[0;32m      4\u001b[0m     \u001b[38;5;28mprint\u001b[39m(data)\n\u001b[0;32m      6\u001b[0m symbols \u001b[38;5;241m=\u001b[39m [\n\u001b[1;32m----> 7\u001b[0m     \u001b[43mhigh_open_interest_contract\u001b[49m\u001b[38;5;241m.\u001b[39msymbol,\n\u001b[0;32m      8\u001b[0m ]\n\u001b[0;32m     10\u001b[0m option_data_stream_client\u001b[38;5;241m.\u001b[39msubscribe_quotes(option_data_stream_handler, \u001b[38;5;241m*\u001b[39msymbols)\n\u001b[0;32m     11\u001b[0m option_data_stream_client\u001b[38;5;241m.\u001b[39msubscribe_trades(option_data_stream_handler, \u001b[38;5;241m*\u001b[39msymbols)\n",
            "\u001b[1;31mNameError\u001b[0m: name 'high_open_interest_contract' is not defined"
          ]
        }
      ],
      "source": [
        "option_data_stream_client = OptionDataStream(api_key, secret_key, url_override = option_stream_data_wss)\n",
        "\n",
        "async def option_data_stream_handler(data):\n",
        "    print(data)\n",
        "\n",
        "symbols = [\n",
        "    high_open_interest_contract.symbol,\n",
        "]\n",
        "\n",
        "option_data_stream_client.subscribe_quotes(option_data_stream_handler, *symbols)\n",
        "option_data_stream_client.subscribe_trades(option_data_stream_handler, *symbols)\n",
        "\n",
        "option_data_stream_client.run()"
      ]
    },
    {
      "cell_type": "code",
      "execution_count": 5,
      "metadata": {
        "id": "EirvBBeBfcZS"
      },
      "outputs": [],
      "source": [
        "# to run async code in jupyter notebook\n",
        "import nest_asyncio\n",
        "nest_asyncio.apply()"
      ]
    },
    {
      "cell_type": "code",
      "execution_count": 6,
      "metadata": {
        "id": "mpPaVFRCfcZT"
      },
      "outputs": [
        {
          "data": {
            "text/plain": [
              "'0.21.2'"
            ]
          },
          "execution_count": 6,
          "metadata": {},
          "output_type": "execute_result"
        }
      ],
      "source": [
        "# check version of alpaca-py\n",
        "alpaca.__version__"
      ]
    },
    {
      "cell_type": "markdown",
      "metadata": {
        "id": "MEmrklnFfcZT"
      },
      "source": [
        "# Trading Client"
      ]
    },
    {
      "cell_type": "code",
      "execution_count": 7,
      "metadata": {
        "id": "BjKUF03AfcZU"
      },
      "outputs": [],
      "source": [
        "# setup clients\n",
        "trade_client = TradingClient(api_key=api_key, secret_key=secret_key, paper=paper, url_override=trade_api_url)"
      ]
    },
    {
      "cell_type": "code",
      "execution_count": 8,
      "metadata": {
        "id": "_8ntHxltfcZU"
      },
      "outputs": [
        {
          "data": {
            "text/plain": [
              "{   'account_blocked': False,\n",
              "    'account_number': 'PA3Q8GR8TAEW',\n",
              "    'accrued_fees': '0',\n",
              "    'buying_power': '199916.74',\n",
              "    'cash': '99958.37',\n",
              "    'created_at': datetime.datetime(2024, 6, 14, 4, 41, 51, 455752, tzinfo=TzInfo(UTC)),\n",
              "    'crypto_status': <AccountStatus.ACTIVE: 'ACTIVE'>,\n",
              "    'currency': 'USD',\n",
              "    'daytrade_count': 0,\n",
              "    'daytrading_buying_power': '0',\n",
              "    'equity': '99958.37',\n",
              "    'id': UUID('d4b89680-34c6-4dc4-a7ae-432105ff797c'),\n",
              "    'initial_margin': '0',\n",
              "    'last_equity': '99990.51',\n",
              "    'last_maintenance_margin': '0',\n",
              "    'long_market_value': '0',\n",
              "    'maintenance_margin': '0',\n",
              "    'multiplier': '2',\n",
              "    'non_marginable_buying_power': '99958.37',\n",
              "    'options_approved_level': 2,\n",
              "    'options_buying_power': '99958.37',\n",
              "    'options_trading_level': 2,\n",
              "    'pattern_day_trader': False,\n",
              "    'pending_transfer_in': '0',\n",
              "    'pending_transfer_out': None,\n",
              "    'portfolio_value': '99958.37',\n",
              "    'regt_buying_power': '199916.74',\n",
              "    'short_market_value': '0',\n",
              "    'shorting_enabled': True,\n",
              "    'sma': '99990.51',\n",
              "    'status': <AccountStatus.ACTIVE: 'ACTIVE'>,\n",
              "    'trade_suspended_by_user': False,\n",
              "    'trading_blocked': False,\n",
              "    'transfers_blocked': False}"
            ]
          },
          "execution_count": 8,
          "metadata": {},
          "output_type": "execute_result"
        }
      ],
      "source": [
        "# check trading account\n",
        "# There are trhee new columns in the account object:\n",
        "# - options_buying_power\n",
        "# - options_approved_level\n",
        "# - options_trading_level\n",
        "acct = trade_client.get_account()\n",
        "acct"
      ]
    },
    {
      "cell_type": "code",
      "execution_count": 9,
      "metadata": {
        "id": "ceGrNsrVfcZV"
      },
      "outputs": [
        {
          "data": {
            "text/plain": [
              "{   'dtbp_check': <DTBPCheck.ENTRY: 'entry'>,\n",
              "    'fractional_trading': True,\n",
              "    'max_margin_multiplier': '4',\n",
              "    'max_options_trading_level': None,\n",
              "    'no_shorting': False,\n",
              "    'pdt_check': <PDTCheck.ENTRY: 'entry'>,\n",
              "    'ptp_no_exception_entry': False,\n",
              "    'suspend_trade': False,\n",
              "    'trade_confirm_email': <TradeConfirmationEmail.ALL: 'all'>}"
            ]
          },
          "execution_count": 9,
          "metadata": {},
          "output_type": "execute_result"
        }
      ],
      "source": [
        "# check account configuration\n",
        "# - we have new field `max_options_trading_level`\n",
        "acct_config = trade_client.get_account_configurations()\n",
        "acct_config"
      ]
    },
    {
      "cell_type": "code",
      "execution_count": 10,
      "metadata": {
        "id": "UToIoMPvfcZV"
      },
      "outputs": [
        {
          "data": {
            "text/plain": [
              "[{   'asset_class': <AssetClass.US_EQUITY: 'us_equity'>,\n",
              "     'attributes': ['has_options'],\n",
              "     'easy_to_borrow': False,\n",
              "     'exchange': <AssetExchange.OTC: 'OTC'>,\n",
              "     'fractionable': False,\n",
              "     'id': UUID('1d9c8981-ae35-4747-b310-edb9ead5da52'),\n",
              "     'maintenance_margin_requirement': 100.0,\n",
              "     'marginable': False,\n",
              "     'min_order_size': None,\n",
              "     'min_trade_increment': None,\n",
              "     'name': 'TATTOOED CHEF INC Common Stock',\n",
              "     'price_increment': None,\n",
              "     'shortable': False,\n",
              "     'status': <AssetStatus.ACTIVE: 'active'>,\n",
              "     'symbol': 'TTCFQ',\n",
              "     'tradable': False},\n",
              " {   'asset_class': <AssetClass.US_EQUITY: 'us_equity'>,\n",
              "     'attributes': ['has_options'],\n",
              "     'easy_to_borrow': False,\n",
              "     'exchange': <AssetExchange.OTC: 'OTC'>,\n",
              "     'fractionable': False,\n",
              "     'id': UUID('0a42abd1-23be-489f-9a2b-03014ca6633e'),\n",
              "     'maintenance_margin_requirement': 100.0,\n",
              "     'marginable': False,\n",
              "     'min_order_size': None,\n",
              "     'min_trade_increment': None,\n",
              "     'name': 'ARRIVAL Common Shares',\n",
              "     'price_increment': None,\n",
              "     'shortable': False,\n",
              "     'status': <AssetStatus.ACTIVE: 'active'>,\n",
              "     'symbol': 'ARVLF',\n",
              "     'tradable': False}]"
            ]
          },
          "execution_count": 10,
          "metadata": {},
          "output_type": "execute_result"
        }
      ],
      "source": [
        "# get list of assets which are options enabled\n",
        "# - we can filter assets by `options_enabled` attribute\n",
        "# - asset object has `options_enabled` attribute if it is options enabled\n",
        "req = GetAssetsRequest(\n",
        "  attributes = \"options_enabled\"\n",
        ")\n",
        "assets = trade_client.get_all_assets(req)\n",
        "assets[:2]"
      ]
    },
    {
      "cell_type": "code",
      "execution_count": 11,
      "metadata": {
        "id": "ZoS6vceAfcZV"
      },
      "outputs": [
        {
          "data": {
            "text/plain": [
              "{   'next_page_token': 'Mg==',\n",
              "    'option_contracts': [   {   'close_price': '110.25',\n",
              "                                'close_price_date': datetime.date(2024, 6, 21),\n",
              "                                'expiration_date': datetime.date(2024, 6, 28),\n",
              "                                'id': '6aa07021-18dd-4ec7-b2e6-a4511120f1b8',\n",
              "                                'name': 'AAPL Jun 28 2024 100 Call',\n",
              "                                'open_interest': '7',\n",
              "                                'open_interest_date': datetime.date(2024, 6, 21),\n",
              "                                'root_symbol': 'AAPL',\n",
              "                                'size': '100',\n",
              "                                'status': <AssetStatus.ACTIVE: 'active'>,\n",
              "                                'strike_price': 100.0,\n",
              "                                'style': <ExerciseStyle.AMERICAN: 'american'>,\n",
              "                                'symbol': 'AAPL240628C00100000',\n",
              "                                'tradable': True,\n",
              "                                'type': <ContractType.CALL: 'call'>,\n",
              "                                'underlying_asset_id': UUID('b0b6dd9d-8b9b-48a9-ba46-b9d54906e415'),\n",
              "                                'underlying_symbol': 'AAPL'},\n",
              "                            {   'close_price': '110.11',\n",
              "                                'close_price_date': datetime.date(2024, 6, 12),\n",
              "                                'expiration_date': datetime.date(2024, 6, 28),\n",
              "                                'id': '7d1fb179-c1d1-424c-abb5-264aec789ce0',\n",
              "                                'name': 'AAPL Jun 28 2024 105 Call',\n",
              "                                'open_interest': '1',\n",
              "                                'open_interest_date': datetime.date(2024, 6, 21),\n",
              "                                'root_symbol': 'AAPL',\n",
              "                                'size': '100',\n",
              "                                'status': <AssetStatus.ACTIVE: 'active'>,\n",
              "                                'strike_price': 105.0,\n",
              "                                'style': <ExerciseStyle.AMERICAN: 'american'>,\n",
              "                                'symbol': 'AAPL240628C00105000',\n",
              "                                'tradable': True,\n",
              "                                'type': <ContractType.CALL: 'call'>,\n",
              "                                'underlying_asset_id': UUID('b0b6dd9d-8b9b-48a9-ba46-b9d54906e415'),\n",
              "                                'underlying_symbol': 'AAPL'}]}"
            ]
          },
          "execution_count": 11,
          "metadata": {},
          "output_type": "execute_result"
        }
      ],
      "source": [
        "# get list of options contracts for the given underlying symbol (e.g. SPY,AAPL)\n",
        "# - get_option_contracts() is a new method to get list of options contracts\n",
        "# - in this example, we get 2 options contracts for SPY,AAPL\n",
        "# - you can continue to fetch options contracts by specifying page_token from next_page_token of response\n",
        "underlying_symbols = [\"SPY\", \"AAPL\"]\n",
        "req = GetOptionContractsRequest(\n",
        "    underlying_symbols = underlying_symbols,               # specify underlying symbols\n",
        "    status = AssetStatus.ACTIVE,                           # specify asset status: active (default)\n",
        "    expiration_date = None,                                # specify expiration date (specified date + 1 day range)\n",
        "    expiration_date_gte = None,                            # we can pass date object\n",
        "    expiration_date_lte = None,                            # or string (YYYY-MM-DD)\n",
        "    root_symbol = None,                                    # specify root symbol\n",
        "    type = None,                                           # specify option type (ContractType.CALL or ContractType.PUT)\n",
        "    style = None,                                          # specify option style (ContractStyle.AMERICAN or ContractStyle.EUROPEAN)\n",
        "    strike_price_gte = None,                               # specify strike price range\n",
        "    strike_price_lte = None,                               # specify strike price range\n",
        "    limit = 2,                                             # specify limit\n",
        "    page_token = None,                                     # specify page token\n",
        ")\n",
        "res = trade_client.get_option_contracts(req)\n",
        "res"
      ]
    },
    {
      "cell_type": "code",
      "execution_count": null,
      "metadata": {
        "id": "mKKA5HSqfcZW"
      },
      "outputs": [],
      "source": [
        "# continue to fetch option contracts if there is next_page_token in response\n",
        "if res.next_page_token is not None:\n",
        "    req = GetOptionContractsRequest(\n",
        "        underlying_symbols = underlying_symbols,               # specify underlying symbols\n",
        "        status = AssetStatus.ACTIVE,                           # specify asset status: active (default)\n",
        "        expiration_date = None,                                # specify expiration date (specified date + 1 day range)\n",
        "        expiration_date_gte = None,                            # we can pass date object\n",
        "        expiration_date_lte = None,                            # or string (YYYY-MM-DD)\n",
        "        root_symbol = None,                                    # specify root symbol\n",
        "        type = None,                                           # specify option type (ContractType.CALL or ContractType.PUT)\n",
        "        style = None,                                          # specify option style (ContractStyle.AMERICAN or ContractStyle.EUROPEAN)\n",
        "        strike_price_gte = None,                               # specify strike price range\n",
        "        strike_price_lte = None,                               # specify strike price range\n",
        "        limit = 2,                                             # specify limit\n",
        "        page_token = res.next_page_token,                      # specify page token\n",
        "    )\n",
        "    res = trade_client.get_option_contracts(req)\n",
        "    display(res)"
      ]
    },
    {
      "cell_type": "code",
      "execution_count": 12,
      "metadata": {
        "id": "JJzmh8LUfcZW"
      },
      "outputs": [
        {
          "data": {
            "text/plain": [
              "{   'close_price': '110.25',\n",
              "    'close_price_date': datetime.date(2024, 6, 21),\n",
              "    'expiration_date': datetime.date(2024, 6, 28),\n",
              "    'id': '6aa07021-18dd-4ec7-b2e6-a4511120f1b8',\n",
              "    'name': 'AAPL Jun 28 2024 100 Call',\n",
              "    'open_interest': '7',\n",
              "    'open_interest_date': datetime.date(2024, 6, 21),\n",
              "    'root_symbol': 'AAPL',\n",
              "    'size': '100',\n",
              "    'status': <AssetStatus.ACTIVE: 'active'>,\n",
              "    'strike_price': 100.0,\n",
              "    'style': <ExerciseStyle.AMERICAN: 'american'>,\n",
              "    'symbol': 'AAPL240628C00100000',\n",
              "    'tradable': True,\n",
              "    'type': <ContractType.CALL: 'call'>,\n",
              "    'underlying_asset_id': UUID('b0b6dd9d-8b9b-48a9-ba46-b9d54906e415'),\n",
              "    'underlying_symbol': 'AAPL'}"
            ]
          },
          "execution_count": 12,
          "metadata": {},
          "output_type": "execute_result"
        }
      ],
      "source": [
        "# get options contract by symbol\n",
        "# - get_option_contract() is a new method to get options contract by symbol or id\n",
        "symbol = res.option_contracts[0].symbol\n",
        "contract = trade_client.get_option_contract(symbol)\n",
        "contract"
      ]
    },
    {
      "cell_type": "code",
      "execution_count": 13,
      "metadata": {
        "id": "70MzcnFsfcZW"
      },
      "outputs": [
        {
          "data": {
            "text/plain": [
              "{   'close_price': '110.25',\n",
              "    'close_price_date': datetime.date(2024, 6, 21),\n",
              "    'expiration_date': datetime.date(2024, 6, 28),\n",
              "    'id': '6aa07021-18dd-4ec7-b2e6-a4511120f1b8',\n",
              "    'name': 'AAPL Jun 28 2024 100 Call',\n",
              "    'open_interest': '7',\n",
              "    'open_interest_date': datetime.date(2024, 6, 21),\n",
              "    'root_symbol': 'AAPL',\n",
              "    'size': '100',\n",
              "    'status': <AssetStatus.ACTIVE: 'active'>,\n",
              "    'strike_price': 100.0,\n",
              "    'style': <ExerciseStyle.AMERICAN: 'american'>,\n",
              "    'symbol': 'AAPL240628C00100000',\n",
              "    'tradable': True,\n",
              "    'type': <ContractType.CALL: 'call'>,\n",
              "    'underlying_asset_id': UUID('b0b6dd9d-8b9b-48a9-ba46-b9d54906e415'),\n",
              "    'underlying_symbol': 'AAPL'}"
            ]
          },
          "execution_count": 13,
          "metadata": {},
          "output_type": "execute_result"
        }
      ],
      "source": [
        "# get options contract by id\n",
        "id = res.option_contracts[0].id\n",
        "contract = trade_client.get_option_contract(symbol_or_id=id)\n",
        "contract"
      ]
    },
    {
      "cell_type": "code",
      "execution_count": 14,
      "metadata": {
        "id": "UoXD9S87fcZW"
      },
      "outputs": [
        {
          "data": {
            "text/plain": [
              "[{   'close_price': '0.03',\n",
              "     'close_price_date': datetime.date(2024, 6, 20),\n",
              "     'expiration_date': datetime.date(2024, 6, 26),\n",
              "     'id': '4c3e75df-ba8f-4e64-8d7a-1b0b3c3661e1',\n",
              "     'name': 'SPY Jun 26 2024 461 Put',\n",
              "     'open_interest': '284',\n",
              "     'open_interest_date': datetime.date(2024, 6, 21),\n",
              "     'root_symbol': 'SPY',\n",
              "     'size': '100',\n",
              "     'status': <AssetStatus.ACTIVE: 'active'>,\n",
              "     'strike_price': 461.0,\n",
              "     'style': <ExerciseStyle.AMERICAN: 'american'>,\n",
              "     'symbol': 'SPY240626P00461000',\n",
              "     'tradable': True,\n",
              "     'type': <ContractType.PUT: 'put'>,\n",
              "     'underlying_asset_id': UUID('b28f4066-5c6d-479b-a2af-85dc1a8f16fb'),\n",
              "     'underlying_symbol': 'SPY'},\n",
              " {   'close_price': '0.01',\n",
              "     'close_price_date': datetime.date(2024, 6, 21),\n",
              "     'expiration_date': datetime.date(2024, 6, 26),\n",
              "     'id': '64617f15-f4c4-4da5-9b89-b63af8afcc75',\n",
              "     'name': 'SPY Jun 26 2024 462 Put',\n",
              "     'open_interest': None,\n",
              "     'open_interest_date': None,\n",
              "     'root_symbol': 'SPY',\n",
              "     'size': '100',\n",
              "     'status': <AssetStatus.ACTIVE: 'active'>,\n",
              "     'strike_price': 462.0,\n",
              "     'style': <ExerciseStyle.AMERICAN: 'american'>,\n",
              "     'symbol': 'SPY240626P00462000',\n",
              "     'tradable': True,\n",
              "     'type': <ContractType.PUT: 'put'>,\n",
              "     'underlying_asset_id': UUID('b28f4066-5c6d-479b-a2af-85dc1a8f16fb'),\n",
              "     'underlying_symbol': 'SPY'}]"
            ]
          },
          "execution_count": 14,
          "metadata": {},
          "output_type": "execute_result"
        }
      ],
      "source": [
        "# get put options contracts\n",
        "underlying_symbols = [\"SPY\"]\n",
        "\n",
        "# specify expiration date range\n",
        "now = datetime.now(tz = ZoneInfo(\"America/New_York\"))\n",
        "day1 = now + timedelta(days = 1)\n",
        "day60 = now + timedelta(days = 60)\n",
        "\n",
        "req = GetOptionContractsRequest(\n",
        "    underlying_symbols = underlying_symbols,                     # specify underlying symbols\n",
        "    status = AssetStatus.ACTIVE,                                 # specify asset status: active (default)\n",
        "    expiration_date = None,                                      # specify expiration date (specified date + 1 day range)\n",
        "    expiration_date_gte = day1.date(),                           # we can pass date object\n",
        "    expiration_date_lte = day60.strftime(format = \"%Y-%m-%d\"),   # or string\n",
        "    root_symbol = None,                                          # specify root symbol\n",
        "    type = \"put\",                                                # specify option type: put\n",
        "    style = ExerciseStyle.AMERICAN,                              # specify option style: american\n",
        "    strike_price_gte = None,                                     # specify strike price range\n",
        "    strike_price_lte = None,                                     # specify strike price range\n",
        "    limit = 100,                                                 # specify limit\n",
        "    page_token = None,                                           # specify page\n",
        ")\n",
        "res = trade_client.get_option_contracts(req)\n",
        "res.option_contracts[:2]"
      ]
    },
    {
      "cell_type": "code",
      "execution_count": 15,
      "metadata": {
        "id": "OJSwJn6_fcZX"
      },
      "outputs": [
        {
          "data": {
            "text/plain": [
              "{   'close_price': '0.57',\n",
              "    'close_price_date': datetime.date(2024, 6, 21),\n",
              "    'expiration_date': datetime.date(2024, 6, 26),\n",
              "    'id': 'f3c29aba-2094-41dd-aadd-c12d014e9622',\n",
              "    'name': 'SPY Jun 26 2024 540 Put',\n",
              "    'open_interest': '3545',\n",
              "    'open_interest_date': datetime.date(2024, 6, 21),\n",
              "    'root_symbol': 'SPY',\n",
              "    'size': '100',\n",
              "    'status': <AssetStatus.ACTIVE: 'active'>,\n",
              "    'strike_price': 540.0,\n",
              "    'style': <ExerciseStyle.AMERICAN: 'american'>,\n",
              "    'symbol': 'SPY240626P00540000',\n",
              "    'tradable': True,\n",
              "    'type': <ContractType.PUT: 'put'>,\n",
              "    'underlying_asset_id': UUID('b28f4066-5c6d-479b-a2af-85dc1a8f16fb'),\n",
              "    'underlying_symbol': 'SPY'}"
            ]
          },
          "execution_count": 15,
          "metadata": {},
          "output_type": "execute_result"
        }
      ],
      "source": [
        "# get high open_interest contract\n",
        "open_interest = 0\n",
        "high_open_interest_contract = None\n",
        "for contract in res.option_contracts:\n",
        "    if (contract.open_interest is not None) and (int(contract.open_interest) > open_interest):\n",
        "        open_interest = int(contract.open_interest)\n",
        "        high_open_interest_contract = contract\n",
        "high_open_interest_contract"
      ]
    },
    {
      "cell_type": "code",
      "execution_count": null,
      "metadata": {
        "id": "tg31C-5cfcZX"
      },
      "outputs": [],
      "source": [
        "# place buy put option order\n",
        "# - we can place buy put option order same as buy stock/crypto order\n",
        "req = MarketOrderRequest(\n",
        "    symbol = high_open_interest_contract.symbol,\n",
        "    qty = 1,\n",
        "    side = OrderSide.BUY,\n",
        "    type = OrderType.MARKET,\n",
        "    time_in_force = TimeInForce.DAY,\n",
        ")\n",
        "res = trade_client.submit_order(req)\n",
        "res"
      ]
    },
    {
      "cell_type": "code",
      "execution_count": null,
      "metadata": {
        "id": "c3Yxubw1fcZX"
      },
      "outputs": [],
      "source": [
        "# get list of orders by specifying option contract symbol\n",
        "req = GetOrdersRequest(\n",
        "    status = QueryOrderStatus.ALL,\n",
        "    symbols = [high_open_interest_contract.symbol],\n",
        "    limit = 2,\n",
        ")\n",
        "orders = trade_client.get_orders(req)\n",
        "orders"
      ]
    },
    {
      "cell_type": "code",
      "execution_count": 17,
      "metadata": {
        "id": "sqI52VDufcZY"
      },
      "outputs": [
        {
          "data": {
            "text/plain": [
              "[]"
            ]
          },
          "execution_count": 17,
          "metadata": {},
          "output_type": "execute_result"
        }
      ],
      "source": [
        "# below cells should be done after market open otherwise there is no position for the option contract\n",
        "\n",
        "# get positions filtered by option contract symbol\n",
        "# if you do this example outside of market hours, you will see empty list\n",
        "# because we have no position in this option contract\n",
        "# please wait market open and run this example again\n",
        "positions = trade_client.get_all_positions()\n",
        "[pos for pos in positions if pos.symbol == high_open_interest_contract.symbol]"
      ]
    },
    {
      "cell_type": "code",
      "execution_count": null,
      "metadata": {
        "id": "kVn2bhS-fcZY"
      },
      "outputs": [],
      "source": [
        "# get positions by symbol\n",
        "trade_client.get_open_position(symbol_or_asset_id=high_open_interest_contract.symbol)\n"
      ]
    },
    {
      "cell_type": "code",
      "execution_count": null,
      "metadata": {
        "id": "oyy5sQ_efcZY"
      },
      "outputs": [],
      "source": [
        "# get positions by contract id\n",
        "trade_client.get_open_position(symbol_or_asset_id = high_open_interest_contract.id)"
      ]
    },
    {
      "cell_type": "code",
      "execution_count": null,
      "metadata": {
        "id": "36AtJ2icfcZY"
      },
      "outputs": [],
      "source": [
        "# close the option position\n",
        "trade_client.close_position(\n",
        "    symbol_or_asset_id = high_open_interest_contract.symbol,\n",
        "    close_options = ClosePositionRequest(qty = \"1\")\n",
        ")"
      ]
    },
    {
      "cell_type": "code",
      "execution_count": null,
      "metadata": {
        "id": "X8azUYVwfcZZ"
      },
      "outputs": [],
      "source": [
        "# exercise the options position\n",
        "# - this method does not return anything\n",
        "trade_client.exercise_options_position(\n",
        "    symbol_or_contract_id = high_open_interest_contract.symbol\n",
        ")"
      ]
    },
    {
      "cell_type": "markdown",
      "metadata": {
        "id": "5ixUT4GzfcZZ"
      },
      "source": [
        "# Trade Update (Stream)"
      ]
    },
    {
      "cell_type": "markdown",
      "metadata": {
        "id": "9JXhB2uVfcZZ"
      },
      "source": [
        "With TradingStream client, you can get updates about trades\n",
        "\n",
        "fyi. you can open this notebook in another window and run below cell to check trade updates."
      ]
    },
    {
      "cell_type": "code",
      "execution_count": 19,
      "metadata": {
        "id": "jUPbEfSDfcZZ"
      },
      "outputs": [
        {
          "name": "stdout",
          "output_type": "stream",
          "text": [
            "keyboard interrupt, bye\n"
          ]
        }
      ],
      "source": [
        "# subscribe trade updates\n",
        "trade_stream_client = TradingStream(api_key, secret_key, paper=paper, url_override = trade_api_wss)\n",
        "\n",
        "async def trade_updates_handler(data):\n",
        "    print(data)\n",
        "\n",
        "trade_stream_client.subscribe_trade_updates(trade_updates_handler)\n",
        "trade_stream_client.run()"
      ]
    },
    {
      "cell_type": "markdown",
      "metadata": {
        "id": "MWKHyvFcfcZa"
      },
      "source": [
        "# Market Data (Historical)"
      ]
    },
    {
      "cell_type": "code",
      "execution_count": null,
      "metadata": {
        "id": "OIkORFO_fcZa"
      },
      "outputs": [],
      "source": [
        "# setup option historical data client\n",
        "option_historical_data_client = OptionHistoricalDataClient(api_key, secret_key, url_override = data_api_url)"
      ]
    },
    {
      "cell_type": "code",
      "execution_count": null,
      "metadata": {
        "id": "Tsj6aOAMfcZa"
      },
      "outputs": [],
      "source": [
        "# get options historical bars by symbol\n",
        "req = OptionBarsRequest(\n",
        "    symbol_or_symbols = high_open_interest_contract.symbol,\n",
        "    timeframe = TimeFrame(amount = 1, unit = TimeFrameUnit.Hour),   # specify timeframe\n",
        "    start = now - timedelta(days = 5),                              # specify start datetime, default=the beginning of the current day.\n",
        "    # end_date=None,                                                # specify end datetime, default=now\n",
        "    limit = 2,                                                      # specify limit\n",
        ")\n",
        "option_historical_data_client.get_option_bars(req).df"
      ]
    },
    {
      "cell_type": "code",
      "execution_count": null,
      "metadata": {
        "id": "HLTAF3hcfcZa"
      },
      "outputs": [],
      "source": [
        "# get options historical trades by symbol\n",
        "req = OptionTradesRequest(\n",
        "    symbol_or_symbols = high_open_interest_contract.symbol,\n",
        "    start = now - timedelta(days = 5),                              # specify start datetime, default=the beginning of the current day.\n",
        "    # end=None,                                                     # specify end datetime, default=now\n",
        "    limit = 2,                                                      # specify limit\n",
        ")\n",
        "option_historical_data_client.get_option_trades(req).df"
      ]
    },
    {
      "cell_type": "code",
      "execution_count": null,
      "metadata": {
        "id": "aTSm5_4qfcZa"
      },
      "outputs": [],
      "source": [
        "# get options exchange codes\n",
        "option_historical_data_client.get_option_exchange_codes()"
      ]
    },
    {
      "cell_type": "code",
      "execution_count": null,
      "metadata": {
        "id": "55_MJGFCfcZb"
      },
      "outputs": [],
      "source": [
        "# get option latest quote by symbol\n",
        "req = OptionLatestQuoteRequest(\n",
        "    symbol_or_symbols = [high_open_interest_contract.symbol],\n",
        ")\n",
        "option_historical_data_client.get_option_latest_quote(req)"
      ]
    },
    {
      "cell_type": "code",
      "execution_count": null,
      "metadata": {
        "id": "f8bZyixKfcZb"
      },
      "outputs": [],
      "source": [
        "# get option latest trade by symbol\n",
        "req = OptionLatestTradeRequest(\n",
        "    symbol_or_symbols = [high_open_interest_contract.symbol],\n",
        ")\n",
        "option_historical_data_client.get_option_latest_trade(req)"
      ]
    },
    {
      "cell_type": "code",
      "execution_count": null,
      "metadata": {
        "id": "_y8ghmtjfcZb"
      },
      "outputs": [],
      "source": [
        "# get option snapshot by symbol\n",
        "req = OptionSnapshotRequest(\n",
        "    symbol_or_symbols = [high_open_interest_contract.symbol],\n",
        ")\n",
        "option_historical_data_client.get_option_snapshot(req)"
      ]
    },
    {
      "cell_type": "code",
      "execution_count": null,
      "metadata": {
        "id": "B0IJn17PfcZb"
      },
      "outputs": [],
      "source": [
        "# get option chain by underlying_symbol\n",
        "req = OptionChainRequest(\n",
        "    underlying_symbol = high_open_interest_contract.underlying_symbol,\n",
        ")\n",
        "option_historical_data_client.get_option_chain(req)"
      ]
    },
    {
      "cell_type": "markdown",
      "metadata": {
        "id": "xda-xyl_fcZb"
      },
      "source": [
        "# Market Data (Stream)"
      ]
    },
    {
      "cell_type": "code",
      "execution_count": null,
      "metadata": {
        "id": "Sb89Fem1fcZb"
      },
      "outputs": [],
      "source": [
        "option_data_stream_client = OptionDataStream(api_key, secret_key, url_override = option_stream_data_wss)\n",
        "\n",
        "async def option_data_stream_handler(data):\n",
        "    print(data)\n",
        "\n",
        "symbols = [\n",
        "    'SPY'\n",
        "]\n",
        "\n",
        "option_data_stream_client.subscribe_quotes(option_data_stream_handler, 'SPY')\n",
        "option_data_stream_client.subscribe_trades(option_data_stream_handler, 'SPY')\n",
        "\n",
        "option_data_stream_client.run()"
      ]
    }
  ],
  "metadata": {
    "colab": {
      "provenance": []
    },
    "kernelspec": {
      "display_name": ".venv",
      "language": "python",
      "name": "python3"
    },
    "language_info": {
      "codemirror_mode": {
        "name": "ipython",
        "version": 3
      },
      "file_extension": ".py",
      "mimetype": "text/x-python",
      "name": "python",
      "nbconvert_exporter": "python",
      "pygments_lexer": "ipython3",
      "version": "3.11.9"
    }
  },
  "nbformat": 4,
  "nbformat_minor": 0
}
