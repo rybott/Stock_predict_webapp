{
 "cells": [
  {
   "cell_type": "markdown",
   "metadata": {},
   "source": [
    "# Alpaca-py crypto trading basic"
   ]
  },
  {
   "cell_type": "markdown",
   "metadata": {},
   "source": [
    "[![Open In Colab](https://colab.research.google.com/assets/colab-badge.svg)](https://colab.research.google.com/github/alpacahq/alpaca-py/blob/master/examples/crypto-trading-basic.ipynb)"
   ]
  },
  {
   "cell_type": "markdown",
   "metadata": {},
   "source": [
    "- This notebook shows how to use alpaca-py with crypto trading API endpoints\n",
    "- Please use ``paper account``. Please ``DO NOT`` use this notebook with live account. In this notebook, we place orders for crypto as an example."
   ]
  },
  {
   "cell_type": "code",
   "execution_count": 1,
   "metadata": {},
   "outputs": [],
   "source": [
    "# Please change the following to your own PAPER api key and secret\n",
    "# You can get them from https://alpaca.markets/\n",
    "\n",
    "api_key = \"PKU2S8Q3PPWPVRP6FNCL\"\n",
    "secret_key = \"5HqA8cPDarpVtSMBrLrcd5s2sUSbEo5iVFgbYVgP\"\n",
    "\n",
    "#### We use paper environment for this example ####\n",
    "paper = True # Please do not modify this. This example is for paper trading only.\n",
    "####\n",
    "\n",
    "# Below are the variables for development this documents\n",
    "# Please do not change these variables\n",
    "trade_api_url = None\n",
    "trade_api_wss = None\n",
    "data_api_url = None\n",
    "stream_data_wss = None"
   ]
  },
  {
   "cell_type": "code",
   "execution_count": 2,
   "metadata": {},
   "outputs": [
    {
     "name": "stderr",
     "output_type": "stream",
     "text": [
      "Python was not found; run without arguments to install from the Microsoft Store, or disable this shortcut from Settings > Manage App Execution Aliases.\n"
     ]
    }
   ],
   "source": [
    "# install alpaca-py\n",
    "! python3 -m pip install alpaca-py"
   ]
  },
  {
   "cell_type": "code",
   "execution_count": 3,
   "metadata": {},
   "outputs": [],
   "source": [
    "import json\n",
    "from datetime import datetime, timedelta\n",
    "from zoneinfo import ZoneInfo\n",
    "\n",
    "import alpaca\n",
    "from alpaca.data.live.crypto import *\n",
    "from alpaca.data.historical.crypto import *\n",
    "from alpaca.data.requests import *\n",
    "from alpaca.data.timeframe import *\n",
    "from alpaca.trading.client import *\n",
    "from alpaca.trading.stream import *\n",
    "from alpaca.trading.requests import *\n",
    "from alpaca.trading.enums import *\n",
    "from alpaca.common.exceptions import APIError"
   ]
  },
  {
   "cell_type": "code",
   "execution_count": null,
   "metadata": {},
   "outputs": [
    {
     "data": {
      "text/plain": [
       "'0.21.2'"
      ]
     },
     "execution_count": 44,
     "metadata": {},
     "output_type": "execute_result"
    }
   ],
   "source": [
    "# to run async code in jupyter notebook\n",
    "import nest_asyncio\n",
    "nest_asyncio.apply()"
   ]
  },
  {
   "cell_type": "code",
   "execution_count": 4,
   "metadata": {},
   "outputs": [
    {
     "data": {
      "text/plain": [
       "'0.8.2'"
      ]
     },
     "execution_count": 4,
     "metadata": {},
     "output_type": "execute_result"
    }
   ],
   "source": [
    "# check version of alpaca-py\n",
    "alpaca.__version__"
   ]
  },
  {
   "cell_type": "markdown",
   "metadata": {},
   "source": [
    "# Trading Client"
   ]
  },
  {
   "cell_type": "code",
   "execution_count": 5,
   "metadata": {},
   "outputs": [],
   "source": [
    "# setup clients\n",
    "trade_client = TradingClient(api_key=api_key, secret_key=secret_key, paper=paper, url_override=trade_api_url)"
   ]
  },
  {
   "cell_type": "code",
   "execution_count": null,
   "metadata": {},
   "outputs": [],
   "source": [
    "# check trading account\n",
    "# You can check definition of each field in the following documents\n",
    "# ref. https://docs.alpaca.markets/docs/account-plans\n",
    "# ref. https://docs.alpaca.markets/reference/getaccount-1\n",
    "acct = trade_client.get_account()\n",
    "acct"
   ]
  },
  {
   "cell_type": "code",
   "execution_count": 16,
   "metadata": {},
   "outputs": [
    {
     "data": {
      "text/plain": [
       "{   'dtbp_check': <DTBPCheck.ENTRY: 'entry'>,\n",
       "    'fractional_trading': True,\n",
       "    'max_margin_multiplier': '4',\n",
       "    'max_options_trading_level': None,\n",
       "    'no_shorting': False,\n",
       "    'pdt_check': <PDTCheck.ENTRY: 'entry'>,\n",
       "    'ptp_no_exception_entry': False,\n",
       "    'suspend_trade': False,\n",
       "    'trade_confirm_email': <TradeConfirmationEmail.ALL: 'all'>}"
      ]
     },
     "execution_count": 16,
     "metadata": {},
     "output_type": "execute_result"
    }
   ],
   "source": [
    "# check account configuration\n",
    "# ref. https://docs.alpaca.markets/reference/getaccountconfig-1\n",
    "acct_config = trade_client.get_account_configurations()\n",
    "acct_config"
   ]
  },
  {
   "cell_type": "code",
   "execution_count": 17,
   "metadata": {},
   "outputs": [
    {
     "data": {
      "text/plain": [
       "[{   'asset_class': <AssetClass.CRYPTO: 'crypto'>,\n",
       "     'attributes': [],\n",
       "     'easy_to_borrow': False,\n",
       "     'exchange': <AssetExchange.CRYPTO: 'CRYPTO'>,\n",
       "     'fractionable': False,\n",
       "     'id': UUID('bce5b2e7-0678-4b81-9607-4a997471fc92'),\n",
       "     'maintenance_margin_requirement': 100.0,\n",
       "     'marginable': False,\n",
       "     'min_order_size': 35248.501938667,\n",
       "     'min_trade_increment': 1e-09,\n",
       "     'name': 'Shib USD Tether',\n",
       "     'price_increment': 1e-08,\n",
       "     'shortable': False,\n",
       "     'status': <AssetStatus.ACTIVE: 'active'>,\n",
       "     'symbol': 'SHIB/USDT',\n",
       "     'tradable': True},\n",
       " {   'asset_class': <AssetClass.CRYPTO: 'crypto'>,\n",
       "     'attributes': [],\n",
       "     'easy_to_borrow': False,\n",
       "     'exchange': <AssetExchange.CRYPTO: 'CRYPTO'>,\n",
       "     'fractionable': True,\n",
       "     'id': UUID('da533b7e-5b35-45ef-8ba8-4dd5d44978b8'),\n",
       "     'maintenance_margin_requirement': 100.0,\n",
       "     'marginable': False,\n",
       "     'min_order_size': 45871.559633027,\n",
       "     'min_trade_increment': 1e-09,\n",
       "     'name': 'Shiba Inu / USD Coin',\n",
       "     'price_increment': None,\n",
       "     'shortable': False,\n",
       "     'status': <AssetStatus.ACTIVE: 'active'>,\n",
       "     'symbol': 'SHIB/USDC',\n",
       "     'tradable': True}]"
      ]
     },
     "execution_count": 17,
     "metadata": {},
     "output_type": "execute_result"
    }
   ],
   "source": [
    "# get list of crypto pairs\n",
    "# ref. https://docs.alpaca.markets/reference/get-v2-assets-1\n",
    "req = GetAssetsRequest(\n",
    "  asset_class=AssetClass.CRYPTO,\n",
    "  status=AssetStatus.ACTIVE\n",
    ")\n",
    "assets = trade_client.get_all_assets(req)\n",
    "assets[:2]"
   ]
  },
  {
   "cell_type": "markdown",
   "metadata": {},
   "source": [
    "### Orders"
   ]
  },
  {
   "cell_type": "code",
   "execution_count": 18,
   "metadata": {},
   "outputs": [],
   "source": [
    "# we will place orders which Alapca trading platform supports\n",
    "# - order types for crypto: market, limit, stop_limit\n",
    "# - time_in_force for crypto: gtc, ioc.\n",
    "# please refer to the following documents for more details\n",
    "# ref. https://docs.alpaca.markets/docs/orders-at-alpaca\n",
    "# ref. https://docs.alpaca.markets/reference/postorder\n",
    "\n",
    "\n",
    "# we will place orders for symbol: BTC/USD in this example\n",
    "symbol = \"BTC/USD\""
   ]
  },
  {
   "cell_type": "code",
   "execution_count": null,
   "metadata": {},
   "outputs": [],
   "source": [
    "# simple, market order\n",
    "# you can specify:\n",
    "# or notional value (e.g. 100 USD) (which is in the next example)\n",
    "req = MarketOrderRequest(\n",
    "    symbol = symbol,\n",
    "    qty = 0.01,\n",
    "    side = OrderSide.BUY,\n",
    "    type = OrderType.MARKET,\n",
    "    time_in_force = TimeInForce.GTC,\n",
    ")\n",
    "res = trade_client.submit_order(req)\n",
    "res"
   ]
  },
  {
   "cell_type": "code",
   "execution_count": null,
   "metadata": {},
   "outputs": [],
   "source": [
    "# simple, market order, notional\n",
    "\n",
    "req = MarketOrderRequest(\n",
    "    symbol = symbol,\n",
    "    notional = 1.11,  # notional is specified in USD, here we specify $1.11\n",
    "    side = OrderSide.BUY,\n",
    "    type = OrderType.MARKET,\n",
    "    time_in_force = TimeInForce.GTC,\n",
    ")\n",
    "res = trade_client.submit_order(req)\n",
    "res"
   ]
  },
  {
   "cell_type": "code",
   "execution_count": 37,
   "metadata": {},
   "outputs": [
    {
     "ename": "APIError",
     "evalue": "{\"message\": \"forbidden.\"}\n",
     "output_type": "error",
     "traceback": [
      "\u001b[1;31m---------------------------------------------------------------------------\u001b[0m",
      "\u001b[1;31mHTTPError\u001b[0m                                 Traceback (most recent call last)",
      "File \u001b[1;32m~\\AppData\\Local\\Packages\\PythonSoftwareFoundation.Python.3.11_qbz5n2kfra8p0\\LocalCache\\local-packages\\Python311\\site-packages\\alpaca\\common\\rest.py:196\u001b[0m, in \u001b[0;36mRESTClient._one_request\u001b[1;34m(self, method, url, opts, retry)\u001b[0m\n\u001b[0;32m    195\u001b[0m \u001b[38;5;28;01mtry\u001b[39;00m:\n\u001b[1;32m--> 196\u001b[0m     \u001b[43mresponse\u001b[49m\u001b[38;5;241;43m.\u001b[39;49m\u001b[43mraise_for_status\u001b[49m\u001b[43m(\u001b[49m\u001b[43m)\u001b[49m\n\u001b[0;32m    197\u001b[0m \u001b[38;5;28;01mexcept\u001b[39;00m HTTPError \u001b[38;5;28;01mas\u001b[39;00m http_error:\n\u001b[0;32m    198\u001b[0m     \u001b[38;5;66;03m# retry if we hit Rate Limit\u001b[39;00m\n",
      "File \u001b[1;32m~\\AppData\\Local\\Packages\\PythonSoftwareFoundation.Python.3.11_qbz5n2kfra8p0\\LocalCache\\local-packages\\Python311\\site-packages\\requests\\models.py:1021\u001b[0m, in \u001b[0;36mResponse.raise_for_status\u001b[1;34m(self)\u001b[0m\n\u001b[0;32m   1020\u001b[0m \u001b[38;5;28;01mif\u001b[39;00m http_error_msg:\n\u001b[1;32m-> 1021\u001b[0m     \u001b[38;5;28;01mraise\u001b[39;00m HTTPError(http_error_msg, response\u001b[38;5;241m=\u001b[39m\u001b[38;5;28mself\u001b[39m)\n",
      "\u001b[1;31mHTTPError\u001b[0m: 403 Client Error: Forbidden for url: https://paper-api.alpaca.markets/v2/orders",
      "\nDuring handling of the above exception, another exception occurred:\n",
      "\u001b[1;31mAPIError\u001b[0m                                  Traceback (most recent call last)",
      "Cell \u001b[1;32mIn[37], line 13\u001b[0m\n\u001b[0;32m      2\u001b[0m \u001b[38;5;28;01mfrom\u001b[39;00m \u001b[38;5;21;01malpaca\u001b[39;00m\u001b[38;5;21;01m.\u001b[39;00m\u001b[38;5;21;01mtrading\u001b[39;00m\u001b[38;5;21;01m.\u001b[39;00m\u001b[38;5;21;01mrequests\u001b[39;00m \u001b[38;5;28;01mimport\u001b[39;00m TrailingStopOrderRequest\n\u001b[0;32m      6\u001b[0m req \u001b[38;5;241m=\u001b[39m TrailingStopOrderRequest(\n\u001b[0;32m      7\u001b[0m     symbol \u001b[38;5;241m=\u001b[39m symbol,\n\u001b[0;32m      8\u001b[0m     notional \u001b[38;5;241m=\u001b[39m \u001b[38;5;241m10\u001b[39m,\n\u001b[0;32m      9\u001b[0m     side \u001b[38;5;241m=\u001b[39m OrderSide\u001b[38;5;241m.\u001b[39mBUY,\n\u001b[0;32m     10\u001b[0m     time_in_force \u001b[38;5;241m=\u001b[39m TimeInForce\u001b[38;5;241m.\u001b[39mDAY,\n\u001b[0;32m     11\u001b[0m     trail_price \u001b[38;5;241m=\u001b[39m \u001b[38;5;241m6.15\u001b[39m)\n\u001b[1;32m---> 13\u001b[0m res \u001b[38;5;241m=\u001b[39m \u001b[43mtrade_client\u001b[49m\u001b[38;5;241;43m.\u001b[39;49m\u001b[43msubmit_order\u001b[49m\u001b[43m(\u001b[49m\u001b[43mreq\u001b[49m\u001b[43m)\u001b[49m\n\u001b[0;32m     14\u001b[0m res\n",
      "File \u001b[1;32m~\\AppData\\Local\\Packages\\PythonSoftwareFoundation.Python.3.11_qbz5n2kfra8p0\\LocalCache\\local-packages\\Python311\\site-packages\\alpaca\\trading\\client.py:98\u001b[0m, in \u001b[0;36mTradingClient.submit_order\u001b[1;34m(self, order_data)\u001b[0m\n\u001b[0;32m     89\u001b[0m \u001b[38;5;250m\u001b[39m\u001b[38;5;124;03m\"\"\"Creates an order to buy or sell an asset.\u001b[39;00m\n\u001b[0;32m     90\u001b[0m \n\u001b[0;32m     91\u001b[0m \u001b[38;5;124;03mArgs:\u001b[39;00m\n\u001b[1;32m   (...)\u001b[0m\n\u001b[0;32m     95\u001b[0m \u001b[38;5;124;03m    alpaca.trading.models.Order: The resulting submitted order.\u001b[39;00m\n\u001b[0;32m     96\u001b[0m \u001b[38;5;124;03m\"\"\"\u001b[39;00m\n\u001b[0;32m     97\u001b[0m data \u001b[38;5;241m=\u001b[39m order_data\u001b[38;5;241m.\u001b[39mto_request_fields()\n\u001b[1;32m---> 98\u001b[0m response \u001b[38;5;241m=\u001b[39m \u001b[38;5;28;43mself\u001b[39;49m\u001b[38;5;241;43m.\u001b[39;49m\u001b[43mpost\u001b[49m\u001b[43m(\u001b[49m\u001b[38;5;124;43m\"\u001b[39;49m\u001b[38;5;124;43m/orders\u001b[39;49m\u001b[38;5;124;43m\"\u001b[39;49m\u001b[43m,\u001b[49m\u001b[43m \u001b[49m\u001b[43mdata\u001b[49m\u001b[43m)\u001b[49m\n\u001b[0;32m    100\u001b[0m \u001b[38;5;28;01mif\u001b[39;00m \u001b[38;5;28mself\u001b[39m\u001b[38;5;241m.\u001b[39m_use_raw_data:\n\u001b[0;32m    101\u001b[0m     \u001b[38;5;28;01mreturn\u001b[39;00m response\n",
      "File \u001b[1;32m~\\AppData\\Local\\Packages\\PythonSoftwareFoundation.Python.3.11_qbz5n2kfra8p0\\LocalCache\\local-packages\\Python311\\site-packages\\alpaca\\common\\rest.py:236\u001b[0m, in \u001b[0;36mRESTClient.post\u001b[1;34m(self, path, data)\u001b[0m\n\u001b[0;32m    223\u001b[0m \u001b[38;5;28;01mdef\u001b[39;00m \u001b[38;5;21mpost\u001b[39m(\n\u001b[0;32m    224\u001b[0m     \u001b[38;5;28mself\u001b[39m, path: \u001b[38;5;28mstr\u001b[39m, data: Optional[Union[\u001b[38;5;28mdict\u001b[39m, List[\u001b[38;5;28mdict\u001b[39m]]] \u001b[38;5;241m=\u001b[39m \u001b[38;5;28;01mNone\u001b[39;00m\n\u001b[0;32m    225\u001b[0m ) \u001b[38;5;241m-\u001b[39m\u001b[38;5;241m>\u001b[39m HTTPResult:\n\u001b[0;32m    226\u001b[0m \u001b[38;5;250m    \u001b[39m\u001b[38;5;124;03m\"\"\"Performs a single POST request\u001b[39;00m\n\u001b[0;32m    227\u001b[0m \n\u001b[0;32m    228\u001b[0m \u001b[38;5;124;03m    Args:\u001b[39;00m\n\u001b[1;32m   (...)\u001b[0m\n\u001b[0;32m    234\u001b[0m \u001b[38;5;124;03m        dict: The response\u001b[39;00m\n\u001b[0;32m    235\u001b[0m \u001b[38;5;124;03m    \"\"\"\u001b[39;00m\n\u001b[1;32m--> 236\u001b[0m     \u001b[38;5;28;01mreturn\u001b[39;00m \u001b[38;5;28;43mself\u001b[39;49m\u001b[38;5;241;43m.\u001b[39;49m\u001b[43m_request\u001b[49m\u001b[43m(\u001b[49m\u001b[38;5;124;43m\"\u001b[39;49m\u001b[38;5;124;43mPOST\u001b[39;49m\u001b[38;5;124;43m\"\u001b[39;49m\u001b[43m,\u001b[49m\u001b[43m \u001b[49m\u001b[43mpath\u001b[49m\u001b[43m,\u001b[49m\u001b[43m \u001b[49m\u001b[43mdata\u001b[49m\u001b[43m)\u001b[49m\n",
      "File \u001b[1;32m~\\AppData\\Local\\Packages\\PythonSoftwareFoundation.Python.3.11_qbz5n2kfra8p0\\LocalCache\\local-packages\\Python311\\site-packages\\alpaca\\common\\rest.py:129\u001b[0m, in \u001b[0;36mRESTClient._request\u001b[1;34m(self, method, path, data, base_url, api_version)\u001b[0m\n\u001b[0;32m    127\u001b[0m \u001b[38;5;28;01mwhile\u001b[39;00m retry \u001b[38;5;241m>\u001b[39m\u001b[38;5;241m=\u001b[39m \u001b[38;5;241m0\u001b[39m:\n\u001b[0;32m    128\u001b[0m     \u001b[38;5;28;01mtry\u001b[39;00m:\n\u001b[1;32m--> 129\u001b[0m         \u001b[38;5;28;01mreturn\u001b[39;00m \u001b[38;5;28;43mself\u001b[39;49m\u001b[38;5;241;43m.\u001b[39;49m\u001b[43m_one_request\u001b[49m\u001b[43m(\u001b[49m\u001b[43mmethod\u001b[49m\u001b[43m,\u001b[49m\u001b[43m \u001b[49m\u001b[43murl\u001b[49m\u001b[43m,\u001b[49m\u001b[43m \u001b[49m\u001b[43mopts\u001b[49m\u001b[43m,\u001b[49m\u001b[43m \u001b[49m\u001b[43mretry\u001b[49m\u001b[43m)\u001b[49m\n\u001b[0;32m    130\u001b[0m     \u001b[38;5;28;01mexcept\u001b[39;00m RetryException:\n\u001b[0;32m    131\u001b[0m         time\u001b[38;5;241m.\u001b[39msleep(\u001b[38;5;28mself\u001b[39m\u001b[38;5;241m.\u001b[39m_retry_wait)\n",
      "File \u001b[1;32m~\\AppData\\Local\\Packages\\PythonSoftwareFoundation.Python.3.11_qbz5n2kfra8p0\\LocalCache\\local-packages\\Python311\\site-packages\\alpaca\\common\\rest.py:205\u001b[0m, in \u001b[0;36mRESTClient._one_request\u001b[1;34m(self, method, url, opts, retry)\u001b[0m\n\u001b[0;32m    202\u001b[0m     \u001b[38;5;66;03m# raise API error for all other errors\u001b[39;00m\n\u001b[0;32m    203\u001b[0m     error \u001b[38;5;241m=\u001b[39m response\u001b[38;5;241m.\u001b[39mtext\n\u001b[1;32m--> 205\u001b[0m     \u001b[38;5;28;01mraise\u001b[39;00m APIError(error, http_error)\n\u001b[0;32m    207\u001b[0m \u001b[38;5;28;01mif\u001b[39;00m response\u001b[38;5;241m.\u001b[39mtext \u001b[38;5;241m!=\u001b[39m \u001b[38;5;124m\"\u001b[39m\u001b[38;5;124m\"\u001b[39m:\n\u001b[0;32m    208\u001b[0m     \u001b[38;5;28;01mreturn\u001b[39;00m response\u001b[38;5;241m.\u001b[39mjson()\n",
      "\u001b[1;31mAPIError\u001b[0m: {\"message\": \"forbidden.\"}\n"
     ]
    }
   ],
   "source": [
    "# trailing Stop Loss\n",
    "from alpaca.trading.requests import TrailingStopOrderRequest\n",
    "\n",
    "\n",
    "\n",
    "req = TrailingStopOrderRequest(\n",
    "    symbol = symbol,\n",
    "    notional = 10,\n",
    "    side = OrderSide.BUY,\n",
    "    time_in_force = TimeInForce.DAY,\n",
    "    trail_price = 6.15)\n",
    "\n",
    "res = trade_client.submit_order(req)\n",
    "res\n"
   ]
  },
  {
   "cell_type": "code",
   "execution_count": 22,
   "metadata": {},
   "outputs": [
    {
     "data": {
      "text/plain": [
       "{   'asset_class': <AssetClass.CRYPTO: 'crypto'>,\n",
       "    'asset_id': UUID('276e2673-764b-4ab6-a611-caf665ca6340'),\n",
       "    'canceled_at': None,\n",
       "    'client_order_id': '97334c66-5c42-4618-93a3-e9aaed1279d4',\n",
       "    'created_at': datetime.datetime(2024, 6, 13, 4, 48, 39, 654783, tzinfo=TzInfo(UTC)),\n",
       "    'expired_at': None,\n",
       "    'extended_hours': False,\n",
       "    'failed_at': None,\n",
       "    'filled_at': None,\n",
       "    'filled_avg_price': None,\n",
       "    'filled_qty': '0',\n",
       "    'hwm': None,\n",
       "    'id': UUID('3648c904-3901-4a5d-b10e-860dac02697f'),\n",
       "    'legs': None,\n",
       "    'limit_price': '60000',\n",
       "    'notional': None,\n",
       "    'order_class': <OrderClass.SIMPLE: 'simple'>,\n",
       "    'order_type': <OrderType.LIMIT: 'limit'>,\n",
       "    'qty': '0.01',\n",
       "    'replaced_at': None,\n",
       "    'replaced_by': None,\n",
       "    'replaces': None,\n",
       "    'side': <OrderSide.BUY: 'buy'>,\n",
       "    'status': <OrderStatus.PENDING_NEW: 'pending_new'>,\n",
       "    'stop_price': None,\n",
       "    'submitted_at': datetime.datetime(2024, 6, 13, 4, 48, 39, 654783, tzinfo=TzInfo(UTC)),\n",
       "    'symbol': 'BTC/USD',\n",
       "    'time_in_force': <TimeInForce.GTC: 'gtc'>,\n",
       "    'trail_percent': None,\n",
       "    'trail_price': None,\n",
       "    'type': <OrderType.LIMIT: 'limit'>,\n",
       "    'updated_at': datetime.datetime(2024, 6, 13, 4, 48, 39, 656078, tzinfo=TzInfo(UTC))}"
      ]
     },
     "execution_count": 22,
     "metadata": {},
     "output_type": "execute_result"
    }
   ],
   "source": [
    "# simple, limit order\n",
    "req = LimitOrderRequest(\n",
    "    symbol = symbol,\n",
    "    qty = 0.01,\n",
    "    limit_price = 60000,\n",
    "    side = OrderSide.BUY,\n",
    "    type = OrderType.LIMIT,\n",
    "    time_in_force = TimeInForce.GTC,\n",
    ")\n",
    "res = trade_client.submit_order(req)\n",
    "res"
   ]
  },
  {
   "cell_type": "code",
   "execution_count": 23,
   "metadata": {},
   "outputs": [
    {
     "data": {
      "text/plain": [
       "{   'asset_class': <AssetClass.CRYPTO: 'crypto'>,\n",
       "    'asset_id': UUID('276e2673-764b-4ab6-a611-caf665ca6340'),\n",
       "    'canceled_at': None,\n",
       "    'client_order_id': '7c68d4ff-6b33-4e31-bf98-a8fcdb9c39d5',\n",
       "    'created_at': datetime.datetime(2024, 6, 13, 4, 48, 46, 60575, tzinfo=TzInfo(UTC)),\n",
       "    'expired_at': None,\n",
       "    'extended_hours': False,\n",
       "    'failed_at': None,\n",
       "    'filled_at': None,\n",
       "    'filled_avg_price': None,\n",
       "    'filled_qty': '0',\n",
       "    'hwm': None,\n",
       "    'id': UUID('7f5e4eaf-9d9d-4ab7-8154-a12c3413ba3f'),\n",
       "    'legs': None,\n",
       "    'limit_price': '55000',\n",
       "    'notional': None,\n",
       "    'order_class': <OrderClass.SIMPLE: 'simple'>,\n",
       "    'order_type': <OrderType.STOP_LIMIT: 'stop_limit'>,\n",
       "    'qty': '0.01',\n",
       "    'replaced_at': None,\n",
       "    'replaced_by': None,\n",
       "    'replaces': None,\n",
       "    'side': <OrderSide.BUY: 'buy'>,\n",
       "    'status': <OrderStatus.NEW: 'new'>,\n",
       "    'stop_price': '60000',\n",
       "    'submitted_at': datetime.datetime(2024, 6, 13, 4, 48, 46, 60575, tzinfo=TzInfo(UTC)),\n",
       "    'symbol': 'BTC/USD',\n",
       "    'time_in_force': <TimeInForce.GTC: 'gtc'>,\n",
       "    'trail_percent': None,\n",
       "    'trail_price': None,\n",
       "    'type': <OrderType.STOP_LIMIT: 'stop_limit'>,\n",
       "    'updated_at': datetime.datetime(2024, 6, 13, 4, 48, 46, 62039, tzinfo=TzInfo(UTC))}"
      ]
     },
     "execution_count": 23,
     "metadata": {},
     "output_type": "execute_result"
    }
   ],
   "source": [
    "# stop limit order\n",
    "req = StopLimitOrderRequest(\n",
    "                    symbol = symbol,\n",
    "                    qty = 0.01,\n",
    "                    side = OrderSide.BUY,\n",
    "                    time_in_force = TimeInForce.GTC,\n",
    "                    limit_price = 55000,\n",
    "                    stop_price = 60000\n",
    "                    )\n",
    "\n",
    "res = trade_client.submit_order(req)\n",
    "res"
   ]
  },
  {
   "cell_type": "code",
   "execution_count": 24,
   "metadata": {},
   "outputs": [
    {
     "data": {
      "text/plain": [
       "[{   'asset_class': <AssetClass.CRYPTO: 'crypto'>,\n",
       "     'asset_id': UUID('276e2673-764b-4ab6-a611-caf665ca6340'),\n",
       "     'canceled_at': None,\n",
       "     'client_order_id': '7c68d4ff-6b33-4e31-bf98-a8fcdb9c39d5',\n",
       "     'created_at': datetime.datetime(2024, 6, 13, 4, 48, 46, 60575, tzinfo=TzInfo(UTC)),\n",
       "     'expired_at': None,\n",
       "     'extended_hours': False,\n",
       "     'failed_at': None,\n",
       "     'filled_at': None,\n",
       "     'filled_avg_price': None,\n",
       "     'filled_qty': '0',\n",
       "     'hwm': None,\n",
       "     'id': UUID('7f5e4eaf-9d9d-4ab7-8154-a12c3413ba3f'),\n",
       "     'legs': None,\n",
       "     'limit_price': '55000',\n",
       "     'notional': None,\n",
       "     'order_class': <OrderClass.SIMPLE: 'simple'>,\n",
       "     'order_type': <OrderType.STOP_LIMIT: 'stop_limit'>,\n",
       "     'qty': '0.01',\n",
       "     'replaced_at': None,\n",
       "     'replaced_by': None,\n",
       "     'replaces': None,\n",
       "     'side': <OrderSide.BUY: 'buy'>,\n",
       "     'status': <OrderStatus.NEW: 'new'>,\n",
       "     'stop_price': '60000',\n",
       "     'submitted_at': datetime.datetime(2024, 6, 13, 4, 48, 46, 60575, tzinfo=TzInfo(UTC)),\n",
       "     'symbol': 'BTC/USD',\n",
       "     'time_in_force': <TimeInForce.GTC: 'gtc'>,\n",
       "     'trail_percent': None,\n",
       "     'trail_price': None,\n",
       "     'type': <OrderType.STOP_LIMIT: 'stop_limit'>,\n",
       "     'updated_at': datetime.datetime(2024, 6, 13, 4, 48, 46, 62039, tzinfo=TzInfo(UTC))},\n",
       " {   'asset_class': <AssetClass.CRYPTO: 'crypto'>,\n",
       "     'asset_id': UUID('276e2673-764b-4ab6-a611-caf665ca6340'),\n",
       "     'canceled_at': None,\n",
       "     'client_order_id': '97334c66-5c42-4618-93a3-e9aaed1279d4',\n",
       "     'created_at': datetime.datetime(2024, 6, 13, 4, 48, 39, 654783, tzinfo=TzInfo(UTC)),\n",
       "     'expired_at': None,\n",
       "     'extended_hours': False,\n",
       "     'failed_at': None,\n",
       "     'filled_at': None,\n",
       "     'filled_avg_price': None,\n",
       "     'filled_qty': '0',\n",
       "     'hwm': None,\n",
       "     'id': UUID('3648c904-3901-4a5d-b10e-860dac02697f'),\n",
       "     'legs': None,\n",
       "     'limit_price': '60000',\n",
       "     'notional': None,\n",
       "     'order_class': <OrderClass.SIMPLE: 'simple'>,\n",
       "     'order_type': <OrderType.LIMIT: 'limit'>,\n",
       "     'qty': '0.01',\n",
       "     'replaced_at': None,\n",
       "     'replaced_by': None,\n",
       "     'replaces': None,\n",
       "     'side': <OrderSide.BUY: 'buy'>,\n",
       "     'status': <OrderStatus.NEW: 'new'>,\n",
       "     'stop_price': None,\n",
       "     'submitted_at': datetime.datetime(2024, 6, 13, 4, 48, 39, 654783, tzinfo=TzInfo(UTC)),\n",
       "     'symbol': 'BTC/USD',\n",
       "     'time_in_force': <TimeInForce.GTC: 'gtc'>,\n",
       "     'trail_percent': None,\n",
       "     'trail_price': None,\n",
       "     'type': <OrderType.LIMIT: 'limit'>,\n",
       "     'updated_at': datetime.datetime(2024, 6, 13, 4, 48, 39, 677226, tzinfo=TzInfo(UTC))},\n",
       " {   'asset_class': <AssetClass.CRYPTO: 'crypto'>,\n",
       "     'asset_id': UUID('276e2673-764b-4ab6-a611-caf665ca6340'),\n",
       "     'canceled_at': None,\n",
       "     'client_order_id': 'b093f841-6391-4c7c-af04-6e15c029ad36',\n",
       "     'created_at': datetime.datetime(2024, 6, 13, 4, 48, 12, 29303, tzinfo=TzInfo(UTC)),\n",
       "     'expired_at': None,\n",
       "     'extended_hours': False,\n",
       "     'failed_at': None,\n",
       "     'filled_at': datetime.datetime(2024, 6, 13, 4, 48, 12, 33361, tzinfo=TzInfo(UTC)),\n",
       "     'filled_avg_price': '67469.8',\n",
       "     'filled_qty': '0.01',\n",
       "     'hwm': None,\n",
       "     'id': UUID('66ad745e-7453-4f0e-828b-008b4a0d2e88'),\n",
       "     'legs': None,\n",
       "     'limit_price': None,\n",
       "     'notional': None,\n",
       "     'order_class': <OrderClass.SIMPLE: 'simple'>,\n",
       "     'order_type': <OrderType.MARKET: 'market'>,\n",
       "     'qty': '0.01',\n",
       "     'replaced_at': None,\n",
       "     'replaced_by': None,\n",
       "     'replaces': None,\n",
       "     'side': <OrderSide.BUY: 'buy'>,\n",
       "     'status': <OrderStatus.FILLED: 'filled'>,\n",
       "     'stop_price': None,\n",
       "     'submitted_at': datetime.datetime(2024, 6, 13, 4, 48, 12, 29303, tzinfo=TzInfo(UTC)),\n",
       "     'symbol': 'BTC/USD',\n",
       "     'time_in_force': <TimeInForce.GTC: 'gtc'>,\n",
       "     'trail_percent': None,\n",
       "     'trail_price': None,\n",
       "     'type': <OrderType.MARKET: 'market'>,\n",
       "     'updated_at': datetime.datetime(2024, 6, 13, 4, 48, 12, 77407, tzinfo=TzInfo(UTC))},\n",
       " {   'asset_class': <AssetClass.CRYPTO: 'crypto'>,\n",
       "     'asset_id': UUID('276e2673-764b-4ab6-a611-caf665ca6340'),\n",
       "     'canceled_at': None,\n",
       "     'client_order_id': '9d0c8824-8b94-4959-bbe4-a1ebc365136c',\n",
       "     'created_at': datetime.datetime(2024, 6, 13, 4, 46, 34, 581188, tzinfo=TzInfo(UTC)),\n",
       "     'expired_at': None,\n",
       "     'extended_hours': False,\n",
       "     'failed_at': None,\n",
       "     'filled_at': datetime.datetime(2024, 6, 13, 4, 46, 34, 584289, tzinfo=TzInfo(UTC)),\n",
       "     'filled_avg_price': '67563.99',\n",
       "     'filled_qty': '0.000016107',\n",
       "     'hwm': None,\n",
       "     'id': UUID('d311d437-c725-4126-a240-fb547406cb60'),\n",
       "     'legs': None,\n",
       "     'limit_price': None,\n",
       "     'notional': '1.11',\n",
       "     'order_class': <OrderClass.SIMPLE: 'simple'>,\n",
       "     'order_type': <OrderType.MARKET: 'market'>,\n",
       "     'qty': None,\n",
       "     'replaced_at': None,\n",
       "     'replaced_by': None,\n",
       "     'replaces': None,\n",
       "     'side': <OrderSide.BUY: 'buy'>,\n",
       "     'status': <OrderStatus.FILLED: 'filled'>,\n",
       "     'stop_price': None,\n",
       "     'submitted_at': datetime.datetime(2024, 6, 13, 4, 46, 34, 581188, tzinfo=TzInfo(UTC)),\n",
       "     'symbol': 'BTC/USD',\n",
       "     'time_in_force': <TimeInForce.GTC: 'gtc'>,\n",
       "     'trail_percent': None,\n",
       "     'trail_price': None,\n",
       "     'type': <OrderType.MARKET: 'market'>,\n",
       "     'updated_at': datetime.datetime(2024, 6, 13, 4, 46, 34, 627711, tzinfo=TzInfo(UTC))},\n",
       " {   'asset_class': <AssetClass.CRYPTO: 'crypto'>,\n",
       "     'asset_id': UUID('276e2673-764b-4ab6-a611-caf665ca6340'),\n",
       "     'canceled_at': None,\n",
       "     'client_order_id': '927cfd10-af3a-474e-8dae-3c00bd0b0a10',\n",
       "     'created_at': datetime.datetime(2024, 6, 13, 4, 45, 50, 88868, tzinfo=TzInfo(UTC)),\n",
       "     'expired_at': None,\n",
       "     'extended_hours': False,\n",
       "     'failed_at': None,\n",
       "     'filled_at': datetime.datetime(2024, 6, 13, 4, 45, 50, 92353, tzinfo=TzInfo(UTC)),\n",
       "     'filled_avg_price': '67605.58',\n",
       "     'filled_qty': '0.01',\n",
       "     'hwm': None,\n",
       "     'id': UUID('997f6623-56eb-4bfd-8b4b-b31808fe9808'),\n",
       "     'legs': None,\n",
       "     'limit_price': None,\n",
       "     'notional': None,\n",
       "     'order_class': <OrderClass.SIMPLE: 'simple'>,\n",
       "     'order_type': <OrderType.MARKET: 'market'>,\n",
       "     'qty': '0.01',\n",
       "     'replaced_at': None,\n",
       "     'replaced_by': None,\n",
       "     'replaces': None,\n",
       "     'side': <OrderSide.BUY: 'buy'>,\n",
       "     'status': <OrderStatus.FILLED: 'filled'>,\n",
       "     'stop_price': None,\n",
       "     'submitted_at': datetime.datetime(2024, 6, 13, 4, 45, 50, 88868, tzinfo=TzInfo(UTC)),\n",
       "     'symbol': 'BTC/USD',\n",
       "     'time_in_force': <TimeInForce.GTC: 'gtc'>,\n",
       "     'trail_percent': None,\n",
       "     'trail_price': None,\n",
       "     'type': <OrderType.MARKET: 'market'>,\n",
       "     'updated_at': datetime.datetime(2024, 6, 13, 4, 45, 50, 126601, tzinfo=TzInfo(UTC))}]"
      ]
     },
     "execution_count": 24,
     "metadata": {},
     "output_type": "execute_result"
    }
   ],
   "source": [
    "# get a list of orders including closed (e.g. filled) orders by specifying symbol\n",
    "req = GetOrdersRequest(\n",
    "    status = QueryOrderStatus.ALL,\n",
    "    symbols = [symbol]\n",
    ")\n",
    "orders = trade_client.get_orders(req)\n",
    "orders"
   ]
  },
  {
   "cell_type": "code",
   "execution_count": 25,
   "metadata": {},
   "outputs": [
    {
     "data": {
      "text/plain": [
       "[{   'asset_class': <AssetClass.CRYPTO: 'crypto'>,\n",
       "     'asset_id': UUID('276e2673-764b-4ab6-a611-caf665ca6340'),\n",
       "     'canceled_at': None,\n",
       "     'client_order_id': '7c68d4ff-6b33-4e31-bf98-a8fcdb9c39d5',\n",
       "     'created_at': datetime.datetime(2024, 6, 13, 4, 48, 46, 60575, tzinfo=TzInfo(UTC)),\n",
       "     'expired_at': None,\n",
       "     'extended_hours': False,\n",
       "     'failed_at': None,\n",
       "     'filled_at': None,\n",
       "     'filled_avg_price': None,\n",
       "     'filled_qty': '0',\n",
       "     'hwm': None,\n",
       "     'id': UUID('7f5e4eaf-9d9d-4ab7-8154-a12c3413ba3f'),\n",
       "     'legs': None,\n",
       "     'limit_price': '55000',\n",
       "     'notional': None,\n",
       "     'order_class': <OrderClass.SIMPLE: 'simple'>,\n",
       "     'order_type': <OrderType.STOP_LIMIT: 'stop_limit'>,\n",
       "     'qty': '0.01',\n",
       "     'replaced_at': None,\n",
       "     'replaced_by': None,\n",
       "     'replaces': None,\n",
       "     'side': <OrderSide.BUY: 'buy'>,\n",
       "     'status': <OrderStatus.NEW: 'new'>,\n",
       "     'stop_price': '60000',\n",
       "     'submitted_at': datetime.datetime(2024, 6, 13, 4, 48, 46, 60575, tzinfo=TzInfo(UTC)),\n",
       "     'symbol': 'BTC/USD',\n",
       "     'time_in_force': <TimeInForce.GTC: 'gtc'>,\n",
       "     'trail_percent': None,\n",
       "     'trail_price': None,\n",
       "     'type': <OrderType.STOP_LIMIT: 'stop_limit'>,\n",
       "     'updated_at': datetime.datetime(2024, 6, 13, 4, 48, 46, 62039, tzinfo=TzInfo(UTC))},\n",
       " {   'asset_class': <AssetClass.CRYPTO: 'crypto'>,\n",
       "     'asset_id': UUID('276e2673-764b-4ab6-a611-caf665ca6340'),\n",
       "     'canceled_at': None,\n",
       "     'client_order_id': '97334c66-5c42-4618-93a3-e9aaed1279d4',\n",
       "     'created_at': datetime.datetime(2024, 6, 13, 4, 48, 39, 654783, tzinfo=TzInfo(UTC)),\n",
       "     'expired_at': None,\n",
       "     'extended_hours': False,\n",
       "     'failed_at': None,\n",
       "     'filled_at': None,\n",
       "     'filled_avg_price': None,\n",
       "     'filled_qty': '0',\n",
       "     'hwm': None,\n",
       "     'id': UUID('3648c904-3901-4a5d-b10e-860dac02697f'),\n",
       "     'legs': None,\n",
       "     'limit_price': '60000',\n",
       "     'notional': None,\n",
       "     'order_class': <OrderClass.SIMPLE: 'simple'>,\n",
       "     'order_type': <OrderType.LIMIT: 'limit'>,\n",
       "     'qty': '0.01',\n",
       "     'replaced_at': None,\n",
       "     'replaced_by': None,\n",
       "     'replaces': None,\n",
       "     'side': <OrderSide.BUY: 'buy'>,\n",
       "     'status': <OrderStatus.NEW: 'new'>,\n",
       "     'stop_price': None,\n",
       "     'submitted_at': datetime.datetime(2024, 6, 13, 4, 48, 39, 654783, tzinfo=TzInfo(UTC)),\n",
       "     'symbol': 'BTC/USD',\n",
       "     'time_in_force': <TimeInForce.GTC: 'gtc'>,\n",
       "     'trail_percent': None,\n",
       "     'trail_price': None,\n",
       "     'type': <OrderType.LIMIT: 'limit'>,\n",
       "     'updated_at': datetime.datetime(2024, 6, 13, 4, 48, 39, 677226, tzinfo=TzInfo(UTC))}]"
      ]
     },
     "execution_count": 25,
     "metadata": {},
     "output_type": "execute_result"
    }
   ],
   "source": [
    "# see all open orders\n",
    "req = GetOrdersRequest(\n",
    "    status = QueryOrderStatus.OPEN,\n",
    "    symbols = [symbol]\n",
    ")\n",
    "open_orders = trade_client.get_orders(req)\n",
    "open_orders"
   ]
  },
  {
   "cell_type": "code",
   "execution_count": null,
   "metadata": {},
   "outputs": [],
   "source": [
    "# cancel all open orders\n",
    "trade_client.cancel_orders()"
   ]
  },
  {
   "cell_type": "markdown",
   "metadata": {},
   "source": [
    "### Positions"
   ]
  },
  {
   "cell_type": "code",
   "execution_count": 6,
   "metadata": {},
   "outputs": [
    {
     "ename": "APIError",
     "evalue": "{\"message\": \"forbidden.\"}\n",
     "output_type": "error",
     "traceback": [
      "\u001b[1;31m---------------------------------------------------------------------------\u001b[0m",
      "\u001b[1;31mHTTPError\u001b[0m                                 Traceback (most recent call last)",
      "File \u001b[1;32mc:\\Users\\rybot\\AppData\\Local\\Programs\\Python\\Python311\\Lib\\site-packages\\alpaca\\common\\rest.py:196\u001b[0m, in \u001b[0;36mRESTClient._one_request\u001b[1;34m(self, method, url, opts, retry)\u001b[0m\n\u001b[0;32m    195\u001b[0m \u001b[39mtry\u001b[39;00m:\n\u001b[1;32m--> 196\u001b[0m     response\u001b[39m.\u001b[39;49mraise_for_status()\n\u001b[0;32m    197\u001b[0m \u001b[39mexcept\u001b[39;00m HTTPError \u001b[39mas\u001b[39;00m http_error:\n\u001b[0;32m    198\u001b[0m     \u001b[39m# retry if we hit Rate Limit\u001b[39;00m\n",
      "File \u001b[1;32mc:\\Users\\rybot\\AppData\\Local\\Programs\\Python\\Python311\\Lib\\site-packages\\requests\\models.py:1021\u001b[0m, in \u001b[0;36mResponse.raise_for_status\u001b[1;34m(self)\u001b[0m\n\u001b[0;32m   1020\u001b[0m \u001b[39mif\u001b[39;00m http_error_msg:\n\u001b[1;32m-> 1021\u001b[0m     \u001b[39mraise\u001b[39;00m HTTPError(http_error_msg, response\u001b[39m=\u001b[39m\u001b[39mself\u001b[39m)\n",
      "\u001b[1;31mHTTPError\u001b[0m: 403 Client Error: Forbidden for url: https://paper-api.alpaca.markets/v2/positions",
      "\nDuring handling of the above exception, another exception occurred:\n",
      "\u001b[1;31mAPIError\u001b[0m                                  Traceback (most recent call last)",
      "Cell \u001b[1;32mIn[6], line 3\u001b[0m\n\u001b[0;32m      1\u001b[0m \u001b[39m# get all open positions\u001b[39;00m\n\u001b[0;32m      2\u001b[0m \u001b[39m# ref. https://docs.alpaca.markets/reference/getallopenpositions-1\u001b[39;00m\n\u001b[1;32m----> 3\u001b[0m positions \u001b[39m=\u001b[39m trade_client\u001b[39m.\u001b[39;49mget_all_positions()\n\u001b[0;32m      4\u001b[0m positions\n",
      "File \u001b[1;32mc:\\Users\\rybot\\AppData\\Local\\Programs\\Python\\Python311\\Lib\\site-packages\\alpaca\\trading\\client.py:235\u001b[0m, in \u001b[0;36mTradingClient.get_all_positions\u001b[1;34m(self)\u001b[0m\n\u001b[0;32m    226\u001b[0m \u001b[39mdef\u001b[39;00m \u001b[39mget_all_positions\u001b[39m(\n\u001b[0;32m    227\u001b[0m     \u001b[39mself\u001b[39m,\n\u001b[0;32m    228\u001b[0m ) \u001b[39m-\u001b[39m\u001b[39m>\u001b[39m Union[List[Position], RawData]:\n\u001b[0;32m    229\u001b[0m \u001b[39m    \u001b[39m\u001b[39m\"\"\"\u001b[39;00m\n\u001b[0;32m    230\u001b[0m \u001b[39m    Gets all the current open positions.\u001b[39;00m\n\u001b[0;32m    231\u001b[0m \n\u001b[0;32m    232\u001b[0m \u001b[39m    Returns:\u001b[39;00m\n\u001b[0;32m    233\u001b[0m \u001b[39m        List[Position]: List of open positions.\u001b[39;00m\n\u001b[0;32m    234\u001b[0m \u001b[39m    \"\"\"\u001b[39;00m\n\u001b[1;32m--> 235\u001b[0m     response \u001b[39m=\u001b[39m \u001b[39mself\u001b[39;49m\u001b[39m.\u001b[39;49mget(\u001b[39m\"\u001b[39;49m\u001b[39m/positions\u001b[39;49m\u001b[39m\"\u001b[39;49m)\n\u001b[0;32m    237\u001b[0m     \u001b[39mif\u001b[39;00m \u001b[39mself\u001b[39m\u001b[39m.\u001b[39m_use_raw_data:\n\u001b[0;32m    238\u001b[0m         \u001b[39mreturn\u001b[39;00m response\n",
      "File \u001b[1;32mc:\\Users\\rybot\\AppData\\Local\\Programs\\Python\\Python311\\Lib\\site-packages\\alpaca\\common\\rest.py:221\u001b[0m, in \u001b[0;36mRESTClient.get\u001b[1;34m(self, path, data, **kwargs)\u001b[0m\n\u001b[0;32m    210\u001b[0m \u001b[39mdef\u001b[39;00m \u001b[39mget\u001b[39m(\u001b[39mself\u001b[39m, path: \u001b[39mstr\u001b[39m, data: Union[\u001b[39mdict\u001b[39m, \u001b[39mstr\u001b[39m] \u001b[39m=\u001b[39m \u001b[39mNone\u001b[39;00m, \u001b[39m*\u001b[39m\u001b[39m*\u001b[39mkwargs) \u001b[39m-\u001b[39m\u001b[39m>\u001b[39m HTTPResult:\n\u001b[0;32m    211\u001b[0m \u001b[39m    \u001b[39m\u001b[39m\"\"\"Performs a single GET request\u001b[39;00m\n\u001b[0;32m    212\u001b[0m \n\u001b[0;32m    213\u001b[0m \u001b[39m    Args:\u001b[39;00m\n\u001b[1;32m   (...)\u001b[0m\n\u001b[0;32m    219\u001b[0m \u001b[39m        dict: The response\u001b[39;00m\n\u001b[0;32m    220\u001b[0m \u001b[39m    \"\"\"\u001b[39;00m\n\u001b[1;32m--> 221\u001b[0m     \u001b[39mreturn\u001b[39;00m \u001b[39mself\u001b[39;49m\u001b[39m.\u001b[39;49m_request(\u001b[39m\"\u001b[39;49m\u001b[39mGET\u001b[39;49m\u001b[39m\"\u001b[39;49m, path, data, \u001b[39m*\u001b[39;49m\u001b[39m*\u001b[39;49mkwargs)\n",
      "File \u001b[1;32mc:\\Users\\rybot\\AppData\\Local\\Programs\\Python\\Python311\\Lib\\site-packages\\alpaca\\common\\rest.py:129\u001b[0m, in \u001b[0;36mRESTClient._request\u001b[1;34m(self, method, path, data, base_url, api_version)\u001b[0m\n\u001b[0;32m    127\u001b[0m \u001b[39mwhile\u001b[39;00m retry \u001b[39m>\u001b[39m\u001b[39m=\u001b[39m \u001b[39m0\u001b[39m:\n\u001b[0;32m    128\u001b[0m     \u001b[39mtry\u001b[39;00m:\n\u001b[1;32m--> 129\u001b[0m         \u001b[39mreturn\u001b[39;00m \u001b[39mself\u001b[39;49m\u001b[39m.\u001b[39;49m_one_request(method, url, opts, retry)\n\u001b[0;32m    130\u001b[0m     \u001b[39mexcept\u001b[39;00m RetryException:\n\u001b[0;32m    131\u001b[0m         time\u001b[39m.\u001b[39msleep(\u001b[39mself\u001b[39m\u001b[39m.\u001b[39m_retry_wait)\n",
      "File \u001b[1;32mc:\\Users\\rybot\\AppData\\Local\\Programs\\Python\\Python311\\Lib\\site-packages\\alpaca\\common\\rest.py:205\u001b[0m, in \u001b[0;36mRESTClient._one_request\u001b[1;34m(self, method, url, opts, retry)\u001b[0m\n\u001b[0;32m    202\u001b[0m     \u001b[39m# raise API error for all other errors\u001b[39;00m\n\u001b[0;32m    203\u001b[0m     error \u001b[39m=\u001b[39m response\u001b[39m.\u001b[39mtext\n\u001b[1;32m--> 205\u001b[0m     \u001b[39mraise\u001b[39;00m APIError(error, http_error)\n\u001b[0;32m    207\u001b[0m \u001b[39mif\u001b[39;00m response\u001b[39m.\u001b[39mtext \u001b[39m!=\u001b[39m \u001b[39m\"\u001b[39m\u001b[39m\"\u001b[39m:\n\u001b[0;32m    208\u001b[0m     \u001b[39mreturn\u001b[39;00m response\u001b[39m.\u001b[39mjson()\n",
      "\u001b[1;31mAPIError\u001b[0m: {\"message\": \"forbidden.\"}\n"
     ]
    }
   ],
   "source": [
    "# get all open positions\n",
    "# ref. https://docs.alpaca.markets/reference/getallopenpositions-1\n",
    "positions = trade_client.get_all_positions()\n",
    "positions"
   ]
  },
  {
   "cell_type": "code",
   "execution_count": null,
   "metadata": {},
   "outputs": [],
   "source": [
    "# get positions by symbol\n",
    "# ref. https://docs.alpaca.markets/reference/getopenposition-1\n",
    "position = trade_client.get_open_position(symbol_or_asset_id=symbol)\n",
    "position\n"
   ]
  },
  {
   "cell_type": "code",
   "execution_count": null,
   "metadata": {},
   "outputs": [],
   "source": [
    "# get positions by asset_id\n",
    "trade_client.get_open_position(symbol_or_asset_id=position.asset_id)"
   ]
  },
  {
   "cell_type": "code",
   "execution_count": null,
   "metadata": {},
   "outputs": [],
   "source": [
    "# close the position with specifying qty\n",
    "# ref. https://docs.alpaca.markets/reference/deleteopenposition-1\n",
    "trade_client.close_position(\n",
    "    symbol_or_asset_id = symbol,\n",
    "    close_options = ClosePositionRequest(\n",
    "        qty = \"0.01\",\n",
    "    )\n",
    ")"
   ]
  },
  {
   "cell_type": "markdown",
   "metadata": {},
   "source": [
    "# Trade Update (Stream)"
   ]
  },
  {
   "cell_type": "markdown",
   "metadata": {},
   "source": [
    "With TradingStream client, you can get updates about trades\n",
    "\n",
    "You can open this notebook in another window and run below cell to check trade updates."
   ]
  },
  {
   "cell_type": "code",
   "execution_count": 31,
   "metadata": {},
   "outputs": [
    {
     "name": "stdout",
     "output_type": "stream",
     "text": [
      "keyboard interrupt, bye\n"
     ]
    }
   ],
   "source": [
    "# subscribe trade updates\n",
    "trade_stream_client = TradingStream(api_key, secret_key, paper=paper, url_override = trade_api_wss)\n",
    "\n",
    "async def trade_updates_handler(data):\n",
    "    print(data)\n",
    "\n",
    "trade_stream_client.subscribe_trade_updates(trade_updates_handler)\n",
    "trade_stream_client.run()"
   ]
  },
  {
   "cell_type": "markdown",
   "metadata": {},
   "source": [
    "# Market Data (Historical)"
   ]
  },
  {
   "cell_type": "code",
   "execution_count": 32,
   "metadata": {},
   "outputs": [],
   "source": [
    "# setup crypto historical data client\n",
    "crypto_historical_data_client = CryptoHistoricalDataClient()"
   ]
  },
  {
   "cell_type": "code",
   "execution_count": 33,
   "metadata": {},
   "outputs": [
    {
     "data": {
      "text/html": [
       "<div>\n",
       "<style scoped>\n",
       "    .dataframe tbody tr th:only-of-type {\n",
       "        vertical-align: middle;\n",
       "    }\n",
       "\n",
       "    .dataframe tbody tr th {\n",
       "        vertical-align: top;\n",
       "    }\n",
       "\n",
       "    .dataframe thead th {\n",
       "        text-align: right;\n",
       "    }\n",
       "</style>\n",
       "<table border=\"1\" class=\"dataframe\">\n",
       "  <thead>\n",
       "    <tr style=\"text-align: right;\">\n",
       "      <th></th>\n",
       "      <th></th>\n",
       "      <th>open</th>\n",
       "      <th>high</th>\n",
       "      <th>low</th>\n",
       "      <th>close</th>\n",
       "      <th>volume</th>\n",
       "      <th>trade_count</th>\n",
       "      <th>vwap</th>\n",
       "    </tr>\n",
       "    <tr>\n",
       "      <th>symbol</th>\n",
       "      <th>timestamp</th>\n",
       "      <th></th>\n",
       "      <th></th>\n",
       "      <th></th>\n",
       "      <th></th>\n",
       "      <th></th>\n",
       "      <th></th>\n",
       "      <th></th>\n",
       "    </tr>\n",
       "  </thead>\n",
       "  <tbody>\n",
       "    <tr>\n",
       "      <th rowspan=\"2\" valign=\"top\">BTC/USD</th>\n",
       "      <th>2024-06-08 05:00:00+00:00</th>\n",
       "      <td>69278.70</td>\n",
       "      <td>69321.1725</td>\n",
       "      <td>69197.5175</td>\n",
       "      <td>69288.090</td>\n",
       "      <td>0.000706</td>\n",
       "      <td>3.0</td>\n",
       "      <td>69298.881613</td>\n",
       "    </tr>\n",
       "    <tr>\n",
       "      <th>2024-06-08 06:00:00+00:00</th>\n",
       "      <td>69294.95</td>\n",
       "      <td>69399.2400</td>\n",
       "      <td>69238.4000</td>\n",
       "      <td>69313.235</td>\n",
       "      <td>0.000056</td>\n",
       "      <td>4.0</td>\n",
       "      <td>69300.108549</td>\n",
       "    </tr>\n",
       "  </tbody>\n",
       "</table>\n",
       "</div>"
      ],
      "text/plain": [
       "                                       open        high         low  \\\n",
       "symbol  timestamp                                                     \n",
       "BTC/USD 2024-06-08 05:00:00+00:00  69278.70  69321.1725  69197.5175   \n",
       "        2024-06-08 06:00:00+00:00  69294.95  69399.2400  69238.4000   \n",
       "\n",
       "                                       close    volume  trade_count  \\\n",
       "symbol  timestamp                                                     \n",
       "BTC/USD 2024-06-08 05:00:00+00:00  69288.090  0.000706          3.0   \n",
       "        2024-06-08 06:00:00+00:00  69313.235  0.000056          4.0   \n",
       "\n",
       "                                           vwap  \n",
       "symbol  timestamp                                \n",
       "BTC/USD 2024-06-08 05:00:00+00:00  69298.881613  \n",
       "        2024-06-08 06:00:00+00:00  69300.108549  "
      ]
     },
     "execution_count": 33,
     "metadata": {},
     "output_type": "execute_result"
    }
   ],
   "source": [
    "# get historical bars by symbol\n",
    "# ref. https://docs.alpaca.markets/reference/cryptobars-1\n",
    "now = datetime.now(ZoneInfo(\"America/New_York\"))\n",
    "req = CryptoBarsRequest(\n",
    "    symbol_or_symbols = [symbol],\n",
    "    timeframe=TimeFrame(amount = 1, unit = TimeFrameUnit.Hour), # specify timeframe\n",
    "    start = now - timedelta(days = 5),                          # specify start datetime, default=the beginning of the current day.\n",
    "    # end_date=None,                                        # specify end datetime, default=now\n",
    "    limit = 2,                                               # specify limit\n",
    ")\n",
    "crypto_historical_data_client.get_crypto_bars(req).df"
   ]
  },
  {
   "cell_type": "code",
   "execution_count": 34,
   "metadata": {},
   "outputs": [
    {
     "data": {
      "text/html": [
       "<div>\n",
       "<style scoped>\n",
       "    .dataframe tbody tr th:only-of-type {\n",
       "        vertical-align: middle;\n",
       "    }\n",
       "\n",
       "    .dataframe tbody tr th {\n",
       "        vertical-align: top;\n",
       "    }\n",
       "\n",
       "    .dataframe thead th {\n",
       "        text-align: right;\n",
       "    }\n",
       "</style>\n",
       "<table border=\"1\" class=\"dataframe\">\n",
       "  <thead>\n",
       "    <tr style=\"text-align: right;\">\n",
       "      <th></th>\n",
       "      <th></th>\n",
       "      <th>price</th>\n",
       "      <th>size</th>\n",
       "      <th>id</th>\n",
       "    </tr>\n",
       "    <tr>\n",
       "      <th>symbol</th>\n",
       "      <th>timestamp</th>\n",
       "      <th></th>\n",
       "      <th></th>\n",
       "      <th></th>\n",
       "    </tr>\n",
       "  </thead>\n",
       "  <tbody>\n",
       "    <tr>\n",
       "      <th rowspan=\"2\" valign=\"top\">BTC/USD</th>\n",
       "      <th>2024-06-08 05:34:49.206164+00:00</th>\n",
       "      <td>69307.99</td>\n",
       "      <td>0.000283</td>\n",
       "      <td>3896482511384563408</td>\n",
       "    </tr>\n",
       "    <tr>\n",
       "      <th>2024-06-08 05:47:56.991273+00:00</th>\n",
       "      <td>69296.61</td>\n",
       "      <td>0.000283</td>\n",
       "      <td>7096718593807172272</td>\n",
       "    </tr>\n",
       "  </tbody>\n",
       "</table>\n",
       "</div>"
      ],
      "text/plain": [
       "                                             price      size  \\\n",
       "symbol  timestamp                                              \n",
       "BTC/USD 2024-06-08 05:34:49.206164+00:00  69307.99  0.000283   \n",
       "        2024-06-08 05:47:56.991273+00:00  69296.61  0.000283   \n",
       "\n",
       "                                                           id  \n",
       "symbol  timestamp                                              \n",
       "BTC/USD 2024-06-08 05:34:49.206164+00:00  3896482511384563408  \n",
       "        2024-06-08 05:47:56.991273+00:00  7096718593807172272  "
      ]
     },
     "execution_count": 34,
     "metadata": {},
     "output_type": "execute_result"
    }
   ],
   "source": [
    "# get historical trades by symbol\n",
    "req = CryptoTradesRequest(\n",
    "    symbol_or_symbols = [symbol],\n",
    "    start = now - timedelta(days = 5),                          # specify start datetime, default=the beginning of the current day.\n",
    "    # end=None,                                             # specify end datetime, default=now\n",
    "    limit = 2,                                                # specify limit\n",
    ")\n",
    "crypto_historical_data_client.get_crypto_trades(req).df"
   ]
  },
  {
   "cell_type": "code",
   "execution_count": 35,
   "metadata": {},
   "outputs": [
    {
     "data": {
      "text/plain": [
       "{'BTC/USD': {   'ask_exchange': None,\n",
       "     'ask_price': 67490.2,\n",
       "     'ask_size': 0.2802,\n",
       "     'bid_exchange': None,\n",
       "     'bid_price': 67402.77,\n",
       "     'bid_size': 0.278652,\n",
       "     'conditions': None,\n",
       "     'symbol': 'BTC/USD',\n",
       "     'tape': None,\n",
       "     'timestamp': datetime.datetime(2024, 6, 13, 4, 47, 37, 85373, tzinfo=TzInfo(UTC))}}"
      ]
     },
     "execution_count": 35,
     "metadata": {},
     "output_type": "execute_result"
    }
   ],
   "source": [
    "# get latest quotes by symbol\n",
    "req = CryptoLatestQuoteRequest(\n",
    "    symbol_or_symbols = [symbol],\n",
    ")\n",
    "res = crypto_historical_data_client.get_crypto_latest_quote(req)\n",
    "res"
   ]
  }
 ],
 "metadata": {
  "kernelspec": {
   "display_name": ".venv",
   "language": "python",
   "name": "python3"
  },
  "language_info": {
   "codemirror_mode": {
    "name": "ipython",
    "version": 3
   },
   "file_extension": ".py",
   "mimetype": "text/x-python",
   "name": "python",
   "nbconvert_exporter": "python",
   "pygments_lexer": "ipython3",
   "version": "3.11.4"
  }
 },
 "nbformat": 4,
 "nbformat_minor": 2
}
