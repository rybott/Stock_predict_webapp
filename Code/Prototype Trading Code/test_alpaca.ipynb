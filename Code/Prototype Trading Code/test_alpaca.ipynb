{
 "cells": [
  {
   "cell_type": "markdown",
   "metadata": {},
   "source": [
    "# Testing Alpca API"
   ]
  },
  {
   "cell_type": "code",
   "execution_count": 5,
   "metadata": {},
   "outputs": [],
   "source": [
    "from alpaca.trading.requests import TrailingStopOrderRequest, MarketOrderRequest\n",
    "from alpaca.trading.enums import OrderSide, TimeInForce, OrderType\n",
    "from alpaca.trading.client import TradingClient"
   ]
  },
  {
   "cell_type": "code",
   "execution_count": 11,
   "metadata": {},
   "outputs": [],
   "source": [
    "# Please change the following to your own PAPER api key and secret\n",
    "# You can get them from https://alpaca.markets/\n",
    "\n",
    "api_key = \"PK4R84RBX16TQAMUDRCX\"\n",
    "secret_key = \"HYnb6zdd05sCFNtkeRDhHxzT4m9TKxxsqBYibWVX\"\n",
    "\n",
    "#### We use paper environment for this example ####\n",
    "paper = True # Please do not modify this. This example is for paper trading only.\n",
    "####\n",
    "\n",
    "# Below are the variables for development this documents\n",
    "# Please do not change these variables\n",
    "trade_api_url = None\n",
    "trade_api_wss = None\n",
    "data_api_url = None\n",
    "stream_data_wss = None\n",
    "\n",
    "# we will place orders for symbol: BTC/USD in this example\n",
    "symbol = \"BTC/USD\""
   ]
  },
  {
   "cell_type": "code",
   "execution_count": 12,
   "metadata": {},
   "outputs": [],
   "source": [
    "# setup clients\n",
    "trade_client = TradingClient(api_key=api_key, secret_key=secret_key, paper=True, url_override=trade_api_url)"
   ]
  },
  {
   "cell_type": "code",
   "execution_count": 19,
   "metadata": {},
   "outputs": [
    {
     "data": {
      "text/plain": [
       "{   'asset_class': <AssetClass.CRYPTO: 'crypto'>,\n",
       "    'asset_id': UUID('276e2673-764b-4ab6-a611-caf665ca6340'),\n",
       "    'canceled_at': None,\n",
       "    'client_order_id': '529c37b0-9fc6-4ecd-98bb-78d4a1b1536c',\n",
       "    'created_at': datetime.datetime(2024, 6, 13, 5, 34, 13, 828665, tzinfo=TzInfo(UTC)),\n",
       "    'expired_at': None,\n",
       "    'extended_hours': False,\n",
       "    'failed_at': None,\n",
       "    'filled_at': None,\n",
       "    'filled_avg_price': None,\n",
       "    'filled_qty': '0',\n",
       "    'hwm': None,\n",
       "    'id': UUID('97600dd8-3c82-4b26-a975-bd16e0120354'),\n",
       "    'legs': None,\n",
       "    'limit_price': None,\n",
       "    'notional': '1000',\n",
       "    'order_class': <OrderClass.SIMPLE: 'simple'>,\n",
       "    'order_type': <OrderType.MARKET: 'market'>,\n",
       "    'qty': None,\n",
       "    'replaced_at': None,\n",
       "    'replaced_by': None,\n",
       "    'replaces': None,\n",
       "    'side': <OrderSide.BUY: 'buy'>,\n",
       "    'status': <OrderStatus.PENDING_NEW: 'pending_new'>,\n",
       "    'stop_price': None,\n",
       "    'submitted_at': datetime.datetime(2024, 6, 13, 5, 34, 13, 828665, tzinfo=TzInfo(UTC)),\n",
       "    'symbol': 'BTC/USD',\n",
       "    'time_in_force': <TimeInForce.GTC: 'gtc'>,\n",
       "    'trail_percent': None,\n",
       "    'trail_price': None,\n",
       "    'type': <OrderType.MARKET: 'market'>,\n",
       "    'updated_at': datetime.datetime(2024, 6, 13, 5, 34, 13, 829941, tzinfo=TzInfo(UTC))}"
      ]
     },
     "execution_count": 19,
     "metadata": {},
     "output_type": "execute_result"
    }
   ],
   "source": [
    "# simple, market order, notional\n",
    "\n",
    "req = MarketOrderRequest(\n",
    "    symbol = symbol,\n",
    "    notional = 1000,  # notional is specified in USD, here we specify $1.11\n",
    "    side = OrderSide.BUY,\n",
    "    type = OrderType.MARKET,\n",
    "    time_in_force = TimeInForce.GTC,\n",
    ")\n",
    "res = trade_client.submit_order(req)\n",
    "res"
   ]
  },
  {
   "cell_type": "code",
   "execution_count": null,
   "metadata": {},
   "outputs": [],
   "source": [
    "# trailing Stop Loss\n",
    "from alpaca.trading.requests import StopLossRequest\n",
    "\n",
    "\n",
    "\n",
    "req = StopLossRequest(\n",
    "    symbol = symbol,\n",
    "    notional = 10,\n",
    "    side = OrderSide.BUY,\n",
    "    time_in_force = TimeInForce.DAY,\n",
    "    stop_price= )\n",
    "\n",
    "res = trade_client.submit_order(req)\n",
    "res\n"
   ]
  },
  {
   "cell_type": "code",
   "execution_count": null,
   "metadata": {},
   "outputs": [],
   "source": [
    "import pandas as pd\n",
    "import ast\n",
    "\n",
    "with open('C:\\Design Folder\\RBGithub\\Stock_predict_webapp\\Code\\Prototype Trading Code\\data.txt', 'r') as file:\n",
    "    content = file.read()\n",
    "    Dict_list = ast.literal_eval(content)\n",
    "    for key in Dict_list[0].keys():\n",
    "        print(key)  "
   ]
  },
  {
   "cell_type": "code",
   "execution_count": 38,
   "metadata": {},
   "outputs": [
    {
     "name": "stdout",
     "output_type": "stream",
     "text": [
      "0\n"
     ]
    },
    {
     "ename": "IndexError",
     "evalue": "list index out of range",
     "output_type": "error",
     "traceback": [
      "\u001b[1;31m---------------------------------------------------------------------------\u001b[0m",
      "\u001b[1;31mIndexError\u001b[0m                                Traceback (most recent call last)",
      "Cell \u001b[1;32mIn[38], line 10\u001b[0m\n\u001b[0;32m      7\u001b[0m positions \u001b[38;5;241m=\u001b[39m client\u001b[38;5;241m.\u001b[39mget_all_positions()\n\u001b[0;32m      8\u001b[0m \u001b[38;5;28mprint\u001b[39m(\u001b[38;5;28mlen\u001b[39m(positions))\n\u001b[1;32m---> 10\u001b[0m Quantity \u001b[38;5;241m=\u001b[39m \u001b[38;5;28mfloat\u001b[39m(\u001b[43mpositions\u001b[49m\u001b[43m[\u001b[49m\u001b[38;5;241;43m0\u001b[39;49m\u001b[43m]\u001b[49m\u001b[38;5;241m.\u001b[39mqty)\n\u001b[0;32m     11\u001b[0m PL_percent \u001b[38;5;241m=\u001b[39m \u001b[38;5;28mfloat\u001b[39m(positions[\u001b[38;5;241m0\u001b[39m]\u001b[38;5;241m.\u001b[39munrealized_intraday_plpc)\n\u001b[0;32m     14\u001b[0m \u001b[38;5;66;03m# If Loosing Money Close all Positions (Which is just BTC)\u001b[39;00m\n",
      "\u001b[1;31mIndexError\u001b[0m: list index out of range"
     ]
    }
   ],
   "source": [
    "\n",
    "\n",
    "api_key = \"PKYBOP7WCHJG8U2UWBVB\"\n",
    "secret_key = \"WyL7X8v4OBkuFFT4urOPMLZ9EG88HBAFxWRsuRE5\"\n",
    "paper = True \n",
    "\n",
    "client = TradingClient(api_key=api_key, secret_key=secret_key, paper=paper, url_override=None)\n",
    "\n",
    "positions = client.get_all_positions()\n",
    "print(len(positions))\n",
    "\n",
    "Quantity = float(positions[0].qty)\n",
    "PL_percent = float(positions[0].unrealized_intraday_plpc)\n",
    "\n",
    "\n",
    "# If Loosing Money Close all Positions (Which is just BTC)\n",
    "req = MarketOrderRequest(\n",
    "symbol = symbol,\n",
    "qty = Quantity,\n",
    "side = OrderSide.SELL,\n",
    "type = OrderType.MARKET,\n",
    "time_in_force = TimeInForce.GTC)\n",
    "res = client.submit_order(req)\n",
    "\n",
    "print(res)"
   ]
  }
 ],
 "metadata": {
  "kernelspec": {
   "display_name": "Python 3",
   "language": "python",
   "name": "python3"
  },
  "language_info": {
   "codemirror_mode": {
    "name": "ipython",
    "version": 3
   },
   "file_extension": ".py",
   "mimetype": "text/x-python",
   "name": "python",
   "nbconvert_exporter": "python",
   "pygments_lexer": "ipython3",
   "version": "3.11.9"
  }
 },
 "nbformat": 4,
 "nbformat_minor": 2
}
