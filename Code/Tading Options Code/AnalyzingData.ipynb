{
 "cells": [
  {
   "cell_type": "markdown",
   "metadata": {},
   "source": [
    "# Initialized"
   ]
  },
  {
   "cell_type": "code",
   "execution_count": 1,
   "metadata": {},
   "outputs": [],
   "source": [
    "# At end of session\n",
    "import duckdb as ddb\n",
    "ddb.close()"
   ]
  },
  {
   "cell_type": "code",
   "execution_count": 2,
   "metadata": {},
   "outputs": [],
   "source": [
    "import os\n",
    "from dotenv import load_dotenv\n",
    "import pandas as pd\n",
    "import duckdb as ddb\n",
    "import requests\n",
    "import datetime\n",
    "import time\n",
    "import pandas_ta as ta\n",
    "\n",
    "from SQL.Querys import DBconn\n",
    "con = ddb.connect(r'C:\\Design Folder\\RBGithub\\Trading_Algo_Data\\testingalphaoptions.duckdb')\n",
    "db = DBconn(con)\n",
    "\n",
    "date = '2024-07-05'"
   ]
  },
  {
   "cell_type": "markdown",
   "metadata": {},
   "source": [
    "### Get the Stock Data form Alpha Vantage"
   ]
  },
  {
   "cell_type": "code",
   "execution_count": 14,
   "metadata": {},
   "outputs": [
    {
     "name": "stdout",
     "output_type": "stream",
     "text": [
      "<class 'pandas.core.frame.DataFrame'>\n",
      "RangeIndex: 18214 entries, 0 to 18213\n",
      "Data columns (total 7 columns):\n",
      " #   Column     Non-Null Count  Dtype         \n",
      "---  ------     --------------  -----         \n",
      " 0   open       18214 non-null  float64       \n",
      " 1   high       18214 non-null  object        \n",
      " 2   low        18214 non-null  object        \n",
      " 3   close      18214 non-null  float64       \n",
      " 4   volume     18214 non-null  object        \n",
      " 5   timestamp  18214 non-null  datetime64[ns]\n",
      " 6   Trade      18214 non-null  bool          \n",
      "dtypes: bool(1), datetime64[ns](1), float64(2), object(3)\n",
      "memory usage: 871.7+ KB\n",
      "None\n"
     ]
    }
   ],
   "source": [
    "load_dotenv()\n",
    "api_key = os.getenv(\"Alpha_API\")\n",
    "symbol = 'AAPL'\n",
    "interval = '1'\n",
    "Stock_lookback_period = 100\n",
    "Increasing_Mins = 2\n",
    "\n",
    "#url = f\"https://www.alphavantage.co/query?function=TIME_SERIES_INTRADAY&symbol={symbol}&interval=1min&month=2024-07&outputsize=full&apikey={api_key}\"\n",
    "\n",
    "stock_api = f'https://www.alphavantage.co/query?function=TIME_SERIES_INTRADAY&symbol={symbol}&interval={interval}min&month=2024-06&entitlement=realtime&outputsize=full&apikey={api_key}'\n",
    "\n",
    "\n",
    "r = requests.get(stock_api)\n",
    "key = f'Time Series (1min)'\n",
    "data = r.json().get(key, {})\n",
    "\n",
    "df = pd.DataFrame.from_dict(data, orient='index')\n",
    "\n",
    "df.index = pd.to_datetime(df.index)\n",
    "\n",
    "#For Single Day\n",
    "#stock_df = df.loc[date]\n",
    "\n",
    "stock_df = df\n",
    "\n",
    "new_column_names = ['open', 'high', 'low', 'close', 'volume']\n",
    "stock_df.columns = new_column_names\n",
    "\n",
    "\n",
    "stock_df = stock_df.copy()\n",
    "stock_df['timestamp'] = stock_df.index\n",
    "stock_df.reset_index(drop=True,inplace=True)\n",
    "\n",
    "stock_df['Trade'] = False\n",
    "stock_df['close'] = pd.to_numeric(stock_df['close'])\n",
    "stock_df['open'] = pd.to_numeric(stock_df['open'])\n",
    "clean_stock_df = stock_df\n",
    "\n",
    "\n",
    "\n",
    "print(stock_df.info())\n"
   ]
  },
  {
   "cell_type": "markdown",
   "metadata": {},
   "source": [
    "# Analyze Stock Data "
   ]
  },
  {
   "cell_type": "markdown",
   "metadata": {},
   "source": [
    "## EMA and Local Mins Strategy \n",
    "1. Stock_df index Starts with newest stock price\n",
    "2. Swoosh\n",
    "   - Price should be greater than 4\n",
    "   - 1 should be greater than 3\n",
    "   - 3 should be greater than 2\n",
    "\n",
    "### Notes\n",
    "1. Swoosh Points tell us When to look at the data \n",
    "2. 94 / 959 are Swoosh Points\n",
    "3. Analysing Local Minmums\n",
    "   1. Find all the minimums\n",
    "   2. Check to see if the last X minimums are increases\n",
    "   3. Check if the last X minimums are > 8 EMA\n",
    "   4. Check if for the last X Minimums the 8 EMA > 20 EMA"
   ]
  },
  {
   "cell_type": "code",
   "execution_count": 20,
   "metadata": {},
   "outputs": [
    {
     "name": "stdout",
     "output_type": "stream",
     "text": [
      "<class 'pandas.core.frame.DataFrame'>\n",
      "Index: 25 entries, 43 to 750\n",
      "Data columns (total 18 columns):\n",
      " #   Column            Non-Null Count  Dtype         \n",
      "---  ------            --------------  -----         \n",
      " 0   open              25 non-null     float64       \n",
      " 1   high              25 non-null     object        \n",
      " 2   low               25 non-null     object        \n",
      " 3   close             25 non-null     float64       \n",
      " 4   volume            25 non-null     object        \n",
      " 5   timestamp         25 non-null     datetime64[ns]\n",
      " 6   Trade             25 non-null     bool          \n",
      " 7   WasRed            25 non-null     bool          \n",
      " 8   Engulfing Candle  25 non-null     bool          \n",
      " 9   EMA100            25 non-null     float64       \n",
      " 10  Found_EMA100      25 non-null     int64         \n",
      " 11  Min_Test          25 non-null     object        \n",
      " 12  EmaMin_Test       25 non-null     object        \n",
      " 13  EMA_Test          25 non-null     object        \n",
      " 14  less1             25 non-null     float64       \n",
      " 15  less2             25 non-null     float64       \n",
      " 16  less3             25 non-null     float64       \n",
      " 17  Swoosh            25 non-null     bool          \n",
      "dtypes: bool(4), datetime64[ns](1), float64(6), int64(1), object(6)\n",
      "memory usage: 3.0+ KB\n",
      "None\n"
     ]
    }
   ],
   "source": [
    "stock_df['Min_Test'] = False\n",
    "stock_df['EmaMin_Test'] = False\n",
    "stock_df['EMA_Test'] = False\n",
    "stock_df['Trade'] = False\n",
    "\n",
    "\n",
    "stock_df['less1'] = stock_df['close'].shift(-1)\n",
    "stock_df['less2'] = stock_df['close'].shift(-2)\n",
    "stock_df['less3'] = stock_df['close'].shift(-3)\n",
    "stock_df['Swoosh'] = (stock_df['less1']<stock_df['close']) & (stock_df['less2']<stock_df['less1']) & (stock_df['less2']<stock_df['less3'])\n",
    "\n",
    "swoosh_points = stock_df[stock_df['Swoosh']]\n",
    "\n",
    "for index, row in swoosh_points.iterrows():\n",
    "    if index <= index+Stock_lookback_period: \n",
    "\n",
    "        table_range = stock_df.iloc[index:index+Stock_lookback_period-1].copy()\n",
    "\n",
    "        # Stock Analysis \n",
    "        # Reverse table to calculate EMA correctly\n",
    "        table_range_reversed = table_range.iloc[::-1].copy()\n",
    "        table_range_reversed['EMA8'] = ta.ema(close=table_range_reversed['close'], length=8)\n",
    "        table_range_reversed['EMA20'] = ta.ema(close=table_range_reversed['close'], length=20)\n",
    "\n",
    "        # Reverse the EMA columns back to original order\n",
    "        table_range['EMA8'] = table_range_reversed['EMA8'].iloc[::-1].values\n",
    "        table_range['EMA20'] = table_range_reversed['EMA20'].iloc[::-1].values\n",
    "\n",
    "        table_range['Local_Min'] = table_range['close'][(table_range['close'].shift(-1)>table_range['close'])&\n",
    "                                                        (table_range['close'].shift(1)>table_range['close'])]\n",
    "\n",
    "        local_mins = table_range[['close','Local_Min','EMA8','EMA20']].dropna()\n",
    "\n",
    "        if len(local_mins) < 2:\n",
    "            continue\n",
    "\n",
    "        local_mins['Min_Test'] = local_mins['Local_Min'] > local_mins['Local_Min'].shift(-1)\n",
    "        local_mins['EmaMin_Test'] = local_mins['Local_Min'] > local_mins['EMA8']\n",
    "        local_mins['EMA_Test'] = local_mins['EMA8'] > local_mins['EMA20']\n",
    "        \n",
    "        Update_df = local_mins[['Min_Test','EmaMin_Test','EMA_Test']]\n",
    "\n",
    "        stock_df.update(Update_df)\n",
    "        table_range.update(Update_df)\n",
    "\n",
    "        if all([local_mins['Min_Test'].iloc[:1].all(),\n",
    "                local_mins['EmaMin_Test'].iloc[:1].all(),\n",
    "                local_mins['EMA_Test'].iloc[:1].all()]):\n",
    "            stock_df.at[index, 'Trade'] = True\n",
    "            table_range.at[index, 'Trade'] = True\n",
    "\n",
    "\n",
    "with pd.ExcelWriter('stockdata3.xlsx') as writer:\n",
    "    stock_df.to_excel(writer, sheet_name='Sheet1', index=True)\n",
    "\n",
    "        \n",
    "\n",
    "\n",
    "print(stock_df[stock_df['Trade']].info())\n",
    "\n",
    "\n",
    "\n"
   ]
  },
  {
   "cell_type": "markdown",
   "metadata": {},
   "source": [
    "## RSI and Engulfing Candle (REC) Strategy "
   ]
  },
  {
   "cell_type": "code",
   "execution_count": null,
   "metadata": {},
   "outputs": [],
   "source": [
    "REC_df = clean_stock_df\n",
    "\n",
    "Max_index = len(REC_df['timestamp'])-100\n",
    "\n",
    "# Calculate Engulfing Candles\n",
    "REC_df['WasRed'] = REC_df['close'].shift(-1) < REC_df['open'].shift(-1)\n",
    "REC_df['Engulfing Candle'] = REC_df['WasRed'] & (REC_df['open'] < REC_df['close'].shift(-1)) & (REC_df['close'] > REC_df['open'].shift(-1))\n",
    "\n",
    "REC_df_Reversed = REC_df.iloc[::-1].copy()\n",
    "REC_df_Reversed['EMA100'] = ta.ema(close=REC_df_Reversed['close'], length=100)\n",
    "REC_df['EMA100'] = REC_df_Reversed['EMA100'].iloc[::-1].values\n",
    "\n",
    "REC_df['Found_EMA100'] = pd.Series(dtype=float)\n",
    "REC_df['RSI'] = pd.Series(dtype=float)\n",
    "\n",
    "Engulfing_df = REC_df[REC_df['Engulfing Candle']]\n",
    "\n",
    "stock_df['Found_EMA100'] = pd.Series(dtype=float)\n",
    "stock_df['RSI'] = pd.Series(dtype=float)\n",
    "\n",
    "for index, row in Engulfing_df.iterrows():\n",
    "    if index < Max_index:\n",
    "        Engulfing_range = REC_df.iloc[index:index+100].copy()\n",
    "\n",
    "        Engulfing_range_reversed = Engulfing_range.iloc[::-1].copy()\n",
    "        Engulfing_range_reversed['EMA100'] = ta.ema(close=Engulfing_range_reversed['close'], length=100)\n",
    "        Engulfing_range_reversed['RSI'] = ta.rsi(close=Engulfing_range_reversed['close'])\n",
    "\n",
    "        Engulfing_range['EMA100'] = Engulfing_range_reversed['EMA100'].iloc[::-1].values\n",
    "        Engulfing_range['RSI'] = Engulfing_range_reversed['RSI'].iloc[::-1].values\n",
    "\n",
    "        \n",
    "        REC_df['Found_EMA100'].update(Engulfing_range['EMA100'])\n",
    "        REC_df['RSI'].update(Engulfing_range['RSI'])\n",
    "\n",
    "\n",
    "        if Engulfing_range['close'].iloc[0] > Engulfing_range['EMA100'].iloc[0] + (Engulfing_range['EMA100'].iloc[0] * .05):\n",
    "            if Engulfing_range['RSI'] > 55:\n",
    "                REC_df.at[index, 'Trade'] = True\n",
    "\n",
    "Tradable_df = REC_df[REC_df['Trade']]\n",
    "\n",
    "print(Tradable_df.info())\n",
    "        \n",
    "with pd.ExcelWriter('RECdata.xlsx') as writer:\n",
    "    REC_df.to_excel(writer, sheet_name='Sheet1', index=True)\n"
   ]
  },
  {
   "cell_type": "markdown",
   "metadata": {},
   "source": [
    "# MACD Strategy"
   ]
  },
  {
   "cell_type": "code",
   "execution_count": null,
   "metadata": {},
   "outputs": [],
   "source": []
  },
  {
   "cell_type": "markdown",
   "metadata": {},
   "source": [
    "# Getting Data From Options DB \n",
    "1. Get a List of Options Log Times\n",
    "2. Write a For Loop that goes through "
   ]
  },
  {
   "cell_type": "code",
   "execution_count": null,
   "metadata": {},
   "outputs": [],
   "source": [
    "test_df = stock_df.copy()\n",
    "\n",
    "table_range_reversed = test_df.iloc[::-1].copy()\n",
    "table_range_reversed['EMA8'] = ta.ema(close=table_range_reversed['close'], length=8)\n",
    "table_range_reversed['EMA20'] = ta.ema(close=table_range_reversed['close'], length=20)\n",
    "\n",
    "# Reverse the EMA columns back to original order\n",
    "test_df['EMA8'] = table_range_reversed['EMA8'].iloc[::-1].values\n",
    "test_df['EMA20'] = table_range_reversed['EMA20'].iloc[::-1].values\n",
    "\n",
    "test_df['Local_Min'] = test_df['close'][(test_df['close'].shift(-1)>test_df['close'])&\n",
    "                                                (test_df['close'].shift(1)>test_df['close'])]\n",
    "\n",
    "\n",
    "with pd.ExcelWriter('Stockdf2.xlsx') as writer:\n",
    "  test_df.to_excel(writer, sheet_name='Sheet1', index=True)"
   ]
  }
 ],
 "metadata": {
  "kernelspec": {
   "display_name": "Python 3",
   "language": "python",
   "name": "python3"
  },
  "language_info": {
   "codemirror_mode": {
    "name": "ipython",
    "version": 3
   },
   "file_extension": ".py",
   "mimetype": "text/x-python",
   "name": "python",
   "nbconvert_exporter": "python",
   "pygments_lexer": "ipython3",
   "version": "3.11.9"
  }
 },
 "nbformat": 4,
 "nbformat_minor": 2
}
