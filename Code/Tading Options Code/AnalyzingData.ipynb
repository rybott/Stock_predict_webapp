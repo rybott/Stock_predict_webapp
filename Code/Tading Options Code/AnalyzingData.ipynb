{
 "cells": [
  {
   "cell_type": "markdown",
   "metadata": {},
   "source": [
    "# Initialized"
   ]
  },
  {
   "cell_type": "code",
   "execution_count": 1,
   "metadata": {},
   "outputs": [],
   "source": [
    "# At end of session\n",
    "import duckdb as ddb\n",
    "ddb.close()"
   ]
  },
  {
   "cell_type": "code",
   "execution_count": 75,
   "metadata": {},
   "outputs": [],
   "source": [
    "import os\n",
    "from dotenv import load_dotenv\n",
    "import pandas as pd\n",
    "import duckdb as ddb\n",
    "import requests\n",
    "import datetime\n",
    "import time\n",
    "import pandas_ta as ta\n",
    "\n",
    "from SQL.Querys import DBconn\n",
    "con = ddb.connect(r'C:\\Design Folder\\RBGithub\\Trading_Algo_Data\\testingalphaoptions.duckdb')\n",
    "db = DBconn(con)\n",
    "\n",
    "date = '2024-07-05'"
   ]
  },
  {
   "cell_type": "markdown",
   "metadata": {},
   "source": [
    "### Get the Stock Data form Alpha Vantage"
   ]
  },
  {
   "cell_type": "code",
   "execution_count": 102,
   "metadata": {},
   "outputs": [
    {
     "name": "stdout",
     "output_type": "stream",
     "text": [
      "<class 'pandas.core.frame.DataFrame'>\n",
      "RangeIndex: 960 entries, 0 to 959\n",
      "Data columns (total 10 columns):\n",
      " #   Column       Non-Null Count  Dtype         \n",
      "---  ------       --------------  -----         \n",
      " 0   open         960 non-null    object        \n",
      " 1   high         960 non-null    object        \n",
      " 2   low          960 non-null    object        \n",
      " 3   close        960 non-null    object        \n",
      " 4   volume       960 non-null    object        \n",
      " 5   timestamp    960 non-null    datetime64[ns]\n",
      " 6   Min_Test     960 non-null    bool          \n",
      " 7   EmaMin_Test  960 non-null    bool          \n",
      " 8   EMA_Test     960 non-null    bool          \n",
      " 9   Trade        960 non-null    bool          \n",
      "dtypes: bool(4), datetime64[ns](1), object(5)\n",
      "memory usage: 48.9+ KB\n",
      "None\n"
     ]
    }
   ],
   "source": [
    "load_dotenv()\n",
    "api_key = os.getenv(\"Alpha_API\")\n",
    "symbol = 'AAPL'\n",
    "interval = '1'\n",
    "Stock_lookback_period = 100\n",
    "Increasing_Mins = 2\n",
    "\n",
    "#url = f\"https://www.alphavantage.co/query?function=TIME_SERIES_INTRADAY&symbol={symbol}&interval=1min&month=2024-07&outputsize=full&apikey={api_key}\"\n",
    "\n",
    "stock_api = f'https://www.alphavantage.co/query?function=TIME_SERIES_INTRADAY&symbol={symbol}&interval={interval}min&entitlement=realtime&outputsize=full&apikey={api_key}'\n",
    "\n",
    "\n",
    "r = requests.get(stock_api)\n",
    "key = f'Time Series (1min)'\n",
    "data = r.json().get(key, {})\n",
    "\n",
    "df = pd.DataFrame.from_dict(data, orient='index')\n",
    "\n",
    "df.index = pd.to_datetime(df.index)\n",
    "\n",
    "stock_df = df.loc[date]\n",
    "\n",
    "new_column_names = ['open', 'high', 'low', 'close', 'volume']\n",
    "stock_df.columns = new_column_names\n",
    "\n",
    "\n",
    "stock_df = stock_df.copy()\n",
    "stock_df['timestamp'] = stock_df.index\n",
    "stock_df.reset_index(drop=True,inplace=True)\n",
    "\n",
    "stock_df['Min_Test'] = False\n",
    "stock_df['EmaMin_Test'] = False\n",
    "stock_df['EMA_Test'] = False\n",
    "stock_df['Trade'] = False\n",
    "\n",
    "\n",
    "print(stock_df.info())\n"
   ]
  },
  {
   "cell_type": "markdown",
   "metadata": {},
   "source": [
    "# Analyze Stock Data\n",
    "1. Stock_df index Starts with newest stock price\n",
    "2. Swoosh\n",
    "   - Price should be greater than 4\n",
    "   - 1 should be greater than 3\n",
    "   - 3 should be greater than 2\n",
    "\n",
    "### Notes\n",
    "1. Swoosh Points tell us When to look at the data \n",
    "2. 94 / 959 are Swoosh Points\n",
    "3. Analysing Local Minmums\n",
    "   1. Find all the minimums\n",
    "   2. Check to see if the last X minimums are increases\n",
    "   3. Check if the last X minimums are > 8 EMA\n",
    "   4. Check if for the last X Minimums the 8 EMA > 20 EMA"
   ]
  },
  {
   "cell_type": "code",
   "execution_count": 105,
   "metadata": {},
   "outputs": [
    {
     "name": "stdout",
     "output_type": "stream",
     "text": [
      "<class 'pandas.core.frame.DataFrame'>\n",
      "Index: 28 entries, 284 to 953\n",
      "Data columns (total 14 columns):\n",
      " #   Column       Non-Null Count  Dtype         \n",
      "---  ------       --------------  -----         \n",
      " 0   open         28 non-null     object        \n",
      " 1   high         28 non-null     object        \n",
      " 2   low          28 non-null     object        \n",
      " 3   close        28 non-null     float64       \n",
      " 4   volume       28 non-null     object        \n",
      " 5   timestamp    28 non-null     datetime64[ns]\n",
      " 6   Min_Test     28 non-null     object        \n",
      " 7   EmaMin_Test  28 non-null     object        \n",
      " 8   EMA_Test     28 non-null     object        \n",
      " 9   Trade        28 non-null     bool          \n",
      " 10  less1        28 non-null     float64       \n",
      " 11  less2        28 non-null     float64       \n",
      " 12  less3        28 non-null     float64       \n",
      " 13  Swoosh       28 non-null     bool          \n",
      "dtypes: bool(2), datetime64[ns](1), float64(4), object(7)\n",
      "memory usage: 2.9+ KB\n",
      "None\n"
     ]
    }
   ],
   "source": [
    "\n",
    "stock_df['close'] = pd.to_numeric(stock_df['close'])\n",
    "\n",
    "stock_df['less1'] = stock_df['close'].shift(-1)\n",
    "stock_df['less2'] = stock_df['close'].shift(-2)\n",
    "stock_df['less3'] = stock_df['close'].shift(-3)\n",
    "stock_df['Swoosh'] = (stock_df['less1']<stock_df['close']) & (stock_df['less2']<stock_df['less1']) & (stock_df['less2']<stock_df['less3'])\n",
    "\n",
    "swoosh_points = stock_df[stock_df['Swoosh']]\n",
    "\n",
    "for index, row in swoosh_points.iterrows():\n",
    "    if index >= Stock_lookback_period: \n",
    "        table_range = stock_df.iloc[index-Stock_lookback_period:index].copy()\n",
    "\n",
    "        # Stock Analysis \n",
    "        # Reverse table to calculate EMA correctly\n",
    "        table_range_reversed = table_range.iloc[::-1].copy()\n",
    "        table_range_reversed['EMA8'] = ta.ema(close=table_range_reversed['close'], length=8)\n",
    "        table_range_reversed['EMA20'] = ta.ema(close=table_range_reversed['close'], length=20)\n",
    "\n",
    "        # Reverse the EMA columns back to original order\n",
    "        table_range['EMA8'] = table_range_reversed['EMA8'].iloc[::-1].values\n",
    "        table_range['EMA20'] = table_range_reversed['EMA20'].iloc[::-1].values\n",
    "\n",
    "        table_range['Local_Min'] = table_range['close'][(table_range['close'].shift(-1)>table_range['close'])&\n",
    "                                                        (table_range['close'].shift(1)>table_range['close'])]\n",
    "\n",
    "        local_mins = table_range[['close','Local_Min','EMA8','EMA20']].dropna()\n",
    "\n",
    "        if len(local_mins) < 2:\n",
    "            continue\n",
    "\n",
    "        local_mins['Min_Test'] = local_mins['Local_Min'] > local_mins['Local_Min'].shift(-1)\n",
    "        local_mins['EmaMin_Test'] = local_mins['Local_Min'] > local_mins['EMA8']\n",
    "        local_mins['EMA_Test'] = local_mins['EMA8'] > local_mins['EMA20']\n",
    "        \n",
    "        Update_df = local_mins[['Min_Test','EmaMin_Test','EMA_Test']]\n",
    "\n",
    "        stock_df.update(Update_df)\n",
    "\n",
    "        if all([local_mins['Min_Test'].iloc[0:2].all(),\n",
    "                local_mins['EmaMin_Test'].iloc[0:1].all(),\n",
    "                local_mins['EMA_Test'].iloc[0:1].all()]):\n",
    "            stock_df.at[index, 'Trade'] = True\n",
    "\n",
    "        \n",
    "        with pd.ExcelWriter('stockdata3.xlsx') as writer:\n",
    "            stock_df.to_excel(writer, sheet_name='Sheet1', index=True)\n",
    "\n",
    "\n",
    "print(stock_df[stock_df['Trade']].info())\n",
    "\n",
    "\n",
    "\n"
   ]
  },
  {
   "cell_type": "markdown",
   "metadata": {},
   "source": [
    "### Getting Data From Options DB \n",
    "1. Get a List of Options Log Times\n",
    "2. Write a For Loop that goes through "
   ]
  },
  {
   "cell_type": "code",
   "execution_count": null,
   "metadata": {},
   "outputs": [],
   "source": [
    "test_df = stock_df.copy()\n",
    "\n",
    "table_range_reversed = test_df.iloc[::-1].copy()\n",
    "table_range_reversed['EMA8'] = ta.ema(close=table_range_reversed['close'], length=8)\n",
    "table_range_reversed['EMA20'] = ta.ema(close=table_range_reversed['close'], length=20)\n",
    "\n",
    "# Reverse the EMA columns back to original order\n",
    "test_df['EMA8'] = table_range_reversed['EMA8'].iloc[::-1].values\n",
    "test_df['EMA20'] = table_range_reversed['EMA20'].iloc[::-1].values\n",
    "\n",
    "test_df['Local_Min'] = test_df['close'][(test_df['close'].shift(-1)>test_df['close'])&\n",
    "                                                (test_df['close'].shift(1)>test_df['close'])]\n",
    "\n",
    "\n",
    "with pd.ExcelWriter('Stockdf2.xlsx') as writer:\n",
    "  test_df.to_excel(writer, sheet_name='Sheet1', index=True)"
   ]
  }
 ],
 "metadata": {
  "kernelspec": {
   "display_name": "Python 3",
   "language": "python",
   "name": "python3"
  },
  "language_info": {
   "codemirror_mode": {
    "name": "ipython",
    "version": 3
   },
   "file_extension": ".py",
   "mimetype": "text/x-python",
   "name": "python",
   "nbconvert_exporter": "python",
   "pygments_lexer": "ipython3",
   "version": "3.11.9"
  }
 },
 "nbformat": 4,
 "nbformat_minor": 2
}
