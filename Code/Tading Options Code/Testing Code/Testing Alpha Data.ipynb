{
 "cells": [
  {
   "cell_type": "markdown",
   "metadata": {},
   "source": [
    "# Just testing real time Data"
   ]
  },
  {
   "cell_type": "code",
   "execution_count": 3,
   "metadata": {},
   "outputs": [
    {
     "name": "stdout",
     "output_type": "stream",
     "text": [
      "{'2024-07-03 17:00:00': {'1. open': '551.4600', '2. high': '551.4600', '3. low': '551.4600', '4. close': '551.4600', '5. volume': '635903'}, '2024-07-03 16:59:00': {'1. open': '551.1800', '2. high': '551.1800', '3. low': '550.9500', '4. close': '550.9500', '5. volume': '461'}, '2024-07-03 16:58:00': {'1. open': '551.1350', '2. high': '551.1800', '3. low': '551.1000', '4. close': '551.1200', '5. volume': '68'}, '2024-07-03 16:57:00': {'1. open': '551.0900', '2. high': '551.1500', '3. low': '551.0900', '4. close': '551.1300', '5. volume': '103'}, '2024-07-03 16:56:00': {'1. open': '551.1500', '2. high': '551.1800', '3. low': '551.1200', '4. close': '551.1800', '5. volume': '28'}, '2024-07-03 16:55:00': {'1. open': '551.1200', '2. high': '551.1800', '3. low': '551.1200', '4. close': '551.1800', '5. volume': '333'}, '2024-07-03 16:54:00': {'1. open': '551.1600', '2. high': '551.1600', '3. low': '551.1000', '4. close': '551.1250', '5. volume': '83'}, '2024-07-03 16:53:00': {'1. open': '551.1200', '2. high': '551.1800', '3. low': '551.1000', '4. close': '551.1100', '5. volume': '125'}, '2024-07-03 16:52:00': {'1. open': '551.1400', '2. high': '551.1400', '3. low': '551.1200', '4. close': '551.1200', '5. volume': '5'}, '2024-07-03 16:51:00': {'1. open': '551.1200', '2. high': '551.1800', '3. low': '551.0800', '4. close': '551.1400', '5. volume': '108'}, '2024-07-03 16:50:00': {'1. open': '551.1300', '2. high': '551.1800', '3. low': '551.0600', '4. close': '551.1200', '5. volume': '66'}, '2024-07-03 16:49:00': {'1. open': '551.1450', '2. high': '551.1900', '3. low': '551.0700', '4. close': '551.1300', '5. volume': '20'}, '2024-07-03 16:48:00': {'1. open': '551.1800', '2. high': '551.1880', '3. low': '551.1450', '4. close': '551.1450', '5. volume': '3'}, '2024-07-03 16:47:00': {'1. open': '551.1500', '2. high': '551.1970', '3. low': '551.1500', '4. close': '551.1970', '5. volume': '4'}, '2024-07-03 16:46:00': {'1. open': '551.0830', '2. high': '551.2000', '3. low': '551.0830', '4. close': '551.2000', '5. volume': '91'}, '2024-07-03 16:45:00': {'1. open': '551.2000', '2. high': '551.2000', '3. low': '551.0800', '4. close': '551.0800', '5. volume': '4'}, '2024-07-03 16:44:00': {'1. open': '551.1050', '2. high': '551.2000', '3. low': '551.0700', '4. close': '551.2000', '5. volume': '33'}, '2024-07-03 16:43:00': {'1. open': '551.2000', '2. high': '551.2000', '3. low': '551.0350', '4. close': '551.0350', '5. volume': '170'}, '2024-07-03 16:42:00': {'1. open': '551.1350', '2. high': '551.1900', '3. low': '551.0700', '4. close': '551.0700', '5. volume': '71'}, '2024-07-03 16:41:00': {'1. open': '551.1450', '2. high': '551.2000', '3. low': '551.0900', '4. close': '551.0900', '5. volume': '131'}, '2024-07-03 16:40:00': {'1. open': '551.1400', '2. high': '551.2000', '3. low': '551.1100', '4. close': '551.2000', '5. volume': '24'}, '2024-07-03 16:39:00': {'1. open': '551.2100', '2. high': '551.2300', '3. low': '551.0700', '4. close': '551.0700', '5. volume': '198'}, '2024-07-03 16:38:00': {'1. open': '551.1950', '2. high': '551.2300', '3. low': '551.1600', '4. close': '551.1600', '5. volume': '154'}, '2024-07-03 16:37:00': {'1. open': '551.2200', '2. high': '551.2500', '3. low': '551.1600', '4. close': '551.1950', '5. volume': '525'}, '2024-07-03 16:36:00': {'1. open': '551.2200', '2. high': '551.2500', '3. low': '551.0800', '4. close': '551.0800', '5. volume': '66'}, '2024-07-03 16:35:00': {'1. open': '551.2000', '2. high': '551.2500', '3. low': '551.2000', '4. close': '551.2200', '5. volume': '91'}, '2024-07-03 16:34:00': {'1. open': '551.2050', '2. high': '551.2500', '3. low': '551.2050', '4. close': '551.2050', '5. volume': '188'}, '2024-07-03 16:33:00': {'1. open': '551.2500', '2. high': '551.2500', '3. low': '551.1600', '4. close': '551.2050', '5. volume': '116'}, '2024-07-03 16:32:00': {'1. open': '551.0700', '2. high': '551.2200', '3. low': '551.0700', '4. close': '551.0700', '5. volume': '145'}, '2024-07-03 16:31:00': {'1. open': '551.1600', '2. high': '551.2200', '3. low': '551.0700', '4. close': '551.0700', '5. volume': '1583'}, '2024-07-03 16:30:00': {'1. open': '551.1850', '2. high': '551.3000', '3. low': '551.1300', '4. close': '551.1600', '5. volume': '142'}, '2024-07-03 16:29:00': {'1. open': '551.2100', '2. high': '551.3000', '3. low': '551.0700', '4. close': '551.1850', '5. volume': '19'}, '2024-07-03 16:28:00': {'1. open': '551.2350', '2. high': '551.2350', '3. low': '551.1200', '4. close': '551.2100', '5. volume': '9'}, '2024-07-03 16:27:00': {'1. open': '551.3000', '2. high': '551.3600', '3. low': '551.1200', '4. close': '551.2400', '5. volume': '1581'}, '2024-07-03 16:26:00': {'1. open': '551.3300', '2. high': '551.3300', '3. low': '551.3000', '4. close': '551.3300', '5. volume': '10'}, '2024-07-03 16:25:00': {'1. open': '551.3300', '2. high': '551.3300', '3. low': '551.3000', '4. close': '551.3300', '5. volume': '106'}, '2024-07-03 16:24:00': {'1. open': '551.3300', '2. high': '551.3600', '3. low': '551.3000', '4. close': '551.3000', '5. volume': '199'}, '2024-07-03 16:23:00': {'1. open': '551.2500', '2. high': '551.3900', '3. low': '551.2500', '4. close': '551.3400', '5. volume': '914'}, '2024-07-03 16:22:00': {'1. open': '551.2500', '2. high': '551.3000', '3. low': '551.2500', '4. close': '551.2750', '5. volume': '703'}, '2024-07-03 16:21:00': {'1. open': '551.2900', '2. high': '551.2900', '3. low': '551.2000', '4. close': '551.2050', '5. volume': '50'}, '2024-07-03 16:20:00': {'1. open': '551.2100', '2. high': '551.3000', '3. low': '551.2100', '4. close': '551.2100', '5. volume': '6'}, '2024-07-03 16:19:00': {'1. open': '551.2900', '2. high': '551.3000', '3. low': '551.2000', '4. close': '551.2100', '5. volume': '2144'}, '2024-07-03 16:18:00': {'1. open': '551.2400', '2. high': '551.2800', '3. low': '551.2000', '4. close': '551.2450', '5. volume': '33'}, '2024-07-03 16:17:00': {'1. open': '551.2400', '2. high': '551.2800', '3. low': '551.2000', '4. close': '551.2800', '5. volume': '75'}, '2024-07-03 16:16:00': {'1. open': '551.2450', '2. high': '551.2900', '3. low': '551.2000', '4. close': '551.2000', '5. volume': '138'}, '2024-07-03 16:15:00': {'1. open': '551.2500', '2. high': '551.3000', '3. low': '551.2000', '4. close': '551.2500', '5. volume': '63'}, '2024-07-03 16:14:00': {'1. open': '551.3100', '2. high': '551.3400', '3. low': '551.1200', '4. close': '551.2500', '5. volume': '7820'}, '2024-07-03 16:13:00': {'1. open': '551.2850', '2. high': '551.3100', '3. low': '551.2700', '4. close': '551.3050', '5. volume': '2828'}, '2024-07-03 16:12:00': {'1. open': '551.2000', '2. high': '551.3200', '3. low': '551.2000', '4. close': '551.3100', '5. volume': '3801'}, '2024-07-03 16:11:00': {'1. open': '551.1400', '2. high': '551.2200', '3. low': '551.1200', '4. close': '551.2000', '5. volume': '1335'}, '2024-07-03 16:10:00': {'1. open': '551.0000', '2. high': '551.1300', '3. low': '551.0000', '4. close': '551.1300', '5. volume': '7605'}, '2024-07-03 16:09:00': {'1. open': '550.8950', '2. high': '551.0250', '3. low': '550.8700', '4. close': '551.0250', '5. volume': '405'}, '2024-07-03 16:08:00': {'1. open': '550.8600', '2. high': '550.9200', '3. low': '550.8600', '4. close': '550.8600', '5. volume': '18'}, '2024-07-03 16:07:00': {'1. open': '550.9000', '2. high': '550.9200', '3. low': '550.8600', '4. close': '550.8900', '5. volume': '31'}, '2024-07-03 16:06:00': {'1. open': '550.9000', '2. high': '550.9200', '3. low': '550.8500', '4. close': '550.8500', '5. volume': '1216'}, '2024-07-03 16:05:00': {'1. open': '550.8750', '2. high': '550.9100', '3. low': '550.8750', '4. close': '550.9100', '5. volume': '258'}, '2024-07-03 16:04:00': {'1. open': '550.8850', '2. high': '550.9200', '3. low': '550.8400', '4. close': '550.8400', '5. volume': '110'}, '2024-07-03 16:03:00': {'1. open': '550.9800', '2. high': '550.9800', '3. low': '550.9000', '4. close': '550.9000', '5. volume': '136'}, '2024-07-03 16:02:00': {'1. open': '550.7850', '2. high': '550.9300', '3. low': '550.7800', '4. close': '550.8900', '5. volume': '1132'}, '2024-07-03 16:01:00': {'1. open': '550.9100', '2. high': '550.9380', '3. low': '550.7850', '4. close': '550.7850', '5. volume': '1057'}, '2024-07-03 16:00:00': {'1. open': '550.8600', '2. high': '550.9050', '3. low': '550.2900', '4. close': '550.8900', '5. volume': '10961'}, '2024-07-03 15:59:00': {'1. open': '551.0200', '2. high': '551.1000', '3. low': '550.7000', '4. close': '550.8400', '5. volume': '12417'}, '2024-07-03 15:58:00': {'1. open': '551.0700', '2. high': '551.0700', '3. low': '551.0200', '4. close': '551.0700', '5. volume': '1618'}, '2024-07-03 15:57:00': {'1. open': '551.0500', '2. high': '551.0700', '3. low': '551.0000', '4. close': '551.0600', '5. volume': '247'}, '2024-07-03 15:56:00': {'1. open': '551.0790', '2. high': '551.1200', '3. low': '551.0200', '4. close': '551.0700', '5. volume': '586'}, '2024-07-03 15:55:00': {'1. open': '551.0850', '2. high': '551.1000', '3. low': '551.0200', '4. close': '551.0800', '5. volume': '1678'}, '2024-07-03 15:54:00': {'1. open': '551.0600', '2. high': '551.1000', '3. low': '551.0600', '4. close': '551.1000', '5. volume': '238'}, '2024-07-03 15:53:00': {'1. open': '551.1000', '2. high': '551.1000', '3. low': '551.0200', '4. close': '551.0600', '5. volume': '571'}, '2024-07-03 15:52:00': {'1. open': '551.0800', '2. high': '551.1000', '3. low': '551.0800', '4. close': '551.1000', '5. volume': '115'}, '2024-07-03 15:51:00': {'1. open': '551.0900', '2. high': '551.1000', '3. low': '551.0800', '4. close': '551.0900', '5. volume': '475'}, '2024-07-03 15:50:00': {'1. open': '551.0900', '2. high': '551.1200', '3. low': '551.0800', '4. close': '551.0900', '5. volume': '397'}, '2024-07-03 15:49:00': {'1. open': '551.0700', '2. high': '551.1000', '3. low': '551.0600', '4. close': '551.1000', '5. volume': '505'}, '2024-07-03 15:48:00': {'1. open': '551.1000', '2. high': '551.1000', '3. low': '551.0600', '4. close': '551.0850', '5. volume': '239'}, '2024-07-03 15:47:00': {'1. open': '551.0800', '2. high': '551.1000', '3. low': '551.0500', '4. close': '551.0500', '5. volume': '185'}, '2024-07-03 15:46:00': {'1. open': '551.1000', '2. high': '551.1000', '3. low': '551.0600', '4. close': '551.1000', '5. volume': '327'}, '2024-07-03 15:45:00': {'1. open': '551.1000', '2. high': '551.1000', '3. low': '551.0700', '4. close': '551.1000', '5. volume': '273'}, '2024-07-03 15:44:00': {'1. open': '551.0800', '2. high': '551.1400', '3. low': '551.0600', '4. close': '551.1000', '5. volume': '1773'}, '2024-07-03 15:43:00': {'1. open': '551.1000', '2. high': '551.1000', '3. low': '551.0600', '4. close': '551.0600', '5. volume': '135'}, '2024-07-03 15:42:00': {'1. open': '551.0900', '2. high': '551.1000', '3. low': '551.0400', '4. close': '551.0400', '5. volume': '226'}, '2024-07-03 15:41:00': {'1. open': '551.0700', '2. high': '551.1400', '3. low': '551.0650', '4. close': '551.0650', '5. volume': '1688'}, '2024-07-03 15:40:00': {'1. open': '551.0800', '2. high': '551.1000', '3. low': '551.0300', '4. close': '551.1000', '5. volume': '301'}, '2024-07-03 15:39:00': {'1. open': '551.1000', '2. high': '551.1200', '3. low': '551.0600', '4. close': '551.1000', '5. volume': '2563'}, '2024-07-03 15:38:00': {'1. open': '551.0800', '2. high': '551.1000', '3. low': '551.0600', '4. close': '551.0800', '5. volume': '343'}, '2024-07-03 15:37:00': {'1. open': '551.0900', '2. high': '551.1000', '3. low': '551.0800', '4. close': '551.0850', '5. volume': '497'}, '2024-07-03 15:36:00': {'1. open': '551.0700', '2. high': '551.1000', '3. low': '551.0400', '4. close': '551.0900', '5. volume': '92'}, '2024-07-03 15:35:00': {'1. open': '551.1000', '2. high': '551.1000', '3. low': '551.0400', '4. close': '551.0400', '5. volume': '185'}, '2024-07-03 15:34:00': {'1. open': '551.0700', '2. high': '551.1000', '3. low': '551.0400', '4. close': '551.1000', '5. volume': '570'}, '2024-07-03 15:33:00': {'1. open': '551.0300', '2. high': '551.0700', '3. low': '551.0000', '4. close': '551.0700', '5. volume': '291'}, '2024-07-03 15:32:00': {'1. open': '551.0250', '2. high': '551.0600', '3. low': '550.9900', '4. close': '551.0300', '5. volume': '204'}, '2024-07-03 15:31:00': {'1. open': '551.0000', '2. high': '551.0500', '3. low': '551.0000', '4. close': '551.0400', '5. volume': '397'}, '2024-07-03 15:30:00': {'1. open': '551.4600', '2. high': '551.4600', '3. low': '551.0000', '4. close': '551.0200', '5. volume': '639591'}, '2024-07-03 15:29:00': {'1. open': '551.1350', '2. high': '551.2000', '3. low': '551.1350', '4. close': '551.1750', '5. volume': '89'}, '2024-07-03 15:28:00': {'1. open': '551.0900', '2. high': '551.1600', '3. low': '551.0800', '4. close': '551.1600', '5. volume': '645'}, '2024-07-03 15:27:00': {'1. open': '551.0650', '2. high': '551.1250', '3. low': '551.0500', '4. close': '551.0800', '5. volume': '275'}, '2024-07-03 15:26:00': {'1. open': '551.0800', '2. high': '551.0900', '3. low': '551.0400', '4. close': '551.0650', '5. volume': '160'}, '2024-07-03 15:25:00': {'1. open': '551.0400', '2. high': '551.0900', '3. low': '551.0000', '4. close': '551.0800', '5. volume': '1401'}, '2024-07-03 15:24:00': {'1. open': '551.1200', '2. high': '551.1600', '3. low': '551.0400', '4. close': '551.0400', '5. volume': '884'}, '2024-07-03 15:23:00': {'1. open': '551.1000', '2. high': '551.1300', '3. low': '551.0900', '4. close': '551.1100', '5. volume': '580'}, '2024-07-03 15:22:00': {'1. open': '551.0700', '2. high': '551.1300', '3. low': '551.0300', '4. close': '551.1000', '5. volume': '453'}, '2024-07-03 15:21:00': {'1. open': '551.0400', '2. high': '551.1000', '3. low': '551.0300', '4. close': '551.0700', '5. volume': '299'}}\n",
      "<class 'pandas.core.frame.DataFrame'>\n",
      "DatetimeIndex: 100 entries, 2024-07-03 17:00:00 to 2024-07-03 15:21:00\n",
      "Data columns (total 5 columns):\n",
      " #   Column     Non-Null Count  Dtype \n",
      "---  ------     --------------  ----- \n",
      " 0   1. open    100 non-null    object\n",
      " 1   2. high    100 non-null    object\n",
      " 2   3. low     100 non-null    object\n",
      " 3   4. close   100 non-null    object\n",
      " 4   5. volume  100 non-null    object\n",
      "dtypes: object(5)\n",
      "memory usage: 4.7+ KB\n",
      "None\n"
     ]
    }
   ],
   "source": [
    "import requests\n",
    "import os\n",
    "from dotenv import load_dotenv\n",
    "import pandas as pd\n",
    "\n",
    "load_dotenv()\n",
    "api_key = os.getenv(\"Alpha_API\")\n",
    "\n",
    "symbol = 'SPY'\n",
    "interval = '1'\n",
    "function = 'TIME_SERIES_INTRADAY'\n",
    "\n",
    "url = f'https://www.alphavantage.co/query?function=TIME_SERIES_INTRADAY&symbol={symbol}&interval={interval}min&entitlement=realtime&apikey={api_key}'\n",
    "\n",
    "r = requests.get(url)\n",
    "key = f'Time Series (1min)'\n",
    "data = r.json().get(key, {})\n",
    "\n",
    "print(data)\n",
    "\n",
    "df = pd.DataFrame.from_dict(data, orient='index')\n",
    "\n",
    "df.index = pd.to_datetime(df.index)\n",
    "\n",
    "print(df.info())\n",
    "\n"
   ]
  },
  {
   "cell_type": "markdown",
   "metadata": {},
   "source": [
    "# Testing Options"
   ]
  },
  {
   "cell_type": "code",
   "execution_count": 5,
   "metadata": {},
   "outputs": [
    {
     "name": "stdout",
     "output_type": "stream",
     "text": [
      "<class 'pandas.core.frame.DataFrame'>\n",
      "RangeIndex: 2088 entries, 0 to 2087\n",
      "Data columns (total 14 columns):\n",
      " #   Column         Non-Null Count  Dtype \n",
      "---  ------         --------------  ----- \n",
      " 0   contractID     2088 non-null   object\n",
      " 1   symbol         2088 non-null   object\n",
      " 2   expiration     2088 non-null   object\n",
      " 3   strike         2088 non-null   object\n",
      " 4   type           2088 non-null   object\n",
      " 5   last           2088 non-null   object\n",
      " 6   mark           2088 non-null   object\n",
      " 7   bid            2088 non-null   object\n",
      " 8   bid_size       2088 non-null   object\n",
      " 9   ask            2088 non-null   object\n",
      " 10  ask_size       2088 non-null   object\n",
      " 11  volume         2088 non-null   object\n",
      " 12  open_interest  2088 non-null   object\n",
      " 13  date           2088 non-null   object\n",
      "dtypes: object(14)\n",
      "memory usage: 228.5+ KB\n",
      "None\n",
      "            contractID symbol  expiration  strike  type    last    mark  \\\n",
      "0  AAPL240705C00100000   AAPL  2024-07-05  100.00  call  121.80  125.50   \n",
      "1  AAPL240705P00100000   AAPL  2024-07-05  100.00   put    0.01    0.01   \n",
      "2  AAPL240705C00105000   AAPL  2024-07-05  105.00  call  108.42  120.22   \n",
      "3  AAPL240705P00105000   AAPL  2024-07-05  105.00   put    0.00    0.01   \n",
      "4  AAPL240705C00110000   AAPL  2024-07-05  110.00  call  107.35  115.42   \n",
      "\n",
      "      bid bid_size     ask ask_size volume open_interest        date  \n",
      "0  124.90       30  126.10       59      7             9  2024-07-05  \n",
      "1    0.00        0    0.01     3515      0            23  2024-07-05  \n",
      "2  119.20       53  121.25       53      0             1  2024-07-05  \n",
      "3    0.00        0    0.01      200      0             0  2024-07-05  \n",
      "4  114.75       55  116.10       79      0             0  2024-07-05  \n"
     ]
    }
   ],
   "source": [
    "import requests\n",
    "import os\n",
    "from dotenv import load_dotenv\n",
    "import pandas as pd\n",
    "import time\n",
    "\n",
    "load_dotenv()\n",
    "api_key = os.getenv(\"Alpha_API\")\n",
    "\n",
    "symbol = 'AAPL'\n",
    "function = 'REALTIME_OPTIONS'\n",
    "contract = 'AAPL240628C00100000'\n",
    "\n",
    "url = f'https://www.alphavantage.co/query?function=REALTIME_OPTIONS&symbol={symbol}&apikey={api_key}'\n",
    "\n",
    "r = requests.get(url)\n",
    "key = f'data'\n",
    "data = r.json().get(key, {})\n",
    "\n",
    "df = pd.DataFrame(data)\n",
    "\n",
    "print(df.info())\n",
    "print(df.head())"
   ]
  },
  {
   "cell_type": "code",
   "execution_count": null,
   "metadata": {},
   "outputs": [],
   "source": []
  },
  {
   "cell_type": "markdown",
   "metadata": {},
   "source": [
    "# Testing Options Contracts"
   ]
  },
  {
   "cell_type": "code",
   "execution_count": 40,
   "metadata": {},
   "outputs": [],
   "source": [
    "import requests\n",
    "import os\n",
    "from dotenv import load_dotenv\n",
    "import pandas as pd\n",
    "import time\n",
    "\n",
    "load_dotenv()\n",
    "api_key = os.getenv(\"Alpha_API\")\n",
    "\n",
    "symbol = 'AAPL'\n",
    "function = 'REALTIME_OPTIONS'\n",
    "contract = 'AAPL240628C00100000'\n",
    "\n",
    "\n",
    "#url = f'https://www.alphavantage.co/query?function=REALTIME_OPTIONS&symbol={symbol}&apikey={api_key}'\n",
    "\n",
    "\n",
    "df_list = []\n",
    "\n",
    "for _ in range(10):\n",
    "    url = f'https://www.alphavantage.co/query?function=REALTIME_OPTIONS&symbol={symbol}&contract={contract}&apikey={api_key}'\n",
    "\n",
    "    r = requests.get(url)\n",
    "    key = f'data'\n",
    "    data = r.json().get(key, {})\n",
    "\n",
    "    df = pd.DataFrame(data)\n",
    "    df_list.append(df)\n",
    "\n",
    "    time.sleep(.2)\n",
    "\n",
    "all_dfs = pd.concat(df_list, axis=0)\n"
   ]
  },
  {
   "cell_type": "code",
   "execution_count": 47,
   "metadata": {},
   "outputs": [
    {
     "name": "stdout",
     "output_type": "stream",
     "text": [
      "<class 'pandas.core.frame.DataFrame'>\n",
      "Index: 10 entries, 0 to 0\n",
      "Data columns (total 14 columns):\n",
      " #   Column         Non-Null Count  Dtype \n",
      "---  ------         --------------  ----- \n",
      " 0   contractID     10 non-null     object\n",
      " 1   symbol         10 non-null     object\n",
      " 2   expiration     10 non-null     object\n",
      " 3   strike         10 non-null     object\n",
      " 4   type           10 non-null     object\n",
      " 5   last           10 non-null     object\n",
      " 6   mark           10 non-null     object\n",
      " 7   bid            10 non-null     object\n",
      " 8   bid_size       10 non-null     object\n",
      " 9   ask            10 non-null     object\n",
      " 10  ask_size       10 non-null     object\n",
      " 11  volume         10 non-null     object\n",
      " 12  open_interest  10 non-null     object\n",
      " 13  date           10 non-null     object\n",
      "dtypes: object(14)\n",
      "memory usage: 1.2+ KB\n",
      "None\n"
     ]
    }
   ],
   "source": [
    "print(all_dfs.info())"
   ]
  },
  {
   "cell_type": "code",
   "execution_count": 46,
   "metadata": {},
   "outputs": [
    {
     "name": "stdout",
     "output_type": "stream",
     "text": [
      "            contractID symbol  expiration  strike  type    last    mark  \\\n",
      "0  AAPL240628C00100000   AAPL  2024-06-28  100.00  call  113.30  110.83   \n",
      "\n",
      "      bid bid_size     ask ask_size volume open_interest        date  \n",
      "0  108.70       10  112.95        1      7            14  2024-06-28  \n"
     ]
    }
   ],
   "source": [
    "print(all_dfs.head(1))"
   ]
  },
  {
   "cell_type": "markdown",
   "metadata": {},
   "source": [
    "# Testing Currencies"
   ]
  },
  {
   "cell_type": "code",
   "execution_count": null,
   "metadata": {},
   "outputs": [],
   "source": [
    "import requests\n",
    "import os\n",
    "from dotenv import load_dotenv\n",
    "import pandas as pd\n",
    "import time\n",
    "\n",
    "load_dotenv()\n",
    "api_key = os.getenv(\"Alpha_API\")\n",
    "\n",
    "from_cur = 'BTC'\n",
    "to_cur = 'USD'\n",
    "\n",
    "url = f'https://www.alphavantage.co/query?function=CURRENCY_EXCHANGE_RATE&from_currency={from_cur}&to_currency={to_cur}&apikey={api_key}'\n"
   ]
  }
 ],
 "metadata": {
  "kernelspec": {
   "display_name": "Python 3",
   "language": "python",
   "name": "python3"
  },
  "language_info": {
   "codemirror_mode": {
    "name": "ipython",
    "version": 3
   },
   "file_extension": ".py",
   "mimetype": "text/x-python",
   "name": "python",
   "nbconvert_exporter": "python",
   "pygments_lexer": "ipython3",
   "version": "3.11.9"
  }
 },
 "nbformat": 4,
 "nbformat_minor": 2
}
