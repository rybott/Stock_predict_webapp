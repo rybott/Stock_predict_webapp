{
 "cells": [
  {
   "cell_type": "markdown",
   "metadata": {},
   "source": [
    "# Just testing real time Data"
   ]
  },
  {
   "cell_type": "code",
   "execution_count": 15,
   "metadata": {},
   "outputs": [
    {
     "name": "stdout",
     "output_type": "stream",
     "text": [
      "{'2024-06-28 20:00:00': {'1. open': '544.2200', '2. high': '544.2200', '3. low': '544.2200', '4. close': '544.2200', '5. volume': '2448824'}, '2024-06-28 19:59:00': {'1. open': '545.0700', '2. high': '545.1550', '3. low': '545.0700', '4. close': '545.1550', '5. volume': '2602'}, '2024-06-28 19:58:00': {'1. open': '545.1800', '2. high': '545.1800', '3. low': '545.0700', '4. close': '545.0700', '5. volume': '572'}, '2024-06-28 19:57:00': {'1. open': '545.1500', '2. high': '545.1800', '3. low': '545.1000', '4. close': '545.1300', '5. volume': '529'}, '2024-06-28 19:56:00': {'1. open': '545.1800', '2. high': '545.1800', '3. low': '545.1250', '4. close': '545.1300', '5. volume': '84'}, '2024-06-28 19:55:00': {'1. open': '545.1200', '2. high': '545.1800', '3. low': '545.0800', '4. close': '545.0800', '5. volume': '175'}, '2024-06-28 19:54:00': {'1. open': '545.1500', '2. high': '545.1800', '3. low': '545.0500', '4. close': '545.0500', '5. volume': '2447'}, '2024-06-28 19:53:00': {'1. open': '545.0900', '2. high': '545.1500', '3. low': '545.0500', '4. close': '545.1000', '5. volume': '1378'}, '2024-06-28 19:52:00': {'1. open': '545.0400', '2. high': '545.1000', '3. low': '544.9900', '4. close': '545.1000', '5. volume': '455'}, '2024-06-28 19:51:00': {'1. open': '545.0600', '2. high': '545.0700', '3. low': '544.9800', '4. close': '545.0450', '5. volume': '155'}, '2024-06-28 19:50:00': {'1. open': '545.0300', '2. high': '545.0600', '3. low': '544.9800', '4. close': '545.0400', '5. volume': '638'}, '2024-06-28 19:49:00': {'1. open': '545.0600', '2. high': '545.0700', '3. low': '545.0000', '4. close': '545.0600', '5. volume': '273'}, '2024-06-28 19:48:00': {'1. open': '545.0000', '2. high': '545.0700', '3. low': '545.0000', '4. close': '545.0000', '5. volume': '129'}, '2024-06-28 19:47:00': {'1. open': '545.0700', '2. high': '545.0700', '3. low': '545.0700', '4. close': '545.0700', '5. volume': '1'}, '2024-06-28 19:46:00': {'1. open': '545.0700', '2. high': '545.0700', '3. low': '545.0700', '4. close': '545.0700', '5. volume': '15'}, '2024-06-28 19:45:00': {'1. open': '545.0900', '2. high': '545.0900', '3. low': '545.0000', '4. close': '545.0350', '5. volume': '58'}, '2024-06-28 19:44:00': {'1. open': '545.1000', '2. high': '545.1000', '3. low': '545.0000', '4. close': '545.0000', '5. volume': '416'}, '2024-06-28 19:43:00': {'1. open': '545.0900', '2. high': '545.1000', '3. low': '545.0900', '4. close': '545.1000', '5. volume': '115'}, '2024-06-28 19:42:00': {'1. open': '545.0100', '2. high': '545.1000', '3. low': '545.0100', '4. close': '545.1000', '5. volume': '58'}, '2024-06-28 19:41:00': {'1. open': '545.0500', '2. high': '545.0500', '3. low': '545.0200', '4. close': '545.0200', '5. volume': '4'}, '2024-06-28 19:40:00': {'1. open': '545.1250', '2. high': '545.1250', '3. low': '545.0100', '4. close': '545.0200', '5. volume': '385'}, '2024-06-28 19:39:00': {'1. open': '545.1050', '2. high': '545.1500', '3. low': '545.1000', '4. close': '545.1000', '5. volume': '1500'}, '2024-06-28 19:38:00': {'1. open': '545.1000', '2. high': '545.1100', '3. low': '545.1000', '4. close': '545.1050', '5. volume': '369'}, '2024-06-28 19:37:00': {'1. open': '545.1200', '2. high': '545.1200', '3. low': '545.1000', '4. close': '545.1000', '5. volume': '208'}, '2024-06-28 19:36:00': {'1. open': '545.1100', '2. high': '545.1100', '3. low': '545.1000', '4. close': '545.1000', '5. volume': '267'}, '2024-06-28 19:35:00': {'1. open': '545.1000', '2. high': '545.1100', '3. low': '545.1000', '4. close': '545.1050', '5. volume': '129'}, '2024-06-28 19:34:00': {'1. open': '545.1000', '2. high': '545.1100', '3. low': '545.1000', '4. close': '545.1050', '5. volume': '1441'}, '2024-06-28 19:33:00': {'1. open': '545.1000', '2. high': '545.1200', '3. low': '544.9600', '4. close': '545.1000', '5. volume': '3793'}, '2024-06-28 19:32:00': {'1. open': '545.0300', '2. high': '545.1000', '3. low': '545.0300', '4. close': '545.1000', '5. volume': '25'}, '2024-06-28 19:31:00': {'1. open': '544.9800', '2. high': '545.0800', '3. low': '544.9800', '4. close': '545.0800', '5. volume': '24'}, '2024-06-28 19:30:00': {'1. open': '545.0900', '2. high': '545.0900', '3. low': '544.9500', '4. close': '544.9500', '5. volume': '73'}, '2024-06-28 19:29:00': {'1. open': '545.1000', '2. high': '545.1000', '3. low': '544.9500', '4. close': '545.0250', '5. volume': '154'}, '2024-06-28 19:28:00': {'1. open': '545.1250', '2. high': '545.1500', '3. low': '545.0600', '4. close': '545.1200', '5. volume': '7639'}, '2024-06-28 19:27:00': {'1. open': '545.0600', '2. high': '545.1000', '3. low': '545.0500', '4. close': '545.1000', '5. volume': '1421'}, '2024-06-28 19:26:00': {'1. open': '545.0500', '2. high': '545.0600', '3. low': '545.0500', '4. close': '545.0600', '5. volume': '53'}, '2024-06-28 19:25:00': {'1. open': '545.0200', '2. high': '545.0600', '3. low': '545.0200', '4. close': '545.0500', '5. volume': '2548'}, '2024-06-28 19:24:00': {'1. open': '545.0200', '2. high': '545.0200', '3. low': '545.0000', '4. close': '545.0100', '5. volume': '120'}, '2024-06-28 19:23:00': {'1. open': '544.9500', '2. high': '545.0200', '3. low': '544.9400', '4. close': '545.0200', '5. volume': '816'}, '2024-06-28 19:22:00': {'1. open': '544.9500', '2. high': '544.9650', '3. low': '544.9500', '4. close': '544.9650', '5. volume': '87'}, '2024-06-28 19:21:00': {'1. open': '544.9800', '2. high': '544.9900', '3. low': '544.9600', '4. close': '544.9650', '5. volume': '1116'}, '2024-06-28 19:20:00': {'1. open': '544.9600', '2. high': '544.9900', '3. low': '544.9600', '4. close': '544.9800', '5. volume': '2118'}, '2024-06-28 19:19:00': {'1. open': '544.9900', '2. high': '544.9900', '3. low': '544.9400', '4. close': '544.9600', '5. volume': '30'}, '2024-06-28 19:18:00': {'1. open': '544.9650', '2. high': '545.0000', '3. low': '544.9650', '4. close': '544.9700', '5. volume': '122'}, '2024-06-28 19:17:00': {'1. open': '544.9400', '2. high': '544.9800', '3. low': '544.9400', '4. close': '544.9800', '5. volume': '580'}, '2024-06-28 19:16:00': {'1. open': '544.9800', '2. high': '545.0000', '3. low': '544.9400', '4. close': '544.9700', '5. volume': '817'}, '2024-06-28 19:15:00': {'1. open': '545.0000', '2. high': '545.0000', '3. low': '544.9500', '4. close': '544.9500', '5. volume': '60'}, '2024-06-28 19:14:00': {'1. open': '544.9150', '2. high': '545.0000', '3. low': '544.9000', '4. close': '544.9000', '5. volume': '462'}, '2024-06-28 19:13:00': {'1. open': '544.9580', '2. high': '544.9590', '3. low': '544.9100', '4. close': '544.9100', '5. volume': '620'}, '2024-06-28 19:12:00': {'1. open': '544.9590', '2. high': '544.9600', '3. low': '544.9590', '4. close': '544.9600', '5. volume': '2'}, '2024-06-28 19:11:00': {'1. open': '544.9600', '2. high': '545.0000', '3. low': '544.9500', '4. close': '545.0000', '5. volume': '16'}, '2024-06-28 19:10:00': {'1. open': '544.9550', '2. high': '544.9550', '3. low': '544.9550', '4. close': '544.9550', '5. volume': '1'}, '2024-06-28 19:09:00': {'1. open': '545.0200', '2. high': '545.0200', '3. low': '544.9100', '4. close': '544.9100', '5. volume': '64'}, '2024-06-28 19:08:00': {'1. open': '545.0200', '2. high': '545.0200', '3. low': '544.9350', '4. close': '544.9350', '5. volume': '8'}, '2024-06-28 19:07:00': {'1. open': '544.9350', '2. high': '544.9350', '3. low': '544.9350', '4. close': '544.9350', '5. volume': '1'}, '2024-06-28 19:06:00': {'1. open': '545.0200', '2. high': '545.0200', '3. low': '544.9100', '4. close': '544.9100', '5. volume': '151'}, '2024-06-28 19:05:00': {'1. open': '544.9950', '2. high': '545.0200', '3. low': '544.9950', '4. close': '545.0200', '5. volume': '343'}, '2024-06-28 19:04:00': {'1. open': '544.9950', '2. high': '545.0100', '3. low': '544.9800', '4. close': '544.9800', '5. volume': '9'}, '2024-06-28 19:03:00': {'1. open': '545.0000', '2. high': '545.0000', '3. low': '544.9800', '4. close': '544.9950', '5. volume': '104'}, '2024-06-28 19:02:00': {'1. open': '544.9900', '2. high': '545.0100', '3. low': '544.9800', '4. close': '544.9950', '5. volume': '6'}, '2024-06-28 19:01:00': {'1. open': '544.9800', '2. high': '545.0100', '3. low': '544.9800', '4. close': '545.0100', '5. volume': '60'}, '2024-06-28 19:00:00': {'1. open': '545.0100', '2. high': '545.0100', '3. low': '544.9950', '4. close': '544.9950', '5. volume': '3'}, '2024-06-28 18:59:00': {'1. open': '545.0000', '2. high': '545.0100', '3. low': '544.9800', '4. close': '544.9800', '5. volume': '74'}, '2024-06-28 18:58:00': {'1. open': '544.9800', '2. high': '545.0100', '3. low': '544.9800', '4. close': '544.9950', '5. volume': '121'}, '2024-06-28 18:57:00': {'1. open': '544.9950', '2. high': '545.0100', '3. low': '544.9800', '4. close': '544.9950', '5. volume': '204'}, '2024-06-28 18:56:00': {'1. open': '544.9950', '2. high': '545.0100', '3. low': '544.9800', '4. close': '545.0100', '5. volume': '17'}, '2024-06-28 18:55:00': {'1. open': '545.0100', '2. high': '545.0100', '3. low': '544.9800', '4. close': '544.9950', '5. volume': '4'}, '2024-06-28 18:54:00': {'1. open': '545.0000', '2. high': '545.0200', '3. low': '544.9950', '4. close': '544.9950', '5. volume': '70'}, '2024-06-28 18:53:00': {'1. open': '544.9600', '2. high': '545.0500', '3. low': '544.9600', '4. close': '545.0150', '5. volume': '15'}, '2024-06-28 18:52:00': {'1. open': '544.9600', '2. high': '544.9600', '3. low': '544.8700', '4. close': '544.8700', '5. volume': '7'}, '2024-06-28 18:51:00': {'1. open': '544.9600', '2. high': '545.0500', '3. low': '544.9100', '4. close': '544.9100', '5. volume': '10'}, '2024-06-28 18:50:00': {'1. open': '544.9200', '2. high': '545.0400', '3. low': '544.9100', '4. close': '544.9600', '5. volume': '148'}, '2024-06-28 18:49:00': {'1. open': '545.0500', '2. high': '545.0500', '3. low': '545.0500', '4. close': '545.0500', '5. volume': '1'}, '2024-06-28 18:48:00': {'1. open': '544.9600', '2. high': '544.9600', '3. low': '544.9600', '4. close': '544.9600', '5. volume': '3'}, '2024-06-28 18:47:00': {'1. open': '545.0000', '2. high': '545.0500', '3. low': '544.9600', '4. close': '545.0000', '5. volume': '8'}, '2024-06-28 18:46:00': {'1. open': '545.0500', '2. high': '545.0500', '3. low': '544.8700', '4. close': '544.9600', '5. volume': '15'}, '2024-06-28 18:45:00': {'1. open': '544.9600', '2. high': '545.0000', '3. low': '544.9100', '4. close': '544.9600', '5. volume': '12'}, '2024-06-28 18:44:00': {'1. open': '545.0300', '2. high': '545.0600', '3. low': '545.0300', '4. close': '545.0500', '5. volume': '221'}, '2024-06-28 18:43:00': {'1. open': '545.0000', '2. high': '545.0600', '3. low': '544.9550', '4. close': '545.0600', '5. volume': '56'}, '2024-06-28 18:42:00': {'1. open': '545.0600', '2. high': '545.0600', '3. low': '544.9550', '4. close': '544.9550', '5. volume': '340'}, '2024-06-28 18:41:00': {'1. open': '545.0600', '2. high': '545.0600', '3. low': '544.9800', '4. close': '545.0600', '5. volume': '1011'}, '2024-06-28 18:40:00': {'1. open': '545.0400', '2. high': '545.0600', '3. low': '545.0300', '4. close': '545.0300', '5. volume': '57'}, '2024-06-28 18:39:00': {'1. open': '545.0500', '2. high': '545.0500', '3. low': '545.0500', '4. close': '545.0500', '5. volume': '909'}, '2024-06-28 18:38:00': {'1. open': '544.9750', '2. high': '545.0250', '3. low': '544.9750', '4. close': '545.0000', '5. volume': '45'}, '2024-06-28 18:37:00': {'1. open': '544.9800', '2. high': '544.9800', '3. low': '544.9000', '4. close': '544.9750', '5. volume': '13'}, '2024-06-28 18:36:00': {'1. open': '544.9900', '2. high': '545.0600', '3. low': '544.8700', '4. close': '545.0600', '5. volume': '643'}, '2024-06-28 18:35:00': {'1. open': '544.9900', '2. high': '545.0250', '3. low': '544.9900', '4. close': '545.0250', '5. volume': '4'}, '2024-06-28 18:34:00': {'1. open': '545.0600', '2. high': '545.0600', '3. low': '544.9900', '4. close': '545.0250', '5. volume': '12'}, '2024-06-28 18:33:00': {'1. open': '545.0050', '2. high': '545.0050', '3. low': '544.9900', '4. close': '544.9900', '5. volume': '182'}, '2024-06-28 18:32:00': {'1. open': '545.0500', '2. high': '545.0500', '3. low': '545.0200', '4. close': '545.0500', '5. volume': '4'}, '2024-06-28 18:31:00': {'1. open': '545.0100', '2. high': '545.0500', '3. low': '544.9900', '4. close': '545.0200', '5. volume': '684'}, '2024-06-28 18:30:00': {'1. open': '544.2200', '2. high': '545.0300', '3. low': '544.2200', '4. close': '545.0300', '5. volume': '2449355'}, '2024-06-28 18:29:00': {'1. open': '545.0400', '2. high': '545.0500', '3. low': '544.9900', '4. close': '545.0200', '5. volume': '128'}, '2024-06-28 18:28:00': {'1. open': '545.0500', '2. high': '545.0500', '3. low': '545.0150', '4. close': '545.0500', '5. volume': '56'}, '2024-06-28 18:27:00': {'1. open': '545.0450', '2. high': '545.0450', '3. low': '544.9900', '4. close': '545.0200', '5. volume': '255'}, '2024-06-28 18:26:00': {'1. open': '545.0550', '2. high': '545.1200', '3. low': '544.9900', '4. close': '545.0000', '5. volume': '54'}, '2024-06-28 18:25:00': {'1. open': '545.0000', '2. high': '545.0100', '3. low': '544.9900', '4. close': '545.0000', '5. volume': '189'}, '2024-06-28 18:24:00': {'1. open': '544.9900', '2. high': '545.0250', '3. low': '544.9900', '4. close': '545.0200', '5. volume': '4188'}, '2024-06-28 18:23:00': {'1. open': '544.9600', '2. high': '545.0000', '3. low': '544.9150', '4. close': '545.0000', '5. volume': '5998'}, '2024-06-28 18:22:00': {'1. open': '544.9450', '2. high': '544.9700', '3. low': '544.9450', '4. close': '544.9500', '5. volume': '18'}, '2024-06-28 18:21:00': {'1. open': '544.8600', '2. high': '544.9700', '3. low': '544.8600', '4. close': '544.9500', '5. volume': '11'}}\n",
      "<class 'pandas.core.frame.DataFrame'>\n",
      "DatetimeIndex: 100 entries, 2024-06-28 20:00:00 to 2024-06-28 18:21:00\n",
      "Data columns (total 5 columns):\n",
      " #   Column     Non-Null Count  Dtype \n",
      "---  ------     --------------  ----- \n",
      " 0   1. open    100 non-null    object\n",
      " 1   2. high    100 non-null    object\n",
      " 2   3. low     100 non-null    object\n",
      " 3   4. close   100 non-null    object\n",
      " 4   5. volume  100 non-null    object\n",
      "dtypes: object(5)\n",
      "memory usage: 4.7+ KB\n",
      "None\n"
     ]
    }
   ],
   "source": [
    "import requests\n",
    "import os\n",
    "from dotenv import load_dotenv\n",
    "import pandas as pd\n",
    "\n",
    "load_dotenv()\n",
    "api_key = os.getenv(\"Alpha_API\")\n",
    "\n",
    "symbol = 'SPY'\n",
    "interval = '1'\n",
    "function = 'TIME_SERIES_INTRADAY'\n",
    "\n",
    "url = f'https://www.alphavantage.co/query?function={function}&symbol={symbol}&interval={interval}min&entitlement=realtime&apikey={api_key}'\n",
    "\n",
    "r = requests.get(url)\n",
    "key = f'Time Series (1min)'\n",
    "data = r.json().get(key, {})\n",
    "\n",
    "print(data)\n",
    "\n",
    "df = pd.DataFrame.from_dict(data, orient='index')\n",
    "\n",
    "df.index = pd.to_datetime(df.index)\n",
    "\n",
    "print(df.info())\n",
    "\n"
   ]
  },
  {
   "cell_type": "markdown",
   "metadata": {},
   "source": [
    "# Testing Options"
   ]
  },
  {
   "cell_type": "code",
   "execution_count": 53,
   "metadata": {},
   "outputs": [
    {
     "name": "stdout",
     "output_type": "stream",
     "text": [
      "<class 'pandas.core.frame.DataFrame'>\n",
      "RangeIndex: 1998 entries, 0 to 1997\n",
      "Data columns (total 14 columns):\n",
      " #   Column         Non-Null Count  Dtype \n",
      "---  ------         --------------  ----- \n",
      " 0   contractID     1998 non-null   object\n",
      " 1   symbol         1998 non-null   object\n",
      " 2   expiration     1998 non-null   object\n",
      " 3   strike         1998 non-null   object\n",
      " 4   type           1998 non-null   object\n",
      " 5   last           1998 non-null   object\n",
      " 6   mark           1998 non-null   object\n",
      " 7   bid            1998 non-null   object\n",
      " 8   bid_size       1998 non-null   object\n",
      " 9   ask            1998 non-null   object\n",
      " 10  ask_size       1998 non-null   object\n",
      " 11  volume         1998 non-null   object\n",
      " 12  open_interest  1998 non-null   object\n",
      " 13  date           1998 non-null   object\n",
      "dtypes: object(14)\n",
      "memory usage: 218.7+ KB\n",
      "None\n"
     ]
    }
   ],
   "source": [
    "import requests\n",
    "import os\n",
    "from dotenv import load_dotenv\n",
    "import pandas as pd\n",
    "import time\n",
    "\n",
    "load_dotenv()\n",
    "api_key = os.getenv(\"Alpha_API\")\n",
    "\n",
    "symbol = 'AAPL'\n",
    "function = 'REALTIME_OPTIONS'\n",
    "contract = 'AAPL240628C00100000'\n",
    "\n",
    "url = f'https://www.alphavantage.co/query?function=REALTIME_OPTIONS&symbol={symbol}&apikey={api_key}'\n",
    "\n",
    "r = requests.get(url)\n",
    "key = f'data'\n",
    "data = r.json().get(key, {})\n",
    "\n",
    "df = pd.DataFrame(data)\n",
    "\n",
    "print(df.info())"
   ]
  },
  {
   "cell_type": "markdown",
   "metadata": {},
   "source": [
    "# Testing Options Contracts"
   ]
  },
  {
   "cell_type": "code",
   "execution_count": 40,
   "metadata": {},
   "outputs": [],
   "source": [
    "import requests\n",
    "import os\n",
    "from dotenv import load_dotenv\n",
    "import pandas as pd\n",
    "import time\n",
    "\n",
    "load_dotenv()\n",
    "api_key = os.getenv(\"Alpha_API\")\n",
    "\n",
    "symbol = 'AAPL'\n",
    "function = 'REALTIME_OPTIONS'\n",
    "contract = 'AAPL240628C00100000'\n",
    "\n",
    "\n",
    "#url = f'https://www.alphavantage.co/query?function=REALTIME_OPTIONS&symbol={symbol}&apikey={api_key}'\n",
    "\n",
    "\n",
    "df_list = []\n",
    "\n",
    "for _ in range(10):\n",
    "    url = f'https://www.alphavantage.co/query?function=REALTIME_OPTIONS&symbol={symbol}&contract={contract}&apikey={api_key}'\n",
    "\n",
    "    r = requests.get(url)\n",
    "    key = f'data'\n",
    "    data = r.json().get(key, {})\n",
    "\n",
    "    df = pd.DataFrame(data)\n",
    "    df_list.append(df)\n",
    "\n",
    "    time.sleep(.2)\n",
    "\n",
    "all_dfs = pd.concat(df_list, axis=0)\n"
   ]
  },
  {
   "cell_type": "code",
   "execution_count": 47,
   "metadata": {},
   "outputs": [
    {
     "name": "stdout",
     "output_type": "stream",
     "text": [
      "<class 'pandas.core.frame.DataFrame'>\n",
      "Index: 10 entries, 0 to 0\n",
      "Data columns (total 14 columns):\n",
      " #   Column         Non-Null Count  Dtype \n",
      "---  ------         --------------  ----- \n",
      " 0   contractID     10 non-null     object\n",
      " 1   symbol         10 non-null     object\n",
      " 2   expiration     10 non-null     object\n",
      " 3   strike         10 non-null     object\n",
      " 4   type           10 non-null     object\n",
      " 5   last           10 non-null     object\n",
      " 6   mark           10 non-null     object\n",
      " 7   bid            10 non-null     object\n",
      " 8   bid_size       10 non-null     object\n",
      " 9   ask            10 non-null     object\n",
      " 10  ask_size       10 non-null     object\n",
      " 11  volume         10 non-null     object\n",
      " 12  open_interest  10 non-null     object\n",
      " 13  date           10 non-null     object\n",
      "dtypes: object(14)\n",
      "memory usage: 1.2+ KB\n",
      "None\n"
     ]
    }
   ],
   "source": [
    "print(all_dfs.info())"
   ]
  },
  {
   "cell_type": "code",
   "execution_count": 46,
   "metadata": {},
   "outputs": [
    {
     "name": "stdout",
     "output_type": "stream",
     "text": [
      "            contractID symbol  expiration  strike  type    last    mark  \\\n",
      "0  AAPL240628C00100000   AAPL  2024-06-28  100.00  call  113.30  110.83   \n",
      "\n",
      "      bid bid_size     ask ask_size volume open_interest        date  \n",
      "0  108.70       10  112.95        1      7            14  2024-06-28  \n"
     ]
    }
   ],
   "source": [
    "print(all_dfs.head(1))"
   ]
  }
 ],
 "metadata": {
  "kernelspec": {
   "display_name": "Python 3",
   "language": "python",
   "name": "python3"
  },
  "language_info": {
   "codemirror_mode": {
    "name": "ipython",
    "version": 3
   },
   "file_extension": ".py",
   "mimetype": "text/x-python",
   "name": "python",
   "nbconvert_exporter": "python",
   "pygments_lexer": "ipython3",
   "version": "3.11.9"
  }
 },
 "nbformat": 4,
 "nbformat_minor": 2
}
