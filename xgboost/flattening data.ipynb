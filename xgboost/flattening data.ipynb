{
 "cells": [
  {
   "cell_type": "markdown",
   "metadata": {},
   "source": [
    "# Starting with just 2023 for my laptop "
   ]
  },
  {
   "cell_type": "code",
   "execution_count": 2,
   "metadata": {},
   "outputs": [
    {
     "name": "stdout",
     "output_type": "stream",
     "text": [
      "<duckdb.duckdb.DuckDBPyConnection object at 0x0000023F96AA3370>\n"
     ]
    }
   ],
   "source": [
    "import duckdb\n",
    "import pandas as pd\n",
    "import pandas_ta\n",
    "\n",
    "con = duckdb.connect(r\"C:\\Users\\rybot\\OneDrive\\Databases\\datadump.duckdb\")\n",
    "print(con)"
   ]
  },
  {
   "cell_type": "code",
   "execution_count": 22,
   "metadata": {},
   "outputs": [
    {
     "name": "stdout",
     "output_type": "stream",
     "text": [
      "[('Stocks',)]\n"
     ]
    }
   ],
   "source": [
    "tables = con.execute('PRAGMA show_tables;').fetchall()\n",
    "print(tables)"
   ]
  },
  {
   "cell_type": "code",
   "execution_count": 31,
   "metadata": {},
   "outputs": [
    {
     "name": "stdout",
     "output_type": "stream",
     "text": [
      "<class 'pandas.core.frame.DataFrame'>\n",
      "RangeIndex: 220495 entries, 0 to 220494\n",
      "Data columns (total 8 columns):\n",
      " #   Column    Non-Null Count   Dtype         \n",
      "---  ------    --------------   -----         \n",
      " 0   Datetime  220495 non-null  datetime64[us]\n",
      " 1   open      220495 non-null  float32       \n",
      " 2   high      220495 non-null  float32       \n",
      " 3   low       220495 non-null  float32       \n",
      " 4   close     220495 non-null  float32       \n",
      " 5   volume    220495 non-null  float32       \n",
      " 6   Stock     220495 non-null  object        \n",
      " 7   interval  220495 non-null  float32       \n",
      "dtypes: datetime64[us](1), float32(6), object(1)\n",
      "memory usage: 8.4+ MB\n",
      "None\n"
     ]
    }
   ],
   "source": [
    "qry = '''\n",
    "    SELECT * FROM Stocks\n",
    "    WHERE EXTRACT(YEAR FROM Datetime) = 2023 \n",
    "    AND Stock = 'AAPL' \n",
    "    AND Interval = 1\n",
    "'''\n",
    "\n",
    "df = con.execute(qry).fetchdf()\n",
    "print(df.info())"
   ]
  },
  {
   "cell_type": "markdown",
   "metadata": {},
   "source": [
    "# Creating and Flattening the Data for:\n",
    "#### Packet Size (Only 1 min intervals)"
   ]
  },
  {
   "cell_type": "markdown",
   "metadata": {},
   "source": [
    "### Getting the Data, and calculating P/L"
   ]
  },
  {
   "cell_type": "code",
   "execution_count": null,
   "metadata": {},
   "outputs": [],
   "source": [
    "df['Time'] = df['Datetime'].dt.time\n",
    "start_time = pd.to_datetime('09:00:00').time()\n",
    "end_time = pd.to_datetime('16:00:00').time()\n",
    "TradingDay_df = df[(df['Time']>start_time)&(df['Time']<end_time)]\n",
    "\n",
    "def trail_stoploss(index, tradingdata, whole_percentage):\n",
    "    idx = index\n",
    "    td = tradingdata\n",
    "    pct = whole_percentage/100\n",
    "    max_holdtime = 20 # Only hold the trade for twenty minutes\n",
    "\n",
    "    after_td = td.loc[idx:idx+max_holdtime+1] # Get the dataframe from the row you want until 100 minutes later\n",
    "    \n",
    "    basis = td['close'].loc[idx]\n",
    "    max_price = basis   # Initially the max price is the basis - No Shorting to Start\n",
    "    min_price = basis - (basis*pct)\n",
    "    time_stop = idx + max_holdtime \n",
    "    time_counter = idx\n",
    "   \n",
    "    for index, row in after_td.iterrows():\n",
    "        if time_counter <= time_stop:\n",
    "            close = row['close']\n",
    "            if close > max_price:\n",
    "                max_price = close\n",
    "            elif close < min_price:\n",
    "                profit = close - basis\n",
    "                return [index, profit]\n",
    "            else:\n",
    "                pass\n",
    "        else:\n",
    "            pass\n",
    "            profit = close - basis\n",
    "            return [index, profit]\n",
    "            \n",
    "    \n",
    "\n",
    "\n"
   ]
  },
  {
   "cell_type": "code",
   "execution_count": 48,
   "metadata": {},
   "outputs": [
    {
     "name": "stdout",
     "output_type": "stream",
     "text": [
      "143.32000732421875\n"
     ]
    }
   ],
   "source": [
    "for index, row in TradingDay_df.iterrows():\n",
    "    packet100 = df.loc[index-99:index].info() # Open, Close, EMA 20 , EMA 100, RSI \n",
    "    packet50 = df.loc[index-49:index].info() # Open, Close, EMA 20, EMA 50, RSI \n",
    "    packet20 = df.loc[index-19:index].info() # Open, Close, EMA 8, EMA 20, RSI\n",
    "    packet10 = df.loc[index-9:index].info() # Open, Close, EMA 10, RSI\n",
    "\n",
    "    packet100['EMA100'] = None\n",
    "    packet100['EMA20'] = None\n",
    "    packet100['RSI'] = None\n",
    "\n",
    "    packet100['EMA50'] = None\n",
    "    packet100['EMA20'] = None\n",
    "    packet100['RSI'] = None\n",
    "\n",
    "    packet100['EMA20'] = None\n",
    "    packet100['EMA8'] = None\n",
    "    packet100['RSI'] = None\n",
    "\n",
    "    packet100['EMA10'] = None\n",
    "    packet100['RSI'] = None\n",
    "   \n"
   ]
  }
 ],
 "metadata": {
  "kernelspec": {
   "display_name": "Python 3",
   "language": "python",
   "name": "python3"
  },
  "language_info": {
   "codemirror_mode": {
    "name": "ipython",
    "version": 3
   },
   "file_extension": ".py",
   "mimetype": "text/x-python",
   "name": "python",
   "nbconvert_exporter": "python",
   "pygments_lexer": "ipython3",
   "version": "3.11.4"
  },
  "orig_nbformat": 4
 },
 "nbformat": 4,
 "nbformat_minor": 2
}
