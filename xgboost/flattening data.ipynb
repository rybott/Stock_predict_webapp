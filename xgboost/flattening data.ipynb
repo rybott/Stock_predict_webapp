{
 "cells": [
  {
   "cell_type": "markdown",
   "metadata": {},
   "source": [
    "# Starting with just 2023 for my laptop "
   ]
  },
  {
   "cell_type": "code",
   "execution_count": 12,
   "metadata": {},
   "outputs": [
    {
     "name": "stdout",
     "output_type": "stream",
     "text": [
      "<duckdb.duckdb.DuckDBPyConnection object at 0x0000024788E07430>\n"
     ]
    }
   ],
   "source": [
    "import duckdb\n",
    "import pandas as pd\n",
    "import pandas_ta as ta\n",
    "\n",
    "con = duckdb.connect(r\"C:\\Users\\rybot\\OneDrive\\Databases\\datadump.duckdb\")\n",
    "print(con)"
   ]
  },
  {
   "cell_type": "code",
   "execution_count": 2,
   "metadata": {},
   "outputs": [
    {
     "name": "stdout",
     "output_type": "stream",
     "text": [
      "[('Stocks',)]\n"
     ]
    }
   ],
   "source": [
    "tables = con.execute('PRAGMA show_tables;').fetchall()\n",
    "print(tables)"
   ]
  },
  {
   "cell_type": "code",
   "execution_count": 8,
   "metadata": {},
   "outputs": [
    {
     "name": "stdout",
     "output_type": "stream",
     "text": [
      "             Datetime        open        high         low       close  volume  \\\n",
      "0 2023-01-03 04:00:00  129.391006  130.113998  129.386002  130.110001  5381.0   \n",
      "1 2023-01-03 04:01:00  129.977005  130.283005  129.972000  130.209000  6072.0   \n",
      "2 2023-01-03 04:02:00  130.285004  130.352005  130.270004  130.279007  1053.0   \n",
      "3 2023-01-03 04:03:00  130.294998  130.401993  130.289993  130.388000  1754.0   \n",
      "4 2023-01-03 04:04:00  130.384003  130.570999  130.378998  130.567001  3766.0   \n",
      "\n",
      "  Stock  interval  \n",
      "0  AAPL       1.0  \n",
      "1  AAPL       1.0  \n",
      "2  AAPL       1.0  \n",
      "3  AAPL       1.0  \n",
      "4  AAPL       1.0  \n"
     ]
    }
   ],
   "source": [
    "qry = '''\n",
    "    SELECT * FROM Stocks\n",
    "    WHERE EXTRACT(YEAR FROM Datetime) = 2023 \n",
    "    AND Stock = 'AAPL' \n",
    "    AND Interval = 1\n",
    "'''\n",
    "\n",
    "df = con.execute(qry).fetchdf()\n",
    "# Sort the Data from oldest to newest\n",
    "df = df.sort_values(by='Datetime').reset_index(drop=True)\n",
    "\n",
    "\n",
    "print(df.head())"
   ]
  },
  {
   "cell_type": "markdown",
   "metadata": {},
   "source": [
    "# Creating and Flattening the Data for:\n",
    "#### Packet Size (Only 1 min intervals)"
   ]
  },
  {
   "cell_type": "markdown",
   "metadata": {},
   "source": [
    "### Getting the Data, and calculating P/L"
   ]
  },
  {
   "cell_type": "code",
   "execution_count": 45,
   "metadata": {},
   "outputs": [
    {
     "name": "stdout",
     "output_type": "stream",
     "text": [
      "               Datetime        open        high         low       close  \\\n",
      "235 2023-01-03 09:01:00  130.037003  130.113998  129.942001  129.960999   \n",
      "236 2023-01-03 09:02:00  129.936996  129.964996  129.882996  129.921005   \n",
      "237 2023-01-03 09:03:00  129.917007  129.964996  129.882996  129.910995   \n",
      "238 2023-01-03 09:04:00  129.897995  129.934998  129.873001  129.882004   \n",
      "239 2023-01-03 09:05:00  129.927002  129.964996  129.875000  129.884003   \n",
      "\n",
      "      volume Stock  interval      Time  \n",
      "235  14208.0  AAPL       1.0  09:01:00  \n",
      "236   3281.0  AAPL       1.0  09:02:00  \n",
      "237   3530.0  AAPL       1.0  09:03:00  \n",
      "238   5429.0  AAPL       1.0  09:04:00  \n",
      "239   1600.0  AAPL       1.0  09:05:00  \n"
     ]
    }
   ],
   "source": [
    "df['Time'] = df['Datetime'].dt.time\n",
    "start_time = pd.to_datetime('09:00:00').time()\n",
    "end_time = pd.to_datetime('16:00:00').time()\n",
    "TradingDay_df = df[(df['Time']>start_time)&(df['Time']<end_time)]\n",
    "print(TradingDay_df.head())\n",
    "\n",
    "def trail_stoploss(index, tradingdata, whole_percentage):\n",
    "    idx = index\n",
    "    td = tradingdata\n",
    "    pct = whole_percentage/100\n",
    "    max_holdtime = 30 # Only hold the trade for twenty minutes\n",
    "\n",
    "    after_td = td.loc[idx:idx+max_holdtime+1] # Get the dataframe from the row you want until 100 minutes later\n",
    "    \n",
    "    basis = td['close'].loc[idx]\n",
    "    max_price = basis   # Initially the max price is the basis - No Shorting to Start\n",
    "    min_price = basis - (basis*pct)\n",
    "    time_stop = idx + max_holdtime \n",
    "    time_counter = idx\n",
    "    \n",
    "    #print(f\"Basis: {basis}\")\n",
    "\n",
    "    for i, row in after_td.iterrows():\n",
    "        close = row['close']\n",
    "        #print(f\"Close: {close}, Max: {max_price}, Min: {min_price}, Counter: {time_counter-idx}\")\n",
    "        if close > max_price:\n",
    "            max_price = close\n",
    "            min_price = max_price - (max_price * pct)\n",
    "        elif close < min_price:\n",
    "            profit = (close - basis) / basis\n",
    "            return [i, profit]\n",
    "        \n",
    "        time_counter += 1\n",
    "        if time_counter > time_stop:\n",
    "            break\n",
    "\n",
    "    # If the loop ends without triggering stop loss, calculate the profit based on the last close\n",
    "    profit = (close - basis) / basis\n",
    "    return [i, profit]\n",
    "            \n",
    "    \n",
    "\n",
    "\n"
   ]
  },
  {
   "cell_type": "code",
   "execution_count": 14,
   "metadata": {},
   "outputs": [
    {
     "name": "stdout",
     "output_type": "stream",
     "text": [
      "[Timestamp('2023-01-03 09:01:00') 130.03700256347656 130.11399841308594\n",
      " ... 'AAPL' 1.0 datetime.time(15, 59)]\n"
     ]
    }
   ],
   "source": [
    "Test_flat = TradingDay_df.values.flatten()\n",
    "print(Test_flat)"
   ]
  },
  {
   "cell_type": "code",
   "execution_count": 55,
   "metadata": {},
   "outputs": [
    {
     "name": "stdout",
     "output_type": "stream",
     "text": [
      "<class 'list'>\n"
     ]
    }
   ],
   "source": [
    "flattened_df100 = []\n",
    "columns100 = []\n",
    "flattened_df50 = []\n",
    "columns50 = []\n",
    "flattened_df20 = []\n",
    "columns20 = []\n",
    "flattened_df10 = []\n",
    "columns10 = []\n",
    "\n",
    "\n",
    "for index, row in TradingDay_df.iterrows():\n",
    "\n",
    "    # Always the Same\n",
    "    \n",
    "    profit = trail_stoploss(index, df, 5)\n",
    "\n",
    "    \n",
    "    # 100 Minutes\n",
    "    packet100open = df['open'].loc[index-99:index]\n",
    "    packet100close = df['close'].loc[index-99:index]\n",
    "\n",
    "    packet100 = pd.DataFrame({'open': packet100open, 'close': packet100close}) # Open, Close, EMA 20 , EMA 100, RSI \n",
    "    flatpack100 = list(packet100.values.flatten())\n",
    "\n",
    "    for i in range(len(packet100)):\n",
    "        columns100.append(f'open_{i+1}')\n",
    "        columns100.append(f'close_{i+1}')\n",
    "\n",
    "    # Trend Analysis\n",
    "    packet100['EMA100'] = ta.ema(packet100['close'], length=100)\n",
    "    packet100['EMA20'] = ta.ema(packet100['close'], length=20)\n",
    "    packet100['RSI'] = ta.rsi(packet100['close'])\n",
    "\n",
    "    EMA100_100 = packet100['EMA100'].loc[index]\n",
    "    EMA20_100 = packet100['EMA20'].loc[index]\n",
    "    RSI_100 = packet100['RSI'].loc[index]\n",
    "\n",
    "    addtional_flat = [EMA100_100, EMA20_100, RSI_100, profit]\n",
    "    additional_columns = [\"EMA100\",\"EMA20\",\"RSI\",\"Profit\"]\n",
    "    flatpack100.append(addtional_flat)\n",
    "    columns100.append(additional_columns)\n",
    "\n",
    "    # REPEAT FOR THE OTHER INTERVALS\n",
    "\n",
    "    break\n",
    "    # 50 Minutes\n",
    "    packet50 = df.loc[index-49:index] # Open, Close, EMA 20, EMA 50, RSI \n",
    "    # Trend Analysis\n",
    "    packet50['EMA50'] = ta.ema(packet50['close'], length=50)\n",
    "    packet50['EMA20'] = ta.ema(packet50['close'], length=20)\n",
    "    packet50['RSI'] = ta.rsi(packet50['close'])\n",
    "    # Flattening\n",
    "    \n",
    "\n",
    "    # 20 Minutes\n",
    "    packet20 = df.loc[index-19:index] # Open, Close, EMA 5, EMA 20, RSI\n",
    "    # Trend Analysis\n",
    "    packet20['EMA20'] = ta.ema(packet50['close'], length=20)\n",
    "    packet20['EMA5'] = ta.ema(packet50['close'], length=20)\n",
    "    packet20['RSI'] = ta.rsi(packet50['close'])\n",
    "\n",
    "\n",
    "    # 10 Minutes   \n",
    "    packet10 = df.loc[index-9:index] # Open, Close, EMA 10, RSI\n",
    "    # Trend Analysis\n",
    "    packet10['EMA10'] = ta.ema(packet10['close'], length=10)\n",
    "    packet10['RSI'] = ta.rsi(packet10['close'])\n",
    "    \n",
    "\n",
    "    \n",
    "    \n",
    "\n",
    "    \n",
    "    \n"
   ]
  }
 ],
 "metadata": {
  "kernelspec": {
   "display_name": "Python 3",
   "language": "python",
   "name": "python3"
  },
  "language_info": {
   "codemirror_mode": {
    "name": "ipython",
    "version": 3
   },
   "file_extension": ".py",
   "mimetype": "text/x-python",
   "name": "python",
   "nbconvert_exporter": "python",
   "pygments_lexer": "ipython3",
   "version": "3.11.9"
  },
  "orig_nbformat": 4
 },
 "nbformat": 4,
 "nbformat_minor": 2
}
