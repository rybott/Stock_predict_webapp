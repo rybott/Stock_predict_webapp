{
 "cells": [
  {
   "cell_type": "markdown",
   "metadata": {},
   "source": [
    "# Starting with just 2023 for my laptop "
   ]
  },
  {
   "cell_type": "code",
   "execution_count": 2,
   "metadata": {},
   "outputs": [
    {
     "name": "stdout",
     "output_type": "stream",
     "text": [
      "<duckdb.duckdb.DuckDBPyConnection object at 0x00000281EF7CD0B0>\n"
     ]
    }
   ],
   "source": [
    "import duckdb\n",
    "import pandas as pd\n",
    "import pandas_ta as ta\n",
    "\n",
    "con = duckdb.connect(r\"C:\\Users\\rybot\\OneDrive\\Databases\\datadump.duckdb\")\n",
    "print(con)"
   ]
  },
  {
   "cell_type": "code",
   "execution_count": 3,
   "metadata": {},
   "outputs": [
    {
     "name": "stdout",
     "output_type": "stream",
     "text": [
      "[('Stocks',)]\n"
     ]
    }
   ],
   "source": [
    "tables = con.execute('PRAGMA show_tables;').fetchall()\n",
    "print(tables)"
   ]
  },
  {
   "cell_type": "code",
   "execution_count": 4,
   "metadata": {},
   "outputs": [
    {
     "name": "stdout",
     "output_type": "stream",
     "text": [
      "             Datetime        open        high         low       close  volume  \\\n",
      "0 2023-01-03 04:00:00  129.391006  130.113998  129.386002  130.110001  5381.0   \n",
      "1 2023-01-03 04:01:00  129.977005  130.283005  129.972000  130.209000  6072.0   \n",
      "2 2023-01-03 04:02:00  130.285004  130.352005  130.270004  130.279007  1053.0   \n",
      "3 2023-01-03 04:03:00  130.294998  130.401993  130.289993  130.388000  1754.0   \n",
      "4 2023-01-03 04:04:00  130.384003  130.570999  130.378998  130.567001  3766.0   \n",
      "\n",
      "  Stock  interval  \n",
      "0  AAPL       1.0  \n",
      "1  AAPL       1.0  \n",
      "2  AAPL       1.0  \n",
      "3  AAPL       1.0  \n",
      "4  AAPL       1.0  \n"
     ]
    }
   ],
   "source": [
    "qry = '''\n",
    "    SELECT * FROM Stocks\n",
    "    WHERE EXTRACT(YEAR FROM Datetime) = 2023 \n",
    "    AND Stock = 'AAPL' \n",
    "    AND Interval = 1\n",
    "'''\n",
    "\n",
    "df = con.execute(qry).fetchdf()\n",
    "# Sort the Data from oldest to newest\n",
    "df = df.sort_values(by='Datetime').reset_index(drop=True)\n",
    "\n",
    "\n",
    "print(df.head())"
   ]
  },
  {
   "cell_type": "markdown",
   "metadata": {},
   "source": [
    "# Creating and Flattening the Data for:\n",
    "#### Packet Size (Only 1 min intervals)"
   ]
  },
  {
   "cell_type": "markdown",
   "metadata": {},
   "source": [
    "### Getting the Data, and calculating P/L"
   ]
  },
  {
   "cell_type": "code",
   "execution_count": 5,
   "metadata": {},
   "outputs": [
    {
     "name": "stdout",
     "output_type": "stream",
     "text": [
      "               Datetime        open        high         low       close  \\\n",
      "235 2023-01-03 09:01:00  130.037003  130.113998  129.942001  129.960999   \n",
      "236 2023-01-03 09:02:00  129.936996  129.964996  129.882996  129.921005   \n",
      "237 2023-01-03 09:03:00  129.917007  129.964996  129.882996  129.910995   \n",
      "238 2023-01-03 09:04:00  129.897995  129.934998  129.873001  129.882004   \n",
      "239 2023-01-03 09:05:00  129.927002  129.964996  129.875000  129.884003   \n",
      "\n",
      "      volume Stock  interval      Time  \n",
      "235  14208.0  AAPL       1.0  09:01:00  \n",
      "236   3281.0  AAPL       1.0  09:02:00  \n",
      "237   3530.0  AAPL       1.0  09:03:00  \n",
      "238   5429.0  AAPL       1.0  09:04:00  \n",
      "239   1600.0  AAPL       1.0  09:05:00  \n"
     ]
    }
   ],
   "source": [
    "df['Time'] = df['Datetime'].dt.time\n",
    "start_time = pd.to_datetime('09:00:00').time()\n",
    "end_time = pd.to_datetime('16:00:00').time()\n",
    "TradingDay_df = df[(df['Time']>start_time)&(df['Time']<end_time)]\n",
    "print(TradingDay_df.info())\n",
    "\n",
    "def trail_stoploss(index, tradingdata, whole_percentage):\n",
    "    idx = index\n",
    "    td = tradingdata\n",
    "    pct = whole_percentage/100\n",
    "    max_holdtime = 30 # Only hold the trade for twenty minutes\n",
    "\n",
    "    after_td = td.loc[idx:idx+max_holdtime+1] # Get the dataframe from the row you want until 100 minutes later\n",
    "    \n",
    "    basis = td['close'].loc[idx]\n",
    "    max_price = basis   # Initially the max price is the basis - No Shorting to Start\n",
    "    min_price = basis - (basis*pct)\n",
    "    time_stop = idx + max_holdtime \n",
    "    time_counter = idx\n",
    "    \n",
    "    #print(f\"Basis: {basis}\")\n",
    "\n",
    "    for i, row in after_td.iterrows():\n",
    "        close = row['close']\n",
    "        #print(f\"Close: {close}, Max: {max_price}, Min: {min_price}, Counter: {time_counter-idx}\")\n",
    "        if close > max_price:\n",
    "            max_price = close\n",
    "            min_price = max_price - (max_price * pct)\n",
    "        elif close < min_price:\n",
    "            profit = (close - basis) / basis\n",
    "            return [i, profit]\n",
    "        \n",
    "        time_counter += 1\n",
    "        if time_counter > time_stop:\n",
    "            break\n",
    "\n",
    "    # If the loop ends without triggering stop loss, calculate the profit based on the last close\n",
    "    profit = (close - basis) / basis\n",
    "    return [i, profit]\n",
    "            \n",
    "    \n",
    "\n",
    "\n"
   ]
  },
  {
   "cell_type": "code",
   "execution_count": 34,
   "metadata": {},
   "outputs": [
    {
     "name": "stdout",
     "output_type": "stream",
     "text": [
      "235\n"
     ]
    }
   ],
   "source": [
    "print(TradingDay_df.index[0])"
   ]
  },
  {
   "cell_type": "code",
   "execution_count": 18,
   "metadata": {},
   "outputs": [
    {
     "name": "stdout",
     "output_type": "stream",
     "text": [
      "10000\n",
      "15000\n",
      "20000\n",
      "30000\n",
      "40000\n",
      "45000\n",
      "50000\n",
      "55000\n",
      "60000\n",
      "70000\n",
      "75000\n",
      "80000\n",
      "100000\n",
      "115000\n",
      "120000\n",
      "140000\n",
      "145000\n",
      "160000\n",
      "165000\n",
      "180000\n",
      "185000\n",
      "200000\n",
      "220000\n"
     ]
    }
   ],
   "source": [
    "import os\n",
    "import csv\n",
    "\n",
    "columns = []\n",
    "flattened_df100 = []\n",
    "columns100 = []\n",
    "flattened_df50 = []\n",
    "columns50 = []\n",
    "flattened_df20 = []\n",
    "columns20 = []\n",
    "flattened_df10 = []\n",
    "columns10 = []\n",
    "\n",
    "First_Index = TradingDay_df.index[0]\n",
    "Index_Counter = First_Index\n",
    "\n",
    "# Creating the CSV Files\n",
    "# 100\n",
    "packet = df[['open', 'close']].loc[First_Index-99:First_Index]\n",
    "for i in range(len(packet)):\n",
    "        columns100.append(f'open_{i+1}')\n",
    "        columns100.append(f'close_{i+1}')\n",
    "columns100.extend([\"EMA100\",\"EMA20\",\"RSI\",\"Profit\"])\n",
    "with open('packet100.csv', 'a', newline='') as f:\n",
    "      csv.writer(f).writerow(columns100)\n",
    "\n",
    "# 50\n",
    "packet = df[['open', 'close']].loc[First_Index-49:First_Index]\n",
    "for i in range(len(packet)):\n",
    "        columns50.append(f'open_{i+1}')\n",
    "        columns50.append(f'close_{i+1}')\n",
    "columns50.extend([\"EMA50\",\"EMA20\",\"RSI\",\"Profit\"])\n",
    "with open('packet50.csv', 'a', newline='') as f:\n",
    "      csv.writer(f).writerow(columns50)\n",
    "\n",
    "# 20\n",
    "packet = df[['open', 'close']].loc[First_Index-19:First_Index]\n",
    "for i in range(len(packet)):\n",
    "        columns20.append(f'open_{i+1}')\n",
    "        columns20.append(f'close_{i+1}')\n",
    "columns20.extend([\"EMA20\",\"EMA5\",\"RSI\",\"Profit\"])\n",
    "with open('packet20.csv', 'a', newline='') as f:\n",
    "      csv.writer(f).writerow(columns20)\n",
    "\n",
    "#10\n",
    "packet = df[['open', 'close']].loc[First_Index-9:First_Index]\n",
    "for i in range(len(packet)):\n",
    "        columns10.append(f'open_{i+1}')\n",
    "        columns10.append(f'close_{i+1}')\n",
    "columns10.extend([\"EMA10\",\"RSI\",\"Profit\"])\n",
    "with open('packet10.csv', 'a', newline='') as f:\n",
    "      csv.writer(f).writerow(columns10)\n",
    "\n",
    "\n",
    "\n",
    "for index, row in TradingDay_df.iterrows():\n",
    "    \n",
    "    if index % 5000 ==0:\n",
    "         print(index)\n",
    "\n",
    "    profit = trail_stoploss(index, df, 5)[0]\n",
    "\n",
    "    # 100 Minutes\n",
    "    packet100 = df[['open', 'close']].loc[index-99:index]\n",
    "    flatpack100 = list(packet100.values.flatten())\n",
    "\n",
    "    packet100['EMA100'] = ta.ema(packet100['close'], length=100)\n",
    "    packet100['EMA20'] = ta.ema(packet100['close'], length=20)\n",
    "    packet100['RSI'] = ta.rsi(packet100['close'])\n",
    "\n",
    "    TA_100 = list(packet100[['EMA100','EMA20','RSI']].loc[index])\n",
    "    flatpack100.extend(TA_100)\n",
    "    flatpack100.append(profit)\n",
    "    with open('packet100.csv', 'a', newline='') as f:\n",
    "      csv.writer(f).writerow(flatpack100)\n",
    "\n",
    "    \n",
    "\n",
    "    # 50 Minutes\n",
    "    packet50 = df[['open', 'close']].loc[index-49:index]\n",
    "    flatpack50 = list(packet50.values.flatten())\n",
    "\n",
    "    # Trend Analysis\n",
    "    packet50['EMA50'] = ta.ema(packet50['close'], length=50)\n",
    "    packet50['EMA20'] = ta.ema(packet50['close'], length=20)\n",
    "    packet50['RSI'] = ta.rsi(packet50['close'])\n",
    "\n",
    "    TA_50 = list(packet50[['EMA50','EMA20','RSI']].loc[index])\n",
    "    flatpack50.extend(TA_50)\n",
    "    flatpack50.append(profit)\n",
    "    with open('packet50.csv', 'a', newline='') as f:\n",
    "      csv.writer(f).writerow(flatpack50)\n",
    "\n",
    "\n",
    "    # 20 Minutes\n",
    "    packet20 = df[['open', 'close']].loc[index-19:index]\n",
    "    flatpack20 = list(packet20.values.flatten())\n",
    "\n",
    "    # Trend Analysis\n",
    "    packet20['EMA20'] = ta.ema(packet20['close'], length=20)\n",
    "    packet20['EMA5'] = ta.ema(packet20['close'], length=5)\n",
    "    packet20['RSI'] = ta.rsi(packet20['close'])\n",
    "\n",
    "    TA_20 = list(packet20[['EMA20','EMA5','RSI']].loc[index])\n",
    "    flatpack20.extend(TA_20)\n",
    "    flatpack20.append(profit)\n",
    "    with open('packet20.csv', 'a', newline='') as f:\n",
    "      csv.writer(f).writerow(flatpack20)\n",
    "\n",
    "\n",
    "    # 10 Minutes   \n",
    "\n",
    "    packet10 = df[['open', 'close']].loc[index-9:index]\n",
    "    flatpack10 = list(packet10.values.flatten())\n",
    "\n",
    "    # Trend Analysis\n",
    "    packet10['EMA10'] = ta.ema(packet10['close'], length=10)\n",
    "    packet10['RSI'] = ta.rsi(packet10['close'], length=8)\n",
    "\n",
    "    TA_10 = list(packet10[['EMA10','RSI']].loc[index])\n",
    "    flatpack10.extend(TA_10)\n",
    "    flatpack10.append(profit)\n",
    "    with open('packet10.csv', 'a', newline='') as f:\n",
    "      csv.writer(f).writerow(flatpack10)\n",
    "    \n",
    "\n",
    "    \n"
   ]
  },
  {
   "cell_type": "code",
   "execution_count": null,
   "metadata": {},
   "outputs": [],
   "source": [
    "index = 235\n",
    "\n",
    "TA_20 = list(packet100[['EMA20','EMA5','RSI']].loc[index])"
   ]
  }
 ],
 "metadata": {
  "kernelspec": {
   "display_name": "Python 3",
   "language": "python",
   "name": "python3"
  },
  "language_info": {
   "codemirror_mode": {
    "name": "ipython",
    "version": 3
   },
   "file_extension": ".py",
   "mimetype": "text/x-python",
   "name": "python",
   "nbconvert_exporter": "python",
   "pygments_lexer": "ipython3",
   "version": "3.11.9"
  },
  "orig_nbformat": 4
 },
 "nbformat": 4,
 "nbformat_minor": 2
}
