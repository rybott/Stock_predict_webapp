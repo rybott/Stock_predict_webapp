{
 "cells": [
  {
   "cell_type": "code",
   "execution_count": 5,
   "metadata": {},
   "outputs": [
    {
     "name": "stdout",
     "output_type": "stream",
     "text": [
      "<class 'pandas.core.frame.DataFrame'>\n",
      "RangeIndex: 104714 entries, 0 to 104713\n",
      "Data columns (total 23 columns):\n",
      " #   Column    Non-Null Count   Dtype  \n",
      "---  ------    --------------   -----  \n",
      " 0   open_1    104714 non-null  float64\n",
      " 1   close_1   104714 non-null  float64\n",
      " 2   open_2    104714 non-null  float64\n",
      " 3   close_2   104714 non-null  float64\n",
      " 4   open_3    104714 non-null  float64\n",
      " 5   close_3   104714 non-null  float64\n",
      " 6   open_4    104714 non-null  float64\n",
      " 7   close_4   104714 non-null  float64\n",
      " 8   open_5    104714 non-null  float64\n",
      " 9   close_5   104714 non-null  float64\n",
      " 10  open_6    104714 non-null  float64\n",
      " 11  close_6   104714 non-null  float64\n",
      " 12  open_7    104714 non-null  float64\n",
      " 13  close_7   104714 non-null  float64\n",
      " 14  open_8    104714 non-null  float64\n",
      " 15  close_8   104714 non-null  float64\n",
      " 16  open_9    104714 non-null  float64\n",
      " 17  close_9   104714 non-null  float64\n",
      " 18  open_10   104714 non-null  float64\n",
      " 19  close_10  104714 non-null  float64\n",
      " 20  EMA10     104714 non-null  float64\n",
      " 21  RSI       104713 non-null  float64\n",
      " 22  Profit    104714 non-null  int64  \n",
      "dtypes: float64(22), int64(1)\n",
      "memory usage: 18.4 MB\n",
      "None\n"
     ]
    }
   ],
   "source": [
    "import pandas as pd\n",
    "import xgboost\n",
    "\n",
    "packet_size = [10,20,50,100]\n",
    "size = 10\n",
    "\n",
    "df = pd.read_csv(f\"C:/Users/rybot/OneDrive/Databases/Packet CSV files/packet{size}.csv\")\n",
    "print(csv_data.info())\n",
    "\n",
    "x = \n",
    "y = df['Profit'].copy()"
   ]
  }
 ],
 "metadata": {
  "kernelspec": {
   "display_name": "Python 3",
   "language": "python",
   "name": "python3"
  },
  "language_info": {
   "codemirror_mode": {
    "name": "ipython",
    "version": 3
   },
   "file_extension": ".py",
   "mimetype": "text/x-python",
   "name": "python",
   "nbconvert_exporter": "python",
   "pygments_lexer": "ipython3",
   "version": "3.11.4"
  },
  "orig_nbformat": 4
 },
 "nbformat": 4,
 "nbformat_minor": 2
}
