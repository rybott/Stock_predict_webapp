{
 "cells": [
  {
   "cell_type": "code",
   "execution_count": null,
   "metadata": {},
   "outputs": [],
   "source": [
    "url = f'https://www.alphavantage.co/query?function=TIME_SERIES_INTRADAY&symbol={ticker}&interval={inter}min&month={yr}-{mth}&apikey={api_key}'\n",
    "    r = requests.get(url)\n",
    "    print(r)\n",
    "    key = f'Time Series ({inter}min)'\n",
    "    data = r.json().get(key, {})\n",
    "    df = pd.DataFrame.from_dict(data, orient='index')"
   ]
  }
 ],
 "metadata": {
  "language_info": {
   "name": "python"
  },
  "orig_nbformat": 4
 },
 "nbformat": 4,
 "nbformat_minor": 2
}
