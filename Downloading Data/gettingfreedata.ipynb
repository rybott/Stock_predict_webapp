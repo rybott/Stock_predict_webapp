{
 "cells": [
  {
   "cell_type": "markdown",
   "metadata": {},
   "source": [
    "# Get Dataset and then put it into Excel"
   ]
  },
  {
   "cell_type": "code",
   "execution_count": null,
   "metadata": {},
   "outputs": [],
   "source": [
    "import requests\n",
    "import os\n",
    "import pandas as pd\n",
    "import time\n",
    "import datetime\n",
    "\n",
    "ticker = 'AAPL'\n",
    "inter = '1'\n",
    "yr = '2024'\n",
    "mth = '2'\n",
    "api_key = '0S92QX7GKGAOSWED'\n",
    "\n",
    "\n",
    "url = f'https://www.alphavantage.co/query?function=TIME_SERIES_INTRADAY&symbol={ticker}&interval={inter}min&month={yr}-{mth}&outputsize=full&apikey={api_key}'\n",
    "r = requests.get(url)\n",
    "print(r)\n",
    "key = f'Time Series ({inter}min)'\n",
    "data = r.json().get(key, {})\n",
    "df = pd.DataFrame.from_dict(data, orient='index')\n",
    "print(df.info())\n",
    "\n",
    "with pd.ExcelWriter('freealphadata.xlsx') as writer:\n",
    "    df.to_excel(writer, sheet_name='Sheet1', index=False)"
   ]
  },
  {
   "cell_type": "code",
   "execution_count": null,
   "metadata": {},
   "outputs": [],
   "source": [
    "import pandas as pd\n",
    "\n",
    "df = pd.read_excel('freealphadata.xlsx')\n",
    "\n",
    "for packet in df.iterrows():\n",
    "    "
   ]
  }
 ],
 "metadata": {
  "kernelspec": {
   "display_name": "Python 3",
   "language": "python",
   "name": "python3"
  },
  "language_info": {
   "codemirror_mode": {
    "name": "ipython",
    "version": 3
   },
   "file_extension": ".py",
   "mimetype": "text/x-python",
   "name": "python",
   "nbconvert_exporter": "python",
   "pygments_lexer": "ipython3",
   "version": "3.11.4"
  },
  "orig_nbformat": 4
 },
 "nbformat": 4,
 "nbformat_minor": 2
}
